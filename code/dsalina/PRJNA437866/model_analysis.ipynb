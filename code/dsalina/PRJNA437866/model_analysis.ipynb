{
 "cells": [
  {
   "cell_type": "code",
   "execution_count": 61,
   "id": "b00c5850-d1c7-44ae-8e38-9420a8b19f8a",
   "metadata": {},
   "outputs": [],
   "source": [
    "import pandas as pd\n",
    "from sklearn.preprocessing import OneHotEncoder\n",
    "from sklearn.manifold import TSNE\n",
    "import matplotlib.pyplot as plt\n",
    "import seaborn as sns\n",
    "from sklearn.decomposition import PCA\n",
    "from prince import MCA\n",
    "import conorm\n",
    "import sys\n",
    "import os\n",
    "sys.path.append(os.path.join(os.getcwd(), \"../../\"))\n",
    "sys.path.append(os.path.join(os.getcwd(), \"../../nextflow\"))\n",
    "from pca_analysis import plot, rank_models_difference\n",
    "import plotly.express as px\n",
    "from gsmmutils.omics.omics_integration import OmicsIntegration \n",
    "from gsmmutils.model.COBRAmodel import MyModel\n",
    "DATA_PATH = \"/home/ecunha/omics-integration/data/dsalina/PRJNA437866\"\n",
    "RESULTS_PATH = \"/home/ecunha/omics-integration/results/dsalina/PRJNA437866/integration/\"\n",
    "os.chdir(DATA_PATH)"
   ]
  },
  {
   "cell_type": "code",
   "execution_count": 62,
   "id": "5a50fabb-b81a-454b-866d-400a930ab334",
   "metadata": {},
   "outputs": [],
   "source": [
    "fastcore = pd.read_csv(os.path.join(RESULTS_PATH, \"fastcore_local_t2_3_1_2.csv\"), index_col=0)\n",
    "gimme = pd.read_csv(os.path.join(RESULTS_PATH, \"gimme_local_t2_3_1_2.csv\"), index_col=0)\n",
    "fastcore = fastcore.astype(int)\n",
    "gimme = gimme.astype(int)\n",
    "data = pd.concat([fastcore, gimme])\n",
    "control = data.filter(regex=\"^control*\", axis=0)\n",
    "sorb = data.filter(regex=\"^sorb.*\", axis=0)\n",
    "h2o2 = data.filter(regex=\"^h2o2.*\", axis=0)\n",
    "nacl = data.filter(regex=\"^nacl.*\", axis=0)"
   ]
  },
  {
   "cell_type": "code",
   "execution_count": 63,
   "id": "0b84e304-5c10-42cd-a7ff-619c2545a7df",
   "metadata": {
    "scrolled": true
   },
   "outputs": [
    {
     "data": {
      "application/vnd.plotly.v1+json": {
       "config": {
        "plotlyServerURL": "https://plot.ly"
       },
       "data": [
        {
         "hovertemplate": "color=FASTCORE<br>x=%{x}<br>y=%{y}<extra></extra>",
         "legendgroup": "FASTCORE",
         "marker": {
          "color": "#636efa",
          "symbol": "circle"
         },
         "mode": "markers",
         "name": "FASTCORE",
         "orientation": "v",
         "showlegend": true,
         "type": "scatter",
         "x": [
          -0.5809960493720951,
          -0.5747626259833925,
          -0.5850358965429084,
          -0.5859429288555934,
          -0.5809960493720951,
          -0.5747626259833925,
          -0.5850358965429084,
          -0.5859429288555934,
          -0.5738263786113692,
          -0.5554010316111526,
          -0.5681083520199507,
          -0.5436994567796075,
          -0.5554548898994853,
          -0.5220069953391575,
          -0.529574830009747,
          -0.5040713650713542,
          -0.5282522895733837,
          -0.479149721321622,
          -0.5087409860803734,
          -0.4612921934080735,
          -0.490867792667273,
          -0.445467523342742,
          -0.4639288611169317,
          -0.4320940021146648,
          -0.470493674639148,
          -0.42624914436228684,
          -0.223654884845792,
          -0.31630430226032086,
          -0.25885166865741815,
          -0.291706795727347,
          -0.1876866651556836,
          -0.17813596695627787,
          -0.11869948068594245,
          -0.06788729026636393,
          -0.06215632533621052,
          0.04500173693616195,
          -0.09304266779651953,
          -0.02877328389188144,
          -0.017097540009056292,
          0.06926819402109963,
          -0.04602030465903633,
          0.023198910011654247,
          0.038381657400502825,
          0.1376202793564384,
          -0.0020060875129116027,
          0.05331116138048022,
          0.07724595235614451,
          0.20554126563503597,
          0.023615870663732063,
          0.10358254168641798,
          0.12465573214171076,
          0.26598828030426086,
          0.10391715631982515,
          0.12257242557370103,
          0.1524324357303378,
          0.2776463196651554,
          0.137047214527636,
          0.14735160443826853,
          0.1803523292743281,
          0.31333457629784855,
          0.14257462232819057,
          0.15061030321012062,
          0.1916656441645695,
          0.32148171120585023,
          0.18783219207134758,
          0.20173252669774913,
          0.21880868845169782,
          0.3760600887721745,
          0.1970473480120032,
          0.21100997615947642,
          0.24938633394477622,
          0.3776570172226015,
          0.2140412772831501,
          0.23588453359251393,
          0.26604681736224944,
          0.40157388925774135
         ],
         "xaxis": "x",
         "y": [
          0.05835179918744194,
          0.062126309677475317,
          0.04027300933949318,
          0.055899326875746544,
          0.05835179918744194,
          0.062126309677475317,
          0.04027300933949318,
          0.055899326875746544,
          0.07377421403021121,
          0.07307434230362628,
          0.0545045404921712,
          0.07726561535754664,
          0.06612512918220056,
          0.09949642917700612,
          0.09293686512590882,
          0.10116008468258857,
          0.08144277154699933,
          0.12071721535954505,
          0.08879404139752531,
          0.12027057503873016,
          0.10850260278024373,
          0.13915762324991227,
          0.10685196087037772,
          0.144514850552792,
          0.13145797099126938,
          0.1492084009773408,
          0.2097629414752462,
          0.1941099714091272,
          0.2075280523066188,
          0.18937107173767687,
          0.22067323490015073,
          0.2452143166569389,
          0.3144908306049688,
          0.32239406553510114,
          0.2922141385609861,
          0.19109054280542187,
          0.31707476468335616,
          0.35122657337872565,
          0.3255324803959669,
          0.22007393669424122,
          0.34528899179422806,
          0.37151036969561985,
          0.34710656505726045,
          0.24682867611659454,
          0.3705795210216721,
          0.3768138105710792,
          0.3487813756369002,
          0.2580322600050355,
          0.3874555466197897,
          0.40601613066290804,
          0.38647761644041634,
          0.2567256565924044,
          0.4139815236081669,
          0.4202527065059768,
          0.3960658453144044,
          0.26513501925212224,
          0.41673970108553643,
          0.41854931844232945,
          0.39172634436234577,
          0.28178518046694545,
          0.4363990223025664,
          0.4289377878339221,
          0.4025332035797612,
          0.2876532698500369,
          0.45920045852076113,
          0.4546168828588262,
          0.3948894505638755,
          0.28912456689641663,
          0.4578865655420134,
          0.4444301028555618,
          0.4113671169354687,
          0.2850021846606974,
          0.43161842625615304,
          0.43823524943033854,
          0.4070234391205963,
          0.30159832103976786
         ],
         "yaxis": "y"
        },
        {
         "hovertemplate": "color=GIMME<br>x=%{x}<br>y=%{y}<extra></extra>",
         "legendgroup": "GIMME",
         "marker": {
          "color": "#EF553B",
          "symbol": "circle"
         },
         "mode": "markers",
         "name": "GIMME",
         "orientation": "v",
         "showlegend": true,
         "type": "scatter",
         "x": [
          -0.6033709712546472,
          -0.5991430342148869,
          -0.6116802984112182,
          -0.6056393440408454,
          -0.6033709712546472,
          -0.5991430342148869,
          -0.6116802984112182,
          -0.6056393440408454,
          -0.5960540017710966,
          -0.5672148749334498,
          -0.5899086011587661,
          -0.5601448139479088,
          -0.5576809901708706,
          -0.5199335340767962,
          -0.5291380068755761,
          -0.4828754964552785,
          -0.5445560073284383,
          -0.4595007662077092,
          -0.5155294964193938,
          -0.4414535523891998,
          -0.48397595104050284,
          -0.43403767118282455,
          -0.4615844236336934,
          -0.39816259453486785,
          -0.4460970063706716,
          -0.38605284920090976,
          -0.211579728417997,
          -0.2990279521230825,
          -0.21720470083660082,
          -0.2468371795025011,
          -0.17394956004189563,
          -0.13600411788311154,
          0.3027758742715956,
          0.33763299421444604,
          0.32898599095519926,
          0.3946069255062794,
          0.34065930760065666,
          0.37414309797698614,
          0.36874789024325616,
          0.43611131388419744,
          0.3673731426611567,
          0.4389234031991986,
          0.4304710592472728,
          0.48444737360284373,
          0.42139803459973835,
          0.470784287284668,
          0.48620110860255894,
          0.5462692140156823,
          0.48947754285072725,
          0.5568261555163976,
          0.5403107879900809,
          0.6222909448061179,
          0.5644047489337266,
          0.577725563621507,
          0.5727103368626365,
          0.6471248276757271,
          0.5815011110097624,
          0.5983824606929473,
          0.596908976609923,
          0.6699773571115046,
          0.5982410764080404,
          0.6063349363408914,
          0.6079047079534431,
          0.6799733727019328,
          0.643296811596372,
          0.6576588709571984,
          0.6244053540439212,
          0.7191631772686876,
          0.6617110287018703,
          0.6651627054847262,
          0.661719914328255,
          0.7280457957358166,
          0.6658543162887485,
          0.6783131306428247,
          0.6769097698583241,
          0.7350035122685982
         ],
         "xaxis": "x",
         "y": [
          -0.2748602379848561,
          -0.2623180533134147,
          -0.28164905432050324,
          -0.29273402852772273,
          -0.2748602379848561,
          -0.2623180533134147,
          -0.28164905432050324,
          -0.29273402852772273,
          -0.2853701745679045,
          -0.31037595663347667,
          -0.29895671932863405,
          -0.3139959618609511,
          -0.2930885054965912,
          -0.338063964407621,
          -0.2806542210473232,
          -0.32816205741194526,
          -0.3271594842293112,
          -0.3441288886870857,
          -0.27813964150801107,
          -0.3380328850811617,
          -0.3073365704519974,
          -0.3458631324377056,
          -0.33490698817870457,
          -0.3233268727904973,
          -0.3353573428403767,
          -0.35709918141515845,
          -0.22979094831325172,
          -0.2870515737414071,
          -0.24797179495358293,
          -0.31729201994988376,
          -0.23654256899507708,
          -0.2637187776473879,
          -0.24655642938331096,
          -0.24130941183980076,
          -0.25160227030167104,
          -0.1978896701263359,
          -0.25494255433894,
          -0.23438814476226347,
          -0.2471687548440167,
          -0.19020346928767998,
          -0.24528051265811926,
          -0.23167229698455086,
          -0.25310535021510916,
          -0.18745720644739247,
          -0.23574391715207882,
          -0.22868481955767636,
          -0.2338905757464291,
          -0.18296454642470553,
          -0.2623372020022419,
          -0.23721065389758095,
          -0.2366027227344014,
          -0.19105491090067547,
          -0.24385884826545226,
          -0.23076880198666685,
          -0.2482169017760593,
          -0.1920536391272566,
          -0.22553462080306727,
          -0.22267448157495356,
          -0.2499757061976377,
          -0.1965070878904114,
          -0.22149916820844315,
          -0.2256550400632964,
          -0.2498539809018002,
          -0.2043594436323542,
          -0.20971459685852595,
          -0.20147653573758753,
          -0.23610922406726745,
          -0.19454293483991753,
          -0.1992481679490089,
          -0.20381011742029503,
          -0.23680908100154083,
          -0.1923885748094295,
          -0.19728856952894078,
          -0.19161548260840383,
          -0.2196351497921096,
          -0.17051069700588367
         ],
         "yaxis": "y"
        }
       ],
       "layout": {
        "coloraxis": {
         "colorbar": {
          "ticks": "outside",
          "title": {
           "text": "Threshold"
          },
          "x": 1.1,
          "y": 1.02,
          "yanchor": "top"
         }
        },
        "height": 360,
        "legend": {
         "title": {
          "text": ""
         },
         "tracegroupgap": 0
        },
        "margin": {
         "b": 20,
         "l": 20,
         "r": 20,
         "t": 20
        },
        "template": {
         "data": {
          "bar": [
           {
            "error_x": {
             "color": "#2a3f5f"
            },
            "error_y": {
             "color": "#2a3f5f"
            },
            "marker": {
             "line": {
              "color": "#E5ECF6",
              "width": 0.5
             },
             "pattern": {
              "fillmode": "overlay",
              "size": 10,
              "solidity": 0.2
             }
            },
            "type": "bar"
           }
          ],
          "barpolar": [
           {
            "marker": {
             "line": {
              "color": "#E5ECF6",
              "width": 0.5
             },
             "pattern": {
              "fillmode": "overlay",
              "size": 10,
              "solidity": 0.2
             }
            },
            "type": "barpolar"
           }
          ],
          "carpet": [
           {
            "aaxis": {
             "endlinecolor": "#2a3f5f",
             "gridcolor": "white",
             "linecolor": "white",
             "minorgridcolor": "white",
             "startlinecolor": "#2a3f5f"
            },
            "baxis": {
             "endlinecolor": "#2a3f5f",
             "gridcolor": "white",
             "linecolor": "white",
             "minorgridcolor": "white",
             "startlinecolor": "#2a3f5f"
            },
            "type": "carpet"
           }
          ],
          "choropleth": [
           {
            "colorbar": {
             "outlinewidth": 0,
             "ticks": ""
            },
            "type": "choropleth"
           }
          ],
          "contour": [
           {
            "colorbar": {
             "outlinewidth": 0,
             "ticks": ""
            },
            "colorscale": [
             [
              0,
              "#0d0887"
             ],
             [
              0.1111111111111111,
              "#46039f"
             ],
             [
              0.2222222222222222,
              "#7201a8"
             ],
             [
              0.3333333333333333,
              "#9c179e"
             ],
             [
              0.4444444444444444,
              "#bd3786"
             ],
             [
              0.5555555555555556,
              "#d8576b"
             ],
             [
              0.6666666666666666,
              "#ed7953"
             ],
             [
              0.7777777777777778,
              "#fb9f3a"
             ],
             [
              0.8888888888888888,
              "#fdca26"
             ],
             [
              1,
              "#f0f921"
             ]
            ],
            "type": "contour"
           }
          ],
          "contourcarpet": [
           {
            "colorbar": {
             "outlinewidth": 0,
             "ticks": ""
            },
            "type": "contourcarpet"
           }
          ],
          "heatmap": [
           {
            "colorbar": {
             "outlinewidth": 0,
             "ticks": ""
            },
            "colorscale": [
             [
              0,
              "#0d0887"
             ],
             [
              0.1111111111111111,
              "#46039f"
             ],
             [
              0.2222222222222222,
              "#7201a8"
             ],
             [
              0.3333333333333333,
              "#9c179e"
             ],
             [
              0.4444444444444444,
              "#bd3786"
             ],
             [
              0.5555555555555556,
              "#d8576b"
             ],
             [
              0.6666666666666666,
              "#ed7953"
             ],
             [
              0.7777777777777778,
              "#fb9f3a"
             ],
             [
              0.8888888888888888,
              "#fdca26"
             ],
             [
              1,
              "#f0f921"
             ]
            ],
            "type": "heatmap"
           }
          ],
          "heatmapgl": [
           {
            "colorbar": {
             "outlinewidth": 0,
             "ticks": ""
            },
            "colorscale": [
             [
              0,
              "#0d0887"
             ],
             [
              0.1111111111111111,
              "#46039f"
             ],
             [
              0.2222222222222222,
              "#7201a8"
             ],
             [
              0.3333333333333333,
              "#9c179e"
             ],
             [
              0.4444444444444444,
              "#bd3786"
             ],
             [
              0.5555555555555556,
              "#d8576b"
             ],
             [
              0.6666666666666666,
              "#ed7953"
             ],
             [
              0.7777777777777778,
              "#fb9f3a"
             ],
             [
              0.8888888888888888,
              "#fdca26"
             ],
             [
              1,
              "#f0f921"
             ]
            ],
            "type": "heatmapgl"
           }
          ],
          "histogram": [
           {
            "marker": {
             "pattern": {
              "fillmode": "overlay",
              "size": 10,
              "solidity": 0.2
             }
            },
            "type": "histogram"
           }
          ],
          "histogram2d": [
           {
            "colorbar": {
             "outlinewidth": 0,
             "ticks": ""
            },
            "colorscale": [
             [
              0,
              "#0d0887"
             ],
             [
              0.1111111111111111,
              "#46039f"
             ],
             [
              0.2222222222222222,
              "#7201a8"
             ],
             [
              0.3333333333333333,
              "#9c179e"
             ],
             [
              0.4444444444444444,
              "#bd3786"
             ],
             [
              0.5555555555555556,
              "#d8576b"
             ],
             [
              0.6666666666666666,
              "#ed7953"
             ],
             [
              0.7777777777777778,
              "#fb9f3a"
             ],
             [
              0.8888888888888888,
              "#fdca26"
             ],
             [
              1,
              "#f0f921"
             ]
            ],
            "type": "histogram2d"
           }
          ],
          "histogram2dcontour": [
           {
            "colorbar": {
             "outlinewidth": 0,
             "ticks": ""
            },
            "colorscale": [
             [
              0,
              "#0d0887"
             ],
             [
              0.1111111111111111,
              "#46039f"
             ],
             [
              0.2222222222222222,
              "#7201a8"
             ],
             [
              0.3333333333333333,
              "#9c179e"
             ],
             [
              0.4444444444444444,
              "#bd3786"
             ],
             [
              0.5555555555555556,
              "#d8576b"
             ],
             [
              0.6666666666666666,
              "#ed7953"
             ],
             [
              0.7777777777777778,
              "#fb9f3a"
             ],
             [
              0.8888888888888888,
              "#fdca26"
             ],
             [
              1,
              "#f0f921"
             ]
            ],
            "type": "histogram2dcontour"
           }
          ],
          "mesh3d": [
           {
            "colorbar": {
             "outlinewidth": 0,
             "ticks": ""
            },
            "type": "mesh3d"
           }
          ],
          "parcoords": [
           {
            "line": {
             "colorbar": {
              "outlinewidth": 0,
              "ticks": ""
             }
            },
            "type": "parcoords"
           }
          ],
          "pie": [
           {
            "automargin": true,
            "type": "pie"
           }
          ],
          "scatter": [
           {
            "fillpattern": {
             "fillmode": "overlay",
             "size": 10,
             "solidity": 0.2
            },
            "type": "scatter"
           }
          ],
          "scatter3d": [
           {
            "line": {
             "colorbar": {
              "outlinewidth": 0,
              "ticks": ""
             }
            },
            "marker": {
             "colorbar": {
              "outlinewidth": 0,
              "ticks": ""
             }
            },
            "type": "scatter3d"
           }
          ],
          "scattercarpet": [
           {
            "marker": {
             "colorbar": {
              "outlinewidth": 0,
              "ticks": ""
             }
            },
            "type": "scattercarpet"
           }
          ],
          "scattergeo": [
           {
            "marker": {
             "colorbar": {
              "outlinewidth": 0,
              "ticks": ""
             }
            },
            "type": "scattergeo"
           }
          ],
          "scattergl": [
           {
            "marker": {
             "colorbar": {
              "outlinewidth": 0,
              "ticks": ""
             }
            },
            "type": "scattergl"
           }
          ],
          "scattermapbox": [
           {
            "marker": {
             "colorbar": {
              "outlinewidth": 0,
              "ticks": ""
             }
            },
            "type": "scattermapbox"
           }
          ],
          "scatterpolar": [
           {
            "marker": {
             "colorbar": {
              "outlinewidth": 0,
              "ticks": ""
             }
            },
            "type": "scatterpolar"
           }
          ],
          "scatterpolargl": [
           {
            "marker": {
             "colorbar": {
              "outlinewidth": 0,
              "ticks": ""
             }
            },
            "type": "scatterpolargl"
           }
          ],
          "scatterternary": [
           {
            "marker": {
             "colorbar": {
              "outlinewidth": 0,
              "ticks": ""
             }
            },
            "type": "scatterternary"
           }
          ],
          "surface": [
           {
            "colorbar": {
             "outlinewidth": 0,
             "ticks": ""
            },
            "colorscale": [
             [
              0,
              "#0d0887"
             ],
             [
              0.1111111111111111,
              "#46039f"
             ],
             [
              0.2222222222222222,
              "#7201a8"
             ],
             [
              0.3333333333333333,
              "#9c179e"
             ],
             [
              0.4444444444444444,
              "#bd3786"
             ],
             [
              0.5555555555555556,
              "#d8576b"
             ],
             [
              0.6666666666666666,
              "#ed7953"
             ],
             [
              0.7777777777777778,
              "#fb9f3a"
             ],
             [
              0.8888888888888888,
              "#fdca26"
             ],
             [
              1,
              "#f0f921"
             ]
            ],
            "type": "surface"
           }
          ],
          "table": [
           {
            "cells": {
             "fill": {
              "color": "#EBF0F8"
             },
             "line": {
              "color": "white"
             }
            },
            "header": {
             "fill": {
              "color": "#C8D4E3"
             },
             "line": {
              "color": "white"
             }
            },
            "type": "table"
           }
          ]
         },
         "layout": {
          "annotationdefaults": {
           "arrowcolor": "#2a3f5f",
           "arrowhead": 0,
           "arrowwidth": 1
          },
          "autotypenumbers": "strict",
          "coloraxis": {
           "colorbar": {
            "outlinewidth": 0,
            "ticks": ""
           }
          },
          "colorscale": {
           "diverging": [
            [
             0,
             "#8e0152"
            ],
            [
             0.1,
             "#c51b7d"
            ],
            [
             0.2,
             "#de77ae"
            ],
            [
             0.3,
             "#f1b6da"
            ],
            [
             0.4,
             "#fde0ef"
            ],
            [
             0.5,
             "#f7f7f7"
            ],
            [
             0.6,
             "#e6f5d0"
            ],
            [
             0.7,
             "#b8e186"
            ],
            [
             0.8,
             "#7fbc41"
            ],
            [
             0.9,
             "#4d9221"
            ],
            [
             1,
             "#276419"
            ]
           ],
           "sequential": [
            [
             0,
             "#0d0887"
            ],
            [
             0.1111111111111111,
             "#46039f"
            ],
            [
             0.2222222222222222,
             "#7201a8"
            ],
            [
             0.3333333333333333,
             "#9c179e"
            ],
            [
             0.4444444444444444,
             "#bd3786"
            ],
            [
             0.5555555555555556,
             "#d8576b"
            ],
            [
             0.6666666666666666,
             "#ed7953"
            ],
            [
             0.7777777777777778,
             "#fb9f3a"
            ],
            [
             0.8888888888888888,
             "#fdca26"
            ],
            [
             1,
             "#f0f921"
            ]
           ],
           "sequentialminus": [
            [
             0,
             "#0d0887"
            ],
            [
             0.1111111111111111,
             "#46039f"
            ],
            [
             0.2222222222222222,
             "#7201a8"
            ],
            [
             0.3333333333333333,
             "#9c179e"
            ],
            [
             0.4444444444444444,
             "#bd3786"
            ],
            [
             0.5555555555555556,
             "#d8576b"
            ],
            [
             0.6666666666666666,
             "#ed7953"
            ],
            [
             0.7777777777777778,
             "#fb9f3a"
            ],
            [
             0.8888888888888888,
             "#fdca26"
            ],
            [
             1,
             "#f0f921"
            ]
           ]
          },
          "colorway": [
           "#636efa",
           "#EF553B",
           "#00cc96",
           "#ab63fa",
           "#FFA15A",
           "#19d3f3",
           "#FF6692",
           "#B6E880",
           "#FF97FF",
           "#FECB52"
          ],
          "font": {
           "color": "#2a3f5f"
          },
          "geo": {
           "bgcolor": "white",
           "lakecolor": "white",
           "landcolor": "#E5ECF6",
           "showlakes": true,
           "showland": true,
           "subunitcolor": "white"
          },
          "hoverlabel": {
           "align": "left"
          },
          "hovermode": "closest",
          "mapbox": {
           "style": "light"
          },
          "paper_bgcolor": "white",
          "plot_bgcolor": "#E5ECF6",
          "polar": {
           "angularaxis": {
            "gridcolor": "white",
            "linecolor": "white",
            "ticks": ""
           },
           "bgcolor": "#E5ECF6",
           "radialaxis": {
            "gridcolor": "white",
            "linecolor": "white",
            "ticks": ""
           }
          },
          "scene": {
           "xaxis": {
            "backgroundcolor": "#E5ECF6",
            "gridcolor": "white",
            "gridwidth": 2,
            "linecolor": "white",
            "showbackground": true,
            "ticks": "",
            "zerolinecolor": "white"
           },
           "yaxis": {
            "backgroundcolor": "#E5ECF6",
            "gridcolor": "white",
            "gridwidth": 2,
            "linecolor": "white",
            "showbackground": true,
            "ticks": "",
            "zerolinecolor": "white"
           },
           "zaxis": {
            "backgroundcolor": "#E5ECF6",
            "gridcolor": "white",
            "gridwidth": 2,
            "linecolor": "white",
            "showbackground": true,
            "ticks": "",
            "zerolinecolor": "white"
           }
          },
          "shapedefaults": {
           "line": {
            "color": "#2a3f5f"
           }
          },
          "ternary": {
           "aaxis": {
            "gridcolor": "white",
            "linecolor": "white",
            "ticks": ""
           },
           "baxis": {
            "gridcolor": "white",
            "linecolor": "white",
            "ticks": ""
           },
           "bgcolor": "#E5ECF6",
           "caxis": {
            "gridcolor": "white",
            "linecolor": "white",
            "ticks": ""
           }
          },
          "title": {
           "x": 0.05
          },
          "xaxis": {
           "automargin": true,
           "gridcolor": "white",
           "linecolor": "white",
           "ticks": "",
           "title": {
            "standoff": 15
           },
           "zerolinecolor": "white",
           "zerolinewidth": 2
          },
          "yaxis": {
           "automargin": true,
           "gridcolor": "white",
           "linecolor": "white",
           "ticks": "",
           "title": {
            "standoff": 15
           },
           "zerolinecolor": "white",
           "zerolinewidth": 2
          }
         }
        },
        "width": 1200,
        "xaxis": {
         "anchor": "y",
         "autorange": true,
         "domain": [
          0,
          1
         ],
         "range": [
          -0.6929059155049974,
          0.8162291293623773
         ],
         "title": {
          "text": "Dim 1 (35.4%)"
         },
         "type": "linear"
        },
        "yaxis": {
         "anchor": "x",
         "autorange": true,
         "domain": [
          0,
          1
         ],
         "range": [
          -0.41605959958580013,
          0.5181608766914028
         ],
         "title": {
          "text": "Dim 2 (13.1%)"
         },
         "type": "linear"
        }
       }
      },
      "image/png": "[encoded data removed]",
      "text/html": [
       "<div>                            <div id=\"416ba058-4518-4dff-aa72-b5ddf5ee9264\" class=\"plotly-graph-div\" style=\"height:360px; width:1200px;\"></div>            <script type=\"text/javascript\">                require([\"plotly\"], function(Plotly) {                    window.PLOTLYENV=window.PLOTLYENV || {};                                    if (document.getElementById(\"416ba058-4518-4dff-aa72-b5ddf5ee9264\")) {                    Plotly.newPlot(                        \"416ba058-4518-4dff-aa72-b5ddf5ee9264\",                        [{\"hovertemplate\":\"color=FASTCORE\\u003cbr\\u003ex=%{x}\\u003cbr\\u003ey=%{y}\\u003cextra\\u003e\\u003c\\u002fextra\\u003e\",\"legendgroup\":\"FASTCORE\",\"marker\":{\"color\":\"#636efa\",\"symbol\":\"circle\"},\"mode\":\"markers\",\"name\":\"FASTCORE\",\"orientation\":\"v\",\"showlegend\":true,\"x\":[-0.5809960493720951,-0.5747626259833925,-0.5850358965429084,-0.5859429288555934,-0.5809960493720951,-0.5747626259833925,-0.5850358965429084,-0.5859429288555934,-0.5738263786113692,-0.5554010316111526,-0.5681083520199507,-0.5436994567796075,-0.5554548898994853,-0.5220069953391575,-0.529574830009747,-0.5040713650713542,-0.5282522895733837,-0.479149721321622,-0.5087409860803734,-0.4612921934080735,-0.490867792667273,-0.445467523342742,-0.4639288611169317,-0.4320940021146648,-0.470493674639148,-0.42624914436228684,-0.223654884845792,-0.31630430226032086,-0.25885166865741815,-0.291706795727347,-0.1876866651556836,-0.17813596695627787,-0.11869948068594245,-0.06788729026636393,-0.06215632533621052,0.04500173693616195,-0.09304266779651953,-0.02877328389188144,-0.017097540009056292,0.06926819402109963,-0.04602030465903633,0.023198910011654247,0.038381657400502825,0.1376202793564384,-0.0020060875129116027,0.05331116138048022,0.07724595235614451,0.20554126563503597,0.023615870663732063,0.10358254168641798,0.12465573214171076,0.26598828030426086,0.10391715631982515,0.12257242557370103,0.1524324357303378,0.2776463196651554,0.137047214527636,0.14735160443826853,0.1803523292743281,0.31333457629784855,0.14257462232819057,0.15061030321012062,0.1916656441645695,0.32148171120585023,0.18783219207134758,0.20173252669774913,0.21880868845169782,0.3760600887721745,0.1970473480120032,0.21100997615947642,0.24938633394477622,0.3776570172226015,0.2140412772831501,0.23588453359251393,0.26604681736224944,0.40157388925774135],\"xaxis\":\"x\",\"y\":[0.05835179918744194,0.062126309677475317,0.04027300933949318,0.055899326875746544,0.05835179918744194,0.062126309677475317,0.04027300933949318,0.055899326875746544,0.07377421403021121,0.07307434230362628,0.0545045404921712,0.07726561535754664,0.06612512918220056,0.09949642917700612,0.09293686512590882,0.10116008468258857,0.08144277154699933,0.12071721535954505,0.08879404139752531,0.12027057503873016,0.10850260278024373,0.13915762324991227,0.10685196087037772,0.144514850552792,0.13145797099126938,0.1492084009773408,0.2097629414752462,0.1941099714091272,0.2075280523066188,0.18937107173767687,0.22067323490015073,0.2452143166569389,0.3144908306049688,0.32239406553510114,0.2922141385609861,0.19109054280542187,0.31707476468335616,0.35122657337872565,0.3255324803959669,0.22007393669424122,0.34528899179422806,0.37151036969561985,0.34710656505726045,0.24682867611659454,0.3705795210216721,0.3768138105710792,0.3487813756369002,0.2580322600050355,0.3874555466197897,0.40601613066290804,0.38647761644041634,0.2567256565924044,0.4139815236081669,0.4202527065059768,0.3960658453144044,0.26513501925212224,0.41673970108553643,0.41854931844232945,0.39172634436234577,0.28178518046694545,0.4363990223025664,0.4289377878339221,0.4025332035797612,0.2876532698500369,0.45920045852076113,0.4546168828588262,0.3948894505638755,0.28912456689641663,0.4578865655420134,0.4444301028555618,0.4113671169354687,0.2850021846606974,0.43161842625615304,0.43823524943033854,0.4070234391205963,0.30159832103976786],\"yaxis\":\"y\",\"type\":\"scatter\"},{\"hovertemplate\":\"color=GIMME\\u003cbr\\u003ex=%{x}\\u003cbr\\u003ey=%{y}\\u003cextra\\u003e\\u003c\\u002fextra\\u003e\",\"legendgroup\":\"GIMME\",\"marker\":{\"color\":\"#EF553B\",\"symbol\":\"circle\"},\"mode\":\"markers\",\"name\":\"GIMME\",\"orientation\":\"v\",\"showlegend\":true,\"x\":[-0.6033709712546472,-0.5991430342148869,-0.6116802984112182,-0.6056393440408454,-0.6033709712546472,-0.5991430342148869,-0.6116802984112182,-0.6056393440408454,-0.5960540017710966,-0.5672148749334498,-0.5899086011587661,-0.5601448139479088,-0.5576809901708706,-0.5199335340767962,-0.5291380068755761,-0.4828754964552785,-0.5445560073284383,-0.4595007662077092,-0.5155294964193938,-0.4414535523891998,-0.48397595104050284,-0.43403767118282455,-0.4615844236336934,-0.39816259453486785,-0.4460970063706716,-0.38605284920090976,-0.211579728417997,-0.2990279521230825,-0.21720470083660082,-0.2468371795025011,-0.17394956004189563,-0.13600411788311154,0.3027758742715956,0.33763299421444604,0.32898599095519926,0.3946069255062794,0.34065930760065666,0.37414309797698614,0.36874789024325616,0.43611131388419744,0.3673731426611567,0.4389234031991986,0.4304710592472728,0.48444737360284373,0.42139803459973835,0.470784287284668,0.48620110860255894,0.5462692140156823,0.48947754285072725,0.5568261555163976,0.5403107879900809,0.6222909448061179,0.5644047489337266,0.577725563621507,0.5727103368626365,0.6471248276757271,0.5815011110097624,0.5983824606929473,0.596908976609923,0.6699773571115046,0.5982410764080404,0.6063349363408914,0.6079047079534431,0.6799733727019328,0.643296811596372,0.6576588709571984,0.6244053540439212,0.7191631772686876,0.6617110287018703,0.6651627054847262,0.661719914328255,0.7280457957358166,0.6658543162887485,0.6783131306428247,0.6769097698583241,0.7350035122685982],\"xaxis\":\"x\",\"y\":[-0.2748602379848561,-0.2623180533134147,-0.28164905432050324,-0.29273402852772273,-0.2748602379848561,-0.2623180533134147,-0.28164905432050324,-0.29273402852772273,-0.2853701745679045,-0.31037595663347667,-0.29895671932863405,-0.3139959618609511,-0.2930885054965912,-0.338063964407621,-0.2806542210473232,-0.32816205741194526,-0.3271594842293112,-0.3441288886870857,-0.27813964150801107,-0.3380328850811617,-0.3073365704519974,-0.3458631324377056,-0.33490698817870457,-0.3233268727904973,-0.3353573428403767,-0.35709918141515845,-0.22979094831325172,-0.2870515737414071,-0.24797179495358293,-0.31729201994988376,-0.23654256899507708,-0.2637187776473879,-0.24655642938331096,-0.24130941183980076,-0.25160227030167104,-0.1978896701263359,-0.25494255433894,-0.23438814476226347,-0.2471687548440167,-0.19020346928767998,-0.24528051265811926,-0.23167229698455086,-0.25310535021510916,-0.18745720644739247,-0.23574391715207882,-0.22868481955767636,-0.2338905757464291,-0.18296454642470553,-0.2623372020022419,-0.23721065389758095,-0.2366027227344014,-0.19105491090067547,-0.24385884826545226,-0.23076880198666685,-0.2482169017760593,-0.1920536391272566,-0.22553462080306727,-0.22267448157495356,-0.2499757061976377,-0.1965070878904114,-0.22149916820844315,-0.2256550400632964,-0.2498539809018002,-0.2043594436323542,-0.20971459685852595,-0.20147653573758753,-0.23610922406726745,-0.19454293483991753,-0.1992481679490089,-0.20381011742029503,-0.23680908100154083,-0.1923885748094295,-0.19728856952894078,-0.19161548260840383,-0.2196351497921096,-0.17051069700588367],\"yaxis\":\"y\",\"type\":\"scatter\"}],                        {\"template\":{\"data\":{\"histogram2dcontour\":[{\"type\":\"histogram2dcontour\",\"colorbar\":{\"outlinewidth\":0,\"ticks\":\"\"},\"colorscale\":[[0.0,\"#0d0887\"],[0.1111111111111111,\"#46039f\"],[0.2222222222222222,\"#7201a8\"],[0.3333333333333333,\"#9c179e\"],[0.4444444444444444,\"#bd3786\"],[0.5555555555555556,\"#d8576b\"],[0.6666666666666666,\"#ed7953\"],[0.7777777777777778,\"#fb9f3a\"],[0.8888888888888888,\"#fdca26\"],[1.0,\"#f0f921\"]]}],\"choropleth\":[{\"type\":\"choropleth\",\"colorbar\":{\"outlinewidth\":0,\"ticks\":\"\"}}],\"histogram2d\":[{\"type\":\"histogram2d\",\"colorbar\":{\"outlinewidth\":0,\"ticks\":\"\"},\"colorscale\":[[0.0,\"#0d0887\"],[0.1111111111111111,\"#46039f\"],[0.2222222222222222,\"#7201a8\"],[0.3333333333333333,\"#9c179e\"],[0.4444444444444444,\"#bd3786\"],[0.5555555555555556,\"#d8576b\"],[0.6666666666666666,\"#ed7953\"],[0.7777777777777778,\"#fb9f3a\"],[0.8888888888888888,\"#fdca26\"],[1.0,\"#f0f921\"]]}],\"heatmap\":[{\"type\":\"heatmap\",\"colorbar\":{\"outlinewidth\":0,\"ticks\":\"\"},\"colorscale\":[[0.0,\"#0d0887\"],[0.1111111111111111,\"#46039f\"],[0.2222222222222222,\"#7201a8\"],[0.3333333333333333,\"#9c179e\"],[0.4444444444444444,\"#bd3786\"],[0.5555555555555556,\"#d8576b\"],[0.6666666666666666,\"#ed7953\"],[0.7777777777777778,\"#fb9f3a\"],[0.8888888888888888,\"#fdca26\"],[1.0,\"#f0f921\"]]}],\"heatmapgl\":[{\"type\":\"heatmapgl\",\"colorbar\":{\"outlinewidth\":0,\"ticks\":\"\"},\"colorscale\":[[0.0,\"#0d0887\"],[0.1111111111111111,\"#46039f\"],[0.2222222222222222,\"#7201a8\"],[0.3333333333333333,\"#9c179e\"],[0.4444444444444444,\"#bd3786\"],[0.5555555555555556,\"#d8576b\"],[0.6666666666666666,\"#ed7953\"],[0.7777777777777778,\"#fb9f3a\"],[0.8888888888888888,\"#fdca26\"],[1.0,\"#f0f921\"]]}],\"contourcarpet\":[{\"type\":\"contourcarpet\",\"colorbar\":{\"outlinewidth\":0,\"ticks\":\"\"}}],\"contour\":[{\"type\":\"contour\",\"colorbar\":{\"outlinewidth\":0,\"ticks\":\"\"},\"colorscale\":[[0.0,\"#0d0887\"],[0.1111111111111111,\"#46039f\"],[0.2222222222222222,\"#7201a8\"],[0.3333333333333333,\"#9c179e\"],[0.4444444444444444,\"#bd3786\"],[0.5555555555555556,\"#d8576b\"],[0.6666666666666666,\"#ed7953\"],[0.7777777777777778,\"#fb9f3a\"],[0.8888888888888888,\"#fdca26\"],[1.0,\"#f0f921\"]]}],\"surface\":[{\"type\":\"surface\",\"colorbar\":{\"outlinewidth\":0,\"ticks\":\"\"},\"colorscale\":[[0.0,\"#0d0887\"],[0.1111111111111111,\"#46039f\"],[0.2222222222222222,\"#7201a8\"],[0.3333333333333333,\"#9c179e\"],[0.4444444444444444,\"#bd3786\"],[0.5555555555555556,\"#d8576b\"],[0.6666666666666666,\"#ed7953\"],[0.7777777777777778,\"#fb9f3a\"],[0.8888888888888888,\"#fdca26\"],[1.0,\"#f0f921\"]]}],\"mesh3d\":[{\"type\":\"mesh3d\",\"colorbar\":{\"outlinewidth\":0,\"ticks\":\"\"}}],\"scatter\":[{\"fillpattern\":{\"fillmode\":\"overlay\",\"size\":10,\"solidity\":0.2},\"type\":\"scatter\"}],\"parcoords\":[{\"type\":\"parcoords\",\"line\":{\"colorbar\":{\"outlinewidth\":0,\"ticks\":\"\"}}}],\"scatterpolargl\":[{\"type\":\"scatterpolargl\",\"marker\":{\"colorbar\":{\"outlinewidth\":0,\"ticks\":\"\"}}}],\"bar\":[{\"error_x\":{\"color\":\"#2a3f5f\"},\"error_y\":{\"color\":\"#2a3f5f\"},\"marker\":{\"line\":{\"color\":\"#E5ECF6\",\"width\":0.5},\"pattern\":{\"fillmode\":\"overlay\",\"size\":10,\"solidity\":0.2}},\"type\":\"bar\"}],\"scattergeo\":[{\"type\":\"scattergeo\",\"marker\":{\"colorbar\":{\"outlinewidth\":0,\"ticks\":\"\"}}}],\"scatterpolar\":[{\"type\":\"scatterpolar\",\"marker\":{\"colorbar\":{\"outlinewidth\":0,\"ticks\":\"\"}}}],\"histogram\":[{\"marker\":{\"pattern\":{\"fillmode\":\"overlay\",\"size\":10,\"solidity\":0.2}},\"type\":\"histogram\"}],\"scattergl\":[{\"type\":\"scattergl\",\"marker\":{\"colorbar\":{\"outlinewidth\":0,\"ticks\":\"\"}}}],\"scatter3d\":[{\"type\":\"scatter3d\",\"line\":{\"colorbar\":{\"outlinewidth\":0,\"ticks\":\"\"}},\"marker\":{\"colorbar\":{\"outlinewidth\":0,\"ticks\":\"\"}}}],\"scattermapbox\":[{\"type\":\"scattermapbox\",\"marker\":{\"colorbar\":{\"outlinewidth\":0,\"ticks\":\"\"}}}],\"scatterternary\":[{\"type\":\"scatterternary\",\"marker\":{\"colorbar\":{\"outlinewidth\":0,\"ticks\":\"\"}}}],\"scattercarpet\":[{\"type\":\"scattercarpet\",\"marker\":{\"colorbar\":{\"outlinewidth\":0,\"ticks\":\"\"}}}],\"carpet\":[{\"aaxis\":{\"endlinecolor\":\"#2a3f5f\",\"gridcolor\":\"white\",\"linecolor\":\"white\",\"minorgridcolor\":\"white\",\"startlinecolor\":\"#2a3f5f\"},\"baxis\":{\"endlinecolor\":\"#2a3f5f\",\"gridcolor\":\"white\",\"linecolor\":\"white\",\"minorgridcolor\":\"white\",\"startlinecolor\":\"#2a3f5f\"},\"type\":\"carpet\"}],\"table\":[{\"cells\":{\"fill\":{\"color\":\"#EBF0F8\"},\"line\":{\"color\":\"white\"}},\"header\":{\"fill\":{\"color\":\"#C8D4E3\"},\"line\":{\"color\":\"white\"}},\"type\":\"table\"}],\"barpolar\":[{\"marker\":{\"line\":{\"color\":\"#E5ECF6\",\"width\":0.5},\"pattern\":{\"fillmode\":\"overlay\",\"size\":10,\"solidity\":0.2}},\"type\":\"barpolar\"}],\"pie\":[{\"automargin\":true,\"type\":\"pie\"}]},\"layout\":{\"autotypenumbers\":\"strict\",\"colorway\":[\"#636efa\",\"#EF553B\",\"#00cc96\",\"#ab63fa\",\"#FFA15A\",\"#19d3f3\",\"#FF6692\",\"#B6E880\",\"#FF97FF\",\"#FECB52\"],\"font\":{\"color\":\"#2a3f5f\"},\"hovermode\":\"closest\",\"hoverlabel\":{\"align\":\"left\"},\"paper_bgcolor\":\"white\",\"plot_bgcolor\":\"#E5ECF6\",\"polar\":{\"bgcolor\":\"#E5ECF6\",\"angularaxis\":{\"gridcolor\":\"white\",\"linecolor\":\"white\",\"ticks\":\"\"},\"radialaxis\":{\"gridcolor\":\"white\",\"linecolor\":\"white\",\"ticks\":\"\"}},\"ternary\":{\"bgcolor\":\"#E5ECF6\",\"aaxis\":{\"gridcolor\":\"white\",\"linecolor\":\"white\",\"ticks\":\"\"},\"baxis\":{\"gridcolor\":\"white\",\"linecolor\":\"white\",\"ticks\":\"\"},\"caxis\":{\"gridcolor\":\"white\",\"linecolor\":\"white\",\"ticks\":\"\"}},\"coloraxis\":{\"colorbar\":{\"outlinewidth\":0,\"ticks\":\"\"}},\"colorscale\":{\"sequential\":[[0.0,\"#0d0887\"],[0.1111111111111111,\"#46039f\"],[0.2222222222222222,\"#7201a8\"],[0.3333333333333333,\"#9c179e\"],[0.4444444444444444,\"#bd3786\"],[0.5555555555555556,\"#d8576b\"],[0.6666666666666666,\"#ed7953\"],[0.7777777777777778,\"#fb9f3a\"],[0.8888888888888888,\"#fdca26\"],[1.0,\"#f0f921\"]],\"sequentialminus\":[[0.0,\"#0d0887\"],[0.1111111111111111,\"#46039f\"],[0.2222222222222222,\"#7201a8\"],[0.3333333333333333,\"#9c179e\"],[0.4444444444444444,\"#bd3786\"],[0.5555555555555556,\"#d8576b\"],[0.6666666666666666,\"#ed7953\"],[0.7777777777777778,\"#fb9f3a\"],[0.8888888888888888,\"#fdca26\"],[1.0,\"#f0f921\"]],\"diverging\":[[0,\"#8e0152\"],[0.1,\"#c51b7d\"],[0.2,\"#de77ae\"],[0.3,\"#f1b6da\"],[0.4,\"#fde0ef\"],[0.5,\"#f7f7f7\"],[0.6,\"#e6f5d0\"],[0.7,\"#b8e186\"],[0.8,\"#7fbc41\"],[0.9,\"#4d9221\"],[1,\"#276419\"]]},\"xaxis\":{\"gridcolor\":\"white\",\"linecolor\":\"white\",\"ticks\":\"\",\"title\":{\"standoff\":15},\"zerolinecolor\":\"white\",\"automargin\":true,\"zerolinewidth\":2},\"yaxis\":{\"gridcolor\":\"white\",\"linecolor\":\"white\",\"ticks\":\"\",\"title\":{\"standoff\":15},\"zerolinecolor\":\"white\",\"automargin\":true,\"zerolinewidth\":2},\"scene\":{\"xaxis\":{\"backgroundcolor\":\"#E5ECF6\",\"gridcolor\":\"white\",\"linecolor\":\"white\",\"showbackground\":true,\"ticks\":\"\",\"zerolinecolor\":\"white\",\"gridwidth\":2},\"yaxis\":{\"backgroundcolor\":\"#E5ECF6\",\"gridcolor\":\"white\",\"linecolor\":\"white\",\"showbackground\":true,\"ticks\":\"\",\"zerolinecolor\":\"white\",\"gridwidth\":2},\"zaxis\":{\"backgroundcolor\":\"#E5ECF6\",\"gridcolor\":\"white\",\"linecolor\":\"white\",\"showbackground\":true,\"ticks\":\"\",\"zerolinecolor\":\"white\",\"gridwidth\":2}},\"shapedefaults\":{\"line\":{\"color\":\"#2a3f5f\"}},\"annotationdefaults\":{\"arrowcolor\":\"#2a3f5f\",\"arrowhead\":0,\"arrowwidth\":1},\"geo\":{\"bgcolor\":\"white\",\"landcolor\":\"#E5ECF6\",\"subunitcolor\":\"white\",\"showland\":true,\"showlakes\":true,\"lakecolor\":\"white\"},\"title\":{\"x\":0.05},\"mapbox\":{\"style\":\"light\"}}},\"xaxis\":{\"anchor\":\"y\",\"domain\":[0.0,1.0],\"title\":{\"text\":\"Dim 1 (35.4%)\"}},\"yaxis\":{\"anchor\":\"x\",\"domain\":[0.0,1.0],\"title\":{\"text\":\"Dim 2 (13.1%)\"}},\"legend\":{\"title\":{\"text\":\"\"},\"tracegroupgap\":0},\"margin\":{\"t\":20,\"l\":20,\"r\":20,\"b\":20},\"width\":1200,\"height\":360,\"coloraxis\":{\"colorbar\":{\"title\":{\"text\":\"Threshold\"},\"yanchor\":\"top\",\"y\":1.02,\"x\":1.1,\"ticks\":\"outside\"}}},                        {\"responsive\": true}                    ).then(function(){\n",
       "                            \n",
       "var gd = document.getElementById('416ba058-4518-4dff-aa72-b5ddf5ee9264');\n",
       "var x = new MutationObserver(function (mutations, observer) {{\n",
       "        var display = window.getComputedStyle(gd).display;\n",
       "        if (!display || display === 'none') {{\n",
       "            console.log([gd, 'removed!']);\n",
       "            Plotly.purge(gd);\n",
       "            observer.disconnect();\n",
       "        }}\n",
       "}});\n",
       "\n",
       "// Listen for the removal of the full notebook cells\n",
       "var notebookContainer = gd.closest('#notebook-container');\n",
       "if (notebookContainer) {{\n",
       "    x.observe(notebookContainer, {childList: true});\n",
       "}}\n",
       "\n",
       "// Listen for the clearing of the current output cell\n",
       "var outputEl = gd.closest('.output');\n",
       "if (outputEl) {{\n",
       "    x.observe(outputEl, {childList: true});\n",
       "}}\n",
       "\n",
       "                        })                };                });            </script>        </div>"
      ]
     },
     "metadata": {},
     "output_type": "display_data"
    }
   ],
   "source": [
    "mca = MCA(n_components=3, random_state=42)\n",
    "data.index = data.index.str.upper()\n",
    "components = mca.fit_transform(data).to_numpy()\n",
    "plot(components, [e.split(\"_\")[-2] for e in data.index.tolist()],\n",
    "    f\"Dim 1 ({round(mca.percentage_of_variance_[0], 1)}%)\",\n",
    "    f\"Dim 2 ({round(mca.percentage_of_variance_[1], 1)}%)\",\n",
    "    os.path.join(RESULTS_PATH,\"mca_models_algorithm_ng\"),\n",
    "    width=1200\n",
    ")"
   ]
  },
  {
   "cell_type": "code",
   "execution_count": 64,
   "id": "081055be-5052-4fb7-929c-fcbc2e458c61",
   "metadata": {},
   "outputs": [
    {
     "name": "stdout",
     "output_type": "stream",
     "text": [
      "Top thresholds: ['0.6', '0.8', '0.9', '0.85', '0.7', '0.65', '0.95', '0.5', '0.4', '0.75']\n"
     ]
    },
    {
     "data": {
      "image/png": "[encoded data removed]",
      "text/plain": [
       "<Figure size 1500x600 with 1 Axes>"
      ]
     },
     "metadata": {},
     "output_type": "display_data"
    }
   ],
   "source": [
    "best_thresholds_set = set()\n",
    "top = 10\n",
    "data_3_fastcore = fastcore\n",
    "dist = rank_models_difference(data_3_fastcore)\n",
    "sorted_thresholds = sorted(dist, key=lambda k: dist[k], reverse=True)\n",
    "best_thresholds_set.update([float(e) for e in sorted_thresholds[:top]])\n",
    "print(f\"Top thresholds: {sorted_thresholds[:top]}\")\n",
    "data_3_fastcore_filtered = data_3_fastcore[data_3_fastcore.index.str.contains('|'.join([e + \"$\" for e in sorted_thresholds[:top]]), regex=True)]\n",
    "ax = sns.barplot(x=dist.keys(), y=dist.values())\n",
    "ax.set(xlabel='Threshold', ylabel='Hamming distance')\n",
    "plt.savefig(os.path.join(RESULTS_PATH,\"ds_fastcore_3_barplot.pdf\"), format=\"pdf\", bbox_inches='tight')"
   ]
  },
  {
   "cell_type": "code",
   "execution_count": 65,
   "id": "d1c45b79-1098-4bce-9907-e16bc44651dd",
   "metadata": {},
   "outputs": [
    {
     "name": "stdout",
     "output_type": "stream",
     "text": [
      "Top thresholds: ['0.4', '0.35', '0.3', '0.6', '0.8', '0.5', '0.65', '0.55', '0.85', '0.2']\n"
     ]
    },
    {
     "data": {
      "image/png": "[encoded data removed]",
      "text/plain": [
       "<Figure size 1500x600 with 1 Axes>"
      ]
     },
     "metadata": {},
     "output_type": "display_data"
    }
   ],
   "source": [
    "best_thresholds_set = set()\n",
    "top = 10\n",
    "data_3_fastcore = gimme\n",
    "dist = rank_models_difference(data_3_fastcore)\n",
    "sorted_thresholds = sorted(dist, key=lambda k: dist[k], reverse=True)\n",
    "best_thresholds_set.update([float(e) for e in sorted_thresholds[:top]])\n",
    "print(f\"Top thresholds: {sorted_thresholds[:top]}\")\n",
    "data_3_fastcore_filtered = data_3_fastcore[data_3_fastcore.index.str.contains('|'.join([e + \"$\" for e in sorted_thresholds[:top]]), regex=True)]\n",
    "ax = sns.barplot(x=dist.keys(), y=dist.values())\n",
    "ax.set(xlabel='Threshold', ylabel='Hamming distance')\n",
    "plt.savefig(os.path.join(RESULTS_PATH,\"ng_fastcore_3_barplot.pdf\"), format=\"pdf\", bbox_inches='tight')"
   ]
  },
  {
   "cell_type": "code",
   "execution_count": 59,
   "id": "aa08369f-75e6-4a90-b30b-aa6f0182b9fc",
   "metadata": {},
   "outputs": [
    {
     "data": {
      "application/vnd.plotly.v1+json": {
       "config": {
        "plotlyServerURL": "https://plot.ly"
       },
       "data": [
        {
         "hovertemplate": "symbol=c<br>x=%{x}<br>y=%{y}<br>color=%{marker.color}<extra></extra>",
         "legendgroup": "c",
         "marker": {
          "color": [
           0.05,
           0.1,
           0.15,
           0.2,
           0.25,
           0.3,
           0.35,
           0.4,
           0.45,
           0.5,
           0.55,
           0.6,
           0.65,
           0.7,
           0.75,
           0.8,
           0.85,
           0.9,
           0.95
          ],
          "coloraxis": "coloraxis",
          "symbol": "square"
         },
         "mode": "markers",
         "name": "c",
         "orientation": "v",
         "showlegend": true,
         "type": "scatter",
         "x": [
          -0.5640201980347441,
          -0.5640201980347441,
          -0.5438089809465573,
          -0.5270029277712088,
          -0.49569188115423124,
          -0.44813859021558444,
          -0.4209535093684604,
          -0.19700924764797198,
          -0.02106633312535318,
          0.012796958946082833,
          0.0740824009414058,
          0.13633696269790738,
          0.17210666017969725,
          0.27387465015478346,
          0.3144269552646423,
          0.32586338246728974,
          0.38432352994846936,
          0.3988212611257074,
          0.40664995125151654
         ],
         "xaxis": "x",
         "y": [
          0.07501831508633286,
          0.07501831508633286,
          0.06673229955777242,
          0.0734153596040241,
          0.053246255645742945,
          0.03811928229581824,
          0.028169696887586082,
          -0.037200897619191535,
          -0.1375922642700694,
          -0.1455698584154392,
          -0.15886841472515176,
          -0.1715721566888361,
          -0.18994425442014154,
          -0.21995829415448062,
          -0.23257344979419628,
          -0.24288172647473621,
          -0.27902665537355675,
          -0.285654111691778,
          -0.28789886611874893
         ],
         "yaxis": "y"
        },
        {
         "hovertemplate": "symbol=h<br>x=%{x}<br>y=%{y}<br>color=%{marker.color}<extra></extra>",
         "legendgroup": "h",
         "marker": {
          "color": [
           0.05,
           0.1,
           0.15,
           0.2,
           0.25,
           0.3,
           0.35,
           0.4,
           0.45,
           0.5,
           0.55,
           0.6,
           0.65,
           0.7,
           0.75,
           0.8,
           0.85,
           0.9,
           0.95
          ],
          "coloraxis": "coloraxis",
          "symbol": "circle"
         },
         "mode": "markers",
         "name": "h",
         "orientation": "v",
         "showlegend": true,
         "type": "scatter",
         "x": [
          -0.5521683027061739,
          -0.5521683027061739,
          -0.5275645675999787,
          -0.4851786296796798,
          -0.43459803391692964,
          -0.3932775193909151,
          -0.37128703418858494,
          -0.23424641017057501,
          0.04025940433178297,
          0.10141243749954958,
          0.16865861371204754,
          0.20025500590191822,
          0.2678069486750868,
          0.2902225739546676,
          0.3218038652919883,
          0.3313279596515669,
          0.3987587719078,
          0.4126121758480939,
          0.439261921353329
         ],
         "xaxis": "x",
         "y": [
          0.07441262185909801,
          0.07441262185909801,
          0.06293723199774566,
          0.05316757298115793,
          0.03515313505916684,
          0.019036879624870665,
          0.01093484103412783,
          -0.026320617561147324,
          -0.1410681359517969,
          -0.1563183687848691,
          -0.17559275123719226,
          -0.18024339210852744,
          -0.21081974953803845,
          -0.2202426299270235,
          -0.23762466114965344,
          -0.24106972964898707,
          -0.2947054022600975,
          -0.2997715778985451,
          -0.29743792957417764
         ],
         "yaxis": "y"
        },
        {
         "hovertemplate": "symbol=n<br>x=%{x}<br>y=%{y}<br>color=%{marker.color}<extra></extra>",
         "legendgroup": "n",
         "marker": {
          "color": [
           0.05,
           0.1,
           0.15,
           0.2,
           0.25,
           0.3,
           0.35,
           0.4,
           0.45,
           0.5,
           0.55,
           0.6,
           0.65,
           0.7,
           0.75,
           0.8,
           0.85,
           0.9,
           0.95
          ],
          "coloraxis": "coloraxis",
          "symbol": "x"
         },
         "mode": "markers",
         "name": "n",
         "orientation": "v",
         "showlegend": true,
         "type": "scatter",
         "x": [
          -0.5721665720067385,
          -0.5721665720067385,
          -0.5473627163077461,
          -0.49697202327693696,
          -0.4736269083925541,
          -0.4196424107733126,
          -0.15335370268579435,
          -0.116478959408384,
          0.038331235048812536,
          0.10724784092342673,
          0.1766254039597532,
          0.22007317317372538,
          0.28910763628512826,
          0.3195045896635014,
          0.3540153796735508,
          0.3749959583201281,
          0.4032121290582001,
          0.45092664583826036,
          0.4648135719506618
         ],
         "xaxis": "x",
         "y": [
          0.07700583941092787,
          0.07700583941092787,
          0.07209290271508262,
          0.044092418373047455,
          0.04269575031171026,
          0.022165844633587853,
          -0.06335817408779876,
          -0.072766907335601,
          -0.10976032532306795,
          -0.08094424594694248,
          -0.09575861205908413,
          -0.10782644663746885,
          -0.13072232745470155,
          -0.14441346848522182,
          -0.15614308898647006,
          -0.16418945562018367,
          -0.17959991536929312,
          -0.21401577496581436,
          -0.2190065511883274
         ],
         "yaxis": "y"
        },
        {
         "hovertemplate": "symbol=s<br>x=%{x}<br>y=%{y}<br>color=%{marker.color}<extra></extra>",
         "legendgroup": "s",
         "marker": {
          "color": [
           0.05,
           0.1,
           0.15,
           0.2,
           0.25,
           0.3,
           0.35,
           0.4,
           0.45,
           0.5,
           0.55,
           0.6,
           0.65,
           0.7,
           0.75,
           0.8,
           0.85,
           0.9,
           0.95
          ],
          "coloraxis": "coloraxis",
          "symbol": "triangle-up"
         },
         "mode": "markers",
         "name": "s",
         "orientation": "v",
         "showlegend": true,
         "type": "scatter",
         "x": [
          -0.5670553512235481,
          -0.5670553512235481,
          -0.5090210831325286,
          -0.46012507514633244,
          -0.4095990007620522,
          -0.37041125274963793,
          -0.23925648216408163,
          -0.09282576137661232,
          0.20170323295124132,
          0.24542033380253356,
          0.3293918579338352,
          0.41519655384790766,
          0.4821817901795249,
          0.5029102456782095,
          0.551747057150066,
          0.5625937426561017,
          0.6309176039435307,
          0.6385406436891653,
          0.6682008724618187
         ],
         "xaxis": "x",
         "y": [
          0.0776120997722599,
          0.0776120997722599,
          0.06021943401952775,
          0.043749654604002854,
          0.03213257241961384,
          0.018523917017018218,
          -0.032708936526590376,
          -0.06803000564276215,
          0.4517571629502976,
          0.4380848383176775,
          0.4671162788430831,
          0.5035872390230567,
          0.4771040224767068,
          0.5355968213940796,
          0.5089765718992835,
          0.5080075389082761,
          0.5058719083776665,
          0.46462817111155624,
          0.4637867766751861
         ],
         "yaxis": "y"
        }
       ],
       "layout": {
        "coloraxis": {
         "cmax": 0.85,
         "cmin": 0.2,
         "colorbar": {
          "ticks": "outside",
          "title": {
           "text": "Threshold"
          },
          "x": 1.1,
          "y": 1.02,
          "yanchor": "top"
         },
         "colorscale": [
          [
           0,
           "#fde725"
          ],
          [
           0.1111111111111111,
           "#b5de2b"
          ],
          [
           0.2222222222222222,
           "#6ece58"
          ],
          [
           0.3333333333333333,
           "#35b779"
          ],
          [
           0.4444444444444444,
           "#1f9e89"
          ],
          [
           0.5555555555555556,
           "#26828e"
          ],
          [
           0.6666666666666666,
           "#31688e"
          ],
          [
           0.7777777777777778,
           "#3e4989"
          ],
          [
           0.8888888888888888,
           "#482878"
          ],
          [
           1,
           "#440154"
          ]
         ]
        },
        "height": 360,
        "legend": {
         "title": {
          "text": "Condition"
         },
         "tracegroupgap": 0
        },
        "margin": {
         "b": 20,
         "l": 20,
         "r": 20,
         "t": 20
        },
        "template": {
         "data": {
          "bar": [
           {
            "error_x": {
             "color": "#2a3f5f"
            },
            "error_y": {
             "color": "#2a3f5f"
            },
            "marker": {
             "line": {
              "color": "#E5ECF6",
              "width": 0.5
             },
             "pattern": {
              "fillmode": "overlay",
              "size": 10,
              "solidity": 0.2
             }
            },
            "type": "bar"
           }
          ],
          "barpolar": [
           {
            "marker": {
             "line": {
              "color": "#E5ECF6",
              "width": 0.5
             },
             "pattern": {
              "fillmode": "overlay",
              "size": 10,
              "solidity": 0.2
             }
            },
            "type": "barpolar"
           }
          ],
          "carpet": [
           {
            "aaxis": {
             "endlinecolor": "#2a3f5f",
             "gridcolor": "white",
             "linecolor": "white",
             "minorgridcolor": "white",
             "startlinecolor": "#2a3f5f"
            },
            "baxis": {
             "endlinecolor": "#2a3f5f",
             "gridcolor": "white",
             "linecolor": "white",
             "minorgridcolor": "white",
             "startlinecolor": "#2a3f5f"
            },
            "type": "carpet"
           }
          ],
          "choropleth": [
           {
            "colorbar": {
             "outlinewidth": 0,
             "ticks": ""
            },
            "type": "choropleth"
           }
          ],
          "contour": [
           {
            "colorbar": {
             "outlinewidth": 0,
             "ticks": ""
            },
            "colorscale": [
             [
              0,
              "#0d0887"
             ],
             [
              0.1111111111111111,
              "#46039f"
             ],
             [
              0.2222222222222222,
              "#7201a8"
             ],
             [
              0.3333333333333333,
              "#9c179e"
             ],
             [
              0.4444444444444444,
              "#bd3786"
             ],
             [
              0.5555555555555556,
              "#d8576b"
             ],
             [
              0.6666666666666666,
              "#ed7953"
             ],
             [
              0.7777777777777778,
              "#fb9f3a"
             ],
             [
              0.8888888888888888,
              "#fdca26"
             ],
             [
              1,
              "#f0f921"
             ]
            ],
            "type": "contour"
           }
          ],
          "contourcarpet": [
           {
            "colorbar": {
             "outlinewidth": 0,
             "ticks": ""
            },
            "type": "contourcarpet"
           }
          ],
          "heatmap": [
           {
            "colorbar": {
             "outlinewidth": 0,
             "ticks": ""
            },
            "colorscale": [
             [
              0,
              "#0d0887"
             ],
             [
              0.1111111111111111,
              "#46039f"
             ],
             [
              0.2222222222222222,
              "#7201a8"
             ],
             [
              0.3333333333333333,
              "#9c179e"
             ],
             [
              0.4444444444444444,
              "#bd3786"
             ],
             [
              0.5555555555555556,
              "#d8576b"
             ],
             [
              0.6666666666666666,
              "#ed7953"
             ],
             [
              0.7777777777777778,
              "#fb9f3a"
             ],
             [
              0.8888888888888888,
              "#fdca26"
             ],
             [
              1,
              "#f0f921"
             ]
            ],
            "type": "heatmap"
           }
          ],
          "heatmapgl": [
           {
            "colorbar": {
             "outlinewidth": 0,
             "ticks": ""
            },
            "colorscale": [
             [
              0,
              "#0d0887"
             ],
             [
              0.1111111111111111,
              "#46039f"
             ],
             [
              0.2222222222222222,
              "#7201a8"
             ],
             [
              0.3333333333333333,
              "#9c179e"
             ],
             [
              0.4444444444444444,
              "#bd3786"
             ],
             [
              0.5555555555555556,
              "#d8576b"
             ],
             [
              0.6666666666666666,
              "#ed7953"
             ],
             [
              0.7777777777777778,
              "#fb9f3a"
             ],
             [
              0.8888888888888888,
              "#fdca26"
             ],
             [
              1,
              "#f0f921"
             ]
            ],
            "type": "heatmapgl"
           }
          ],
          "histogram": [
           {
            "marker": {
             "pattern": {
              "fillmode": "overlay",
              "size": 10,
              "solidity": 0.2
             }
            },
            "type": "histogram"
           }
          ],
          "histogram2d": [
           {
            "colorbar": {
             "outlinewidth": 0,
             "ticks": ""
            },
            "colorscale": [
             [
              0,
              "#0d0887"
             ],
             [
              0.1111111111111111,
              "#46039f"
             ],
             [
              0.2222222222222222,
              "#7201a8"
             ],
             [
              0.3333333333333333,
              "#9c179e"
             ],
             [
              0.4444444444444444,
              "#bd3786"
             ],
             [
              0.5555555555555556,
              "#d8576b"
             ],
             [
              0.6666666666666666,
              "#ed7953"
             ],
             [
              0.7777777777777778,
              "#fb9f3a"
             ],
             [
              0.8888888888888888,
              "#fdca26"
             ],
             [
              1,
              "#f0f921"
             ]
            ],
            "type": "histogram2d"
           }
          ],
          "histogram2dcontour": [
           {
            "colorbar": {
             "outlinewidth": 0,
             "ticks": ""
            },
            "colorscale": [
             [
              0,
              "#0d0887"
             ],
             [
              0.1111111111111111,
              "#46039f"
             ],
             [
              0.2222222222222222,
              "#7201a8"
             ],
             [
              0.3333333333333333,
              "#9c179e"
             ],
             [
              0.4444444444444444,
              "#bd3786"
             ],
             [
              0.5555555555555556,
              "#d8576b"
             ],
             [
              0.6666666666666666,
              "#ed7953"
             ],
             [
              0.7777777777777778,
              "#fb9f3a"
             ],
             [
              0.8888888888888888,
              "#fdca26"
             ],
             [
              1,
              "#f0f921"
             ]
            ],
            "type": "histogram2dcontour"
           }
          ],
          "mesh3d": [
           {
            "colorbar": {
             "outlinewidth": 0,
             "ticks": ""
            },
            "type": "mesh3d"
           }
          ],
          "parcoords": [
           {
            "line": {
             "colorbar": {
              "outlinewidth": 0,
              "ticks": ""
             }
            },
            "type": "parcoords"
           }
          ],
          "pie": [
           {
            "automargin": true,
            "type": "pie"
           }
          ],
          "scatter": [
           {
            "fillpattern": {
             "fillmode": "overlay",
             "size": 10,
             "solidity": 0.2
            },
            "type": "scatter"
           }
          ],
          "scatter3d": [
           {
            "line": {
             "colorbar": {
              "outlinewidth": 0,
              "ticks": ""
             }
            },
            "marker": {
             "colorbar": {
              "outlinewidth": 0,
              "ticks": ""
             }
            },
            "type": "scatter3d"
           }
          ],
          "scattercarpet": [
           {
            "marker": {
             "colorbar": {
              "outlinewidth": 0,
              "ticks": ""
             }
            },
            "type": "scattercarpet"
           }
          ],
          "scattergeo": [
           {
            "marker": {
             "colorbar": {
              "outlinewidth": 0,
              "ticks": ""
             }
            },
            "type": "scattergeo"
           }
          ],
          "scattergl": [
           {
            "marker": {
             "colorbar": {
              "outlinewidth": 0,
              "ticks": ""
             }
            },
            "type": "scattergl"
           }
          ],
          "scattermapbox": [
           {
            "marker": {
             "colorbar": {
              "outlinewidth": 0,
              "ticks": ""
             }
            },
            "type": "scattermapbox"
           }
          ],
          "scatterpolar": [
           {
            "marker": {
             "colorbar": {
              "outlinewidth": 0,
              "ticks": ""
             }
            },
            "type": "scatterpolar"
           }
          ],
          "scatterpolargl": [
           {
            "marker": {
             "colorbar": {
              "outlinewidth": 0,
              "ticks": ""
             }
            },
            "type": "scatterpolargl"
           }
          ],
          "scatterternary": [
           {
            "marker": {
             "colorbar": {
              "outlinewidth": 0,
              "ticks": ""
             }
            },
            "type": "scatterternary"
           }
          ],
          "surface": [
           {
            "colorbar": {
             "outlinewidth": 0,
             "ticks": ""
            },
            "colorscale": [
             [
              0,
              "#0d0887"
             ],
             [
              0.1111111111111111,
              "#46039f"
             ],
             [
              0.2222222222222222,
              "#7201a8"
             ],
             [
              0.3333333333333333,
              "#9c179e"
             ],
             [
              0.4444444444444444,
              "#bd3786"
             ],
             [
              0.5555555555555556,
              "#d8576b"
             ],
             [
              0.6666666666666666,
              "#ed7953"
             ],
             [
              0.7777777777777778,
              "#fb9f3a"
             ],
             [
              0.8888888888888888,
              "#fdca26"
             ],
             [
              1,
              "#f0f921"
             ]
            ],
            "type": "surface"
           }
          ],
          "table": [
           {
            "cells": {
             "fill": {
              "color": "#EBF0F8"
             },
             "line": {
              "color": "white"
             }
            },
            "header": {
             "fill": {
              "color": "#C8D4E3"
             },
             "line": {
              "color": "white"
             }
            },
            "type": "table"
           }
          ]
         },
         "layout": {
          "annotationdefaults": {
           "arrowcolor": "#2a3f5f",
           "arrowhead": 0,
           "arrowwidth": 1
          },
          "autotypenumbers": "strict",
          "coloraxis": {
           "colorbar": {
            "outlinewidth": 0,
            "ticks": ""
           }
          },
          "colorscale": {
           "diverging": [
            [
             0,
             "#8e0152"
            ],
            [
             0.1,
             "#c51b7d"
            ],
            [
             0.2,
             "#de77ae"
            ],
            [
             0.3,
             "#f1b6da"
            ],
            [
             0.4,
             "#fde0ef"
            ],
            [
             0.5,
             "#f7f7f7"
            ],
            [
             0.6,
             "#e6f5d0"
            ],
            [
             0.7,
             "#b8e186"
            ],
            [
             0.8,
             "#7fbc41"
            ],
            [
             0.9,
             "#4d9221"
            ],
            [
             1,
             "#276419"
            ]
           ],
           "sequential": [
            [
             0,
             "#0d0887"
            ],
            [
             0.1111111111111111,
             "#46039f"
            ],
            [
             0.2222222222222222,
             "#7201a8"
            ],
            [
             0.3333333333333333,
             "#9c179e"
            ],
            [
             0.4444444444444444,
             "#bd3786"
            ],
            [
             0.5555555555555556,
             "#d8576b"
            ],
            [
             0.6666666666666666,
             "#ed7953"
            ],
            [
             0.7777777777777778,
             "#fb9f3a"
            ],
            [
             0.8888888888888888,
             "#fdca26"
            ],
            [
             1,
             "#f0f921"
            ]
           ],
           "sequentialminus": [
            [
             0,
             "#0d0887"
            ],
            [
             0.1111111111111111,
             "#46039f"
            ],
            [
             0.2222222222222222,
             "#7201a8"
            ],
            [
             0.3333333333333333,
             "#9c179e"
            ],
            [
             0.4444444444444444,
             "#bd3786"
            ],
            [
             0.5555555555555556,
             "#d8576b"
            ],
            [
             0.6666666666666666,
             "#ed7953"
            ],
            [
             0.7777777777777778,
             "#fb9f3a"
            ],
            [
             0.8888888888888888,
             "#fdca26"
            ],
            [
             1,
             "#f0f921"
            ]
           ]
          },
          "colorway": [
           "#636efa",
           "#EF553B",
           "#00cc96",
           "#ab63fa",
           "#FFA15A",
           "#19d3f3",
           "#FF6692",
           "#B6E880",
           "#FF97FF",
           "#FECB52"
          ],
          "font": {
           "color": "#2a3f5f"
          },
          "geo": {
           "bgcolor": "white",
           "lakecolor": "white",
           "landcolor": "#E5ECF6",
           "showlakes": true,
           "showland": true,
           "subunitcolor": "white"
          },
          "hoverlabel": {
           "align": "left"
          },
          "hovermode": "closest",
          "mapbox": {
           "style": "light"
          },
          "paper_bgcolor": "white",
          "plot_bgcolor": "#E5ECF6",
          "polar": {
           "angularaxis": {
            "gridcolor": "white",
            "linecolor": "white",
            "ticks": ""
           },
           "bgcolor": "#E5ECF6",
           "radialaxis": {
            "gridcolor": "white",
            "linecolor": "white",
            "ticks": ""
           }
          },
          "scene": {
           "xaxis": {
            "backgroundcolor": "#E5ECF6",
            "gridcolor": "white",
            "gridwidth": 2,
            "linecolor": "white",
            "showbackground": true,
            "ticks": "",
            "zerolinecolor": "white"
           },
           "yaxis": {
            "backgroundcolor": "#E5ECF6",
            "gridcolor": "white",
            "gridwidth": 2,
            "linecolor": "white",
            "showbackground": true,
            "ticks": "",
            "zerolinecolor": "white"
           },
           "zaxis": {
            "backgroundcolor": "#E5ECF6",
            "gridcolor": "white",
            "gridwidth": 2,
            "linecolor": "white",
            "showbackground": true,
            "ticks": "",
            "zerolinecolor": "white"
           }
          },
          "shapedefaults": {
           "line": {
            "color": "#2a3f5f"
           }
          },
          "ternary": {
           "aaxis": {
            "gridcolor": "white",
            "linecolor": "white",
            "ticks": ""
           },
           "baxis": {
            "gridcolor": "white",
            "linecolor": "white",
            "ticks": ""
           },
           "bgcolor": "#E5ECF6",
           "caxis": {
            "gridcolor": "white",
            "linecolor": "white",
            "ticks": ""
           }
          },
          "title": {
           "x": 0.05
          },
          "xaxis": {
           "automargin": true,
           "gridcolor": "white",
           "linecolor": "white",
           "ticks": "",
           "title": {
            "standoff": 15
           },
           "zerolinecolor": "white",
           "zerolinewidth": 2
          },
          "yaxis": {
           "automargin": true,
           "gridcolor": "white",
           "linecolor": "white",
           "ticks": "",
           "title": {
            "standoff": 15
           },
           "zerolinecolor": "white",
           "zerolinewidth": 2
          }
         }
        },
        "width": 1200,
        "xaxis": {
         "anchor": "y",
         "autorange": true,
         "domain": [
          0,
          1
         ],
         "range": [
          -0.6473267183152469,
          0.743361018770327
         ],
         "title": {
          "text": "Dim 1 (39.2%)"
         },
         "type": "linear"
        },
        "yaxis": {
         "anchor": "x",
         "autorange": true,
         "domain": [
          0,
          1
         ],
         "range": [
          -0.36005932920315636,
          0.5958845726986909
         ],
         "title": {
          "text": "Dim 2 (12.9%)"
         },
         "type": "linear"
        }
       }
      },
      "image/png": "[encoded data removed]",
      "text/html": [
       "<div>                            <div id=\"d7ddfe2f-5581-46af-9bf8-a4717a2d0cbd\" class=\"plotly-graph-div\" style=\"height:360px; width:1200px;\"></div>            <script type=\"text/javascript\">                require([\"plotly\"], function(Plotly) {                    window.PLOTLYENV=window.PLOTLYENV || {};                                    if (document.getElementById(\"d7ddfe2f-5581-46af-9bf8-a4717a2d0cbd\")) {                    Plotly.newPlot(                        \"d7ddfe2f-5581-46af-9bf8-a4717a2d0cbd\",                        [{\"hovertemplate\":\"symbol=c\\u003cbr\\u003ex=%{x}\\u003cbr\\u003ey=%{y}\\u003cbr\\u003ecolor=%{marker.color}\\u003cextra\\u003e\\u003c\\u002fextra\\u003e\",\"legendgroup\":\"c\",\"marker\":{\"color\":[0.05,0.1,0.15,0.2,0.25,0.3,0.35,0.4,0.45,0.5,0.55,0.6,0.65,0.7,0.75,0.8,0.85,0.9,0.95],\"coloraxis\":\"coloraxis\",\"symbol\":\"square\"},\"mode\":\"markers\",\"name\":\"c\",\"orientation\":\"v\",\"showlegend\":true,\"x\":[-0.5640201980347441,-0.5640201980347441,-0.5438089809465573,-0.5270029277712088,-0.49569188115423124,-0.44813859021558444,-0.4209535093684604,-0.19700924764797198,-0.02106633312535318,0.012796958946082833,0.0740824009414058,0.13633696269790738,0.17210666017969725,0.27387465015478346,0.3144269552646423,0.32586338246728974,0.38432352994846936,0.3988212611257074,0.40664995125151654],\"xaxis\":\"x\",\"y\":[0.07501831508633286,0.07501831508633286,0.06673229955777242,0.0734153596040241,0.053246255645742945,0.03811928229581824,0.028169696887586082,-0.037200897619191535,-0.1375922642700694,-0.1455698584154392,-0.15886841472515176,-0.1715721566888361,-0.18994425442014154,-0.21995829415448062,-0.23257344979419628,-0.24288172647473621,-0.27902665537355675,-0.285654111691778,-0.28789886611874893],\"yaxis\":\"y\",\"type\":\"scatter\"},{\"hovertemplate\":\"symbol=h\\u003cbr\\u003ex=%{x}\\u003cbr\\u003ey=%{y}\\u003cbr\\u003ecolor=%{marker.color}\\u003cextra\\u003e\\u003c\\u002fextra\\u003e\",\"legendgroup\":\"h\",\"marker\":{\"color\":[0.05,0.1,0.15,0.2,0.25,0.3,0.35,0.4,0.45,0.5,0.55,0.6,0.65,0.7,0.75,0.8,0.85,0.9,0.95],\"coloraxis\":\"coloraxis\",\"symbol\":\"circle\"},\"mode\":\"markers\",\"name\":\"h\",\"orientation\":\"v\",\"showlegend\":true,\"x\":[-0.5521683027061739,-0.5521683027061739,-0.5275645675999787,-0.4851786296796798,-0.43459803391692964,-0.3932775193909151,-0.37128703418858494,-0.23424641017057501,0.04025940433178297,0.10141243749954958,0.16865861371204754,0.20025500590191822,0.2678069486750868,0.2902225739546676,0.3218038652919883,0.3313279596515669,0.3987587719078,0.4126121758480939,0.439261921353329],\"xaxis\":\"x\",\"y\":[0.07441262185909801,0.07441262185909801,0.06293723199774566,0.05316757298115793,0.03515313505916684,0.019036879624870665,0.01093484103412783,-0.026320617561147324,-0.1410681359517969,-0.1563183687848691,-0.17559275123719226,-0.18024339210852744,-0.21081974953803845,-0.2202426299270235,-0.23762466114965344,-0.24106972964898707,-0.2947054022600975,-0.2997715778985451,-0.29743792957417764],\"yaxis\":\"y\",\"type\":\"scatter\"},{\"hovertemplate\":\"symbol=n\\u003cbr\\u003ex=%{x}\\u003cbr\\u003ey=%{y}\\u003cbr\\u003ecolor=%{marker.color}\\u003cextra\\u003e\\u003c\\u002fextra\\u003e\",\"legendgroup\":\"n\",\"marker\":{\"color\":[0.05,0.1,0.15,0.2,0.25,0.3,0.35,0.4,0.45,0.5,0.55,0.6,0.65,0.7,0.75,0.8,0.85,0.9,0.95],\"coloraxis\":\"coloraxis\",\"symbol\":\"x\"},\"mode\":\"markers\",\"name\":\"n\",\"orientation\":\"v\",\"showlegend\":true,\"x\":[-0.5721665720067385,-0.5721665720067385,-0.5473627163077461,-0.49697202327693696,-0.4736269083925541,-0.4196424107733126,-0.15335370268579435,-0.116478959408384,0.038331235048812536,0.10724784092342673,0.1766254039597532,0.22007317317372538,0.28910763628512826,0.3195045896635014,0.3540153796735508,0.3749959583201281,0.4032121290582001,0.45092664583826036,0.4648135719506618],\"xaxis\":\"x\",\"y\":[0.07700583941092787,0.07700583941092787,0.07209290271508262,0.044092418373047455,0.04269575031171026,0.022165844633587853,-0.06335817408779876,-0.072766907335601,-0.10976032532306795,-0.08094424594694248,-0.09575861205908413,-0.10782644663746885,-0.13072232745470155,-0.14441346848522182,-0.15614308898647006,-0.16418945562018367,-0.17959991536929312,-0.21401577496581436,-0.2190065511883274],\"yaxis\":\"y\",\"type\":\"scatter\"},{\"hovertemplate\":\"symbol=s\\u003cbr\\u003ex=%{x}\\u003cbr\\u003ey=%{y}\\u003cbr\\u003ecolor=%{marker.color}\\u003cextra\\u003e\\u003c\\u002fextra\\u003e\",\"legendgroup\":\"s\",\"marker\":{\"color\":[0.05,0.1,0.15,0.2,0.25,0.3,0.35,0.4,0.45,0.5,0.55,0.6,0.65,0.7,0.75,0.8,0.85,0.9,0.95],\"coloraxis\":\"coloraxis\",\"symbol\":\"triangle-up\"},\"mode\":\"markers\",\"name\":\"s\",\"orientation\":\"v\",\"showlegend\":true,\"x\":[-0.5670553512235481,-0.5670553512235481,-0.5090210831325286,-0.46012507514633244,-0.4095990007620522,-0.37041125274963793,-0.23925648216408163,-0.09282576137661232,0.20170323295124132,0.24542033380253356,0.3293918579338352,0.41519655384790766,0.4821817901795249,0.5029102456782095,0.551747057150066,0.5625937426561017,0.6309176039435307,0.6385406436891653,0.6682008724618187],\"xaxis\":\"x\",\"y\":[0.0776120997722599,0.0776120997722599,0.06021943401952775,0.043749654604002854,0.03213257241961384,0.018523917017018218,-0.032708936526590376,-0.06803000564276215,0.4517571629502976,0.4380848383176775,0.4671162788430831,0.5035872390230567,0.4771040224767068,0.5355968213940796,0.5089765718992835,0.5080075389082761,0.5058719083776665,0.46462817111155624,0.4637867766751861],\"yaxis\":\"y\",\"type\":\"scatter\"}],                        {\"template\":{\"data\":{\"histogram2dcontour\":[{\"type\":\"histogram2dcontour\",\"colorbar\":{\"outlinewidth\":0,\"ticks\":\"\"},\"colorscale\":[[0.0,\"#0d0887\"],[0.1111111111111111,\"#46039f\"],[0.2222222222222222,\"#7201a8\"],[0.3333333333333333,\"#9c179e\"],[0.4444444444444444,\"#bd3786\"],[0.5555555555555556,\"#d8576b\"],[0.6666666666666666,\"#ed7953\"],[0.7777777777777778,\"#fb9f3a\"],[0.8888888888888888,\"#fdca26\"],[1.0,\"#f0f921\"]]}],\"choropleth\":[{\"type\":\"choropleth\",\"colorbar\":{\"outlinewidth\":0,\"ticks\":\"\"}}],\"histogram2d\":[{\"type\":\"histogram2d\",\"colorbar\":{\"outlinewidth\":0,\"ticks\":\"\"},\"colorscale\":[[0.0,\"#0d0887\"],[0.1111111111111111,\"#46039f\"],[0.2222222222222222,\"#7201a8\"],[0.3333333333333333,\"#9c179e\"],[0.4444444444444444,\"#bd3786\"],[0.5555555555555556,\"#d8576b\"],[0.6666666666666666,\"#ed7953\"],[0.7777777777777778,\"#fb9f3a\"],[0.8888888888888888,\"#fdca26\"],[1.0,\"#f0f921\"]]}],\"heatmap\":[{\"type\":\"heatmap\",\"colorbar\":{\"outlinewidth\":0,\"ticks\":\"\"},\"colorscale\":[[0.0,\"#0d0887\"],[0.1111111111111111,\"#46039f\"],[0.2222222222222222,\"#7201a8\"],[0.3333333333333333,\"#9c179e\"],[0.4444444444444444,\"#bd3786\"],[0.5555555555555556,\"#d8576b\"],[0.6666666666666666,\"#ed7953\"],[0.7777777777777778,\"#fb9f3a\"],[0.8888888888888888,\"#fdca26\"],[1.0,\"#f0f921\"]]}],\"heatmapgl\":[{\"type\":\"heatmapgl\",\"colorbar\":{\"outlinewidth\":0,\"ticks\":\"\"},\"colorscale\":[[0.0,\"#0d0887\"],[0.1111111111111111,\"#46039f\"],[0.2222222222222222,\"#7201a8\"],[0.3333333333333333,\"#9c179e\"],[0.4444444444444444,\"#bd3786\"],[0.5555555555555556,\"#d8576b\"],[0.6666666666666666,\"#ed7953\"],[0.7777777777777778,\"#fb9f3a\"],[0.8888888888888888,\"#fdca26\"],[1.0,\"#f0f921\"]]}],\"contourcarpet\":[{\"type\":\"contourcarpet\",\"colorbar\":{\"outlinewidth\":0,\"ticks\":\"\"}}],\"contour\":[{\"type\":\"contour\",\"colorbar\":{\"outlinewidth\":0,\"ticks\":\"\"},\"colorscale\":[[0.0,\"#0d0887\"],[0.1111111111111111,\"#46039f\"],[0.2222222222222222,\"#7201a8\"],[0.3333333333333333,\"#9c179e\"],[0.4444444444444444,\"#bd3786\"],[0.5555555555555556,\"#d8576b\"],[0.6666666666666666,\"#ed7953\"],[0.7777777777777778,\"#fb9f3a\"],[0.8888888888888888,\"#fdca26\"],[1.0,\"#f0f921\"]]}],\"surface\":[{\"type\":\"surface\",\"colorbar\":{\"outlinewidth\":0,\"ticks\":\"\"},\"colorscale\":[[0.0,\"#0d0887\"],[0.1111111111111111,\"#46039f\"],[0.2222222222222222,\"#7201a8\"],[0.3333333333333333,\"#9c179e\"],[0.4444444444444444,\"#bd3786\"],[0.5555555555555556,\"#d8576b\"],[0.6666666666666666,\"#ed7953\"],[0.7777777777777778,\"#fb9f3a\"],[0.8888888888888888,\"#fdca26\"],[1.0,\"#f0f921\"]]}],\"mesh3d\":[{\"type\":\"mesh3d\",\"colorbar\":{\"outlinewidth\":0,\"ticks\":\"\"}}],\"scatter\":[{\"fillpattern\":{\"fillmode\":\"overlay\",\"size\":10,\"solidity\":0.2},\"type\":\"scatter\"}],\"parcoords\":[{\"type\":\"parcoords\",\"line\":{\"colorbar\":{\"outlinewidth\":0,\"ticks\":\"\"}}}],\"scatterpolargl\":[{\"type\":\"scatterpolargl\",\"marker\":{\"colorbar\":{\"outlinewidth\":0,\"ticks\":\"\"}}}],\"bar\":[{\"error_x\":{\"color\":\"#2a3f5f\"},\"error_y\":{\"color\":\"#2a3f5f\"},\"marker\":{\"line\":{\"color\":\"#E5ECF6\",\"width\":0.5},\"pattern\":{\"fillmode\":\"overlay\",\"size\":10,\"solidity\":0.2}},\"type\":\"bar\"}],\"scattergeo\":[{\"type\":\"scattergeo\",\"marker\":{\"colorbar\":{\"outlinewidth\":0,\"ticks\":\"\"}}}],\"scatterpolar\":[{\"type\":\"scatterpolar\",\"marker\":{\"colorbar\":{\"outlinewidth\":0,\"ticks\":\"\"}}}],\"histogram\":[{\"marker\":{\"pattern\":{\"fillmode\":\"overlay\",\"size\":10,\"solidity\":0.2}},\"type\":\"histogram\"}],\"scattergl\":[{\"type\":\"scattergl\",\"marker\":{\"colorbar\":{\"outlinewidth\":0,\"ticks\":\"\"}}}],\"scatter3d\":[{\"type\":\"scatter3d\",\"line\":{\"colorbar\":{\"outlinewidth\":0,\"ticks\":\"\"}},\"marker\":{\"colorbar\":{\"outlinewidth\":0,\"ticks\":\"\"}}}],\"scattermapbox\":[{\"type\":\"scattermapbox\",\"marker\":{\"colorbar\":{\"outlinewidth\":0,\"ticks\":\"\"}}}],\"scatterternary\":[{\"type\":\"scatterternary\",\"marker\":{\"colorbar\":{\"outlinewidth\":0,\"ticks\":\"\"}}}],\"scattercarpet\":[{\"type\":\"scattercarpet\",\"marker\":{\"colorbar\":{\"outlinewidth\":0,\"ticks\":\"\"}}}],\"carpet\":[{\"aaxis\":{\"endlinecolor\":\"#2a3f5f\",\"gridcolor\":\"white\",\"linecolor\":\"white\",\"minorgridcolor\":\"white\",\"startlinecolor\":\"#2a3f5f\"},\"baxis\":{\"endlinecolor\":\"#2a3f5f\",\"gridcolor\":\"white\",\"linecolor\":\"white\",\"minorgridcolor\":\"white\",\"startlinecolor\":\"#2a3f5f\"},\"type\":\"carpet\"}],\"table\":[{\"cells\":{\"fill\":{\"color\":\"#EBF0F8\"},\"line\":{\"color\":\"white\"}},\"header\":{\"fill\":{\"color\":\"#C8D4E3\"},\"line\":{\"color\":\"white\"}},\"type\":\"table\"}],\"barpolar\":[{\"marker\":{\"line\":{\"color\":\"#E5ECF6\",\"width\":0.5},\"pattern\":{\"fillmode\":\"overlay\",\"size\":10,\"solidity\":0.2}},\"type\":\"barpolar\"}],\"pie\":[{\"automargin\":true,\"type\":\"pie\"}]},\"layout\":{\"autotypenumbers\":\"strict\",\"colorway\":[\"#636efa\",\"#EF553B\",\"#00cc96\",\"#ab63fa\",\"#FFA15A\",\"#19d3f3\",\"#FF6692\",\"#B6E880\",\"#FF97FF\",\"#FECB52\"],\"font\":{\"color\":\"#2a3f5f\"},\"hovermode\":\"closest\",\"hoverlabel\":{\"align\":\"left\"},\"paper_bgcolor\":\"white\",\"plot_bgcolor\":\"#E5ECF6\",\"polar\":{\"bgcolor\":\"#E5ECF6\",\"angularaxis\":{\"gridcolor\":\"white\",\"linecolor\":\"white\",\"ticks\":\"\"},\"radialaxis\":{\"gridcolor\":\"white\",\"linecolor\":\"white\",\"ticks\":\"\"}},\"ternary\":{\"bgcolor\":\"#E5ECF6\",\"aaxis\":{\"gridcolor\":\"white\",\"linecolor\":\"white\",\"ticks\":\"\"},\"baxis\":{\"gridcolor\":\"white\",\"linecolor\":\"white\",\"ticks\":\"\"},\"caxis\":{\"gridcolor\":\"white\",\"linecolor\":\"white\",\"ticks\":\"\"}},\"coloraxis\":{\"colorbar\":{\"outlinewidth\":0,\"ticks\":\"\"}},\"colorscale\":{\"sequential\":[[0.0,\"#0d0887\"],[0.1111111111111111,\"#46039f\"],[0.2222222222222222,\"#7201a8\"],[0.3333333333333333,\"#9c179e\"],[0.4444444444444444,\"#bd3786\"],[0.5555555555555556,\"#d8576b\"],[0.6666666666666666,\"#ed7953\"],[0.7777777777777778,\"#fb9f3a\"],[0.8888888888888888,\"#fdca26\"],[1.0,\"#f0f921\"]],\"sequentialminus\":[[0.0,\"#0d0887\"],[0.1111111111111111,\"#46039f\"],[0.2222222222222222,\"#7201a8\"],[0.3333333333333333,\"#9c179e\"],[0.4444444444444444,\"#bd3786\"],[0.5555555555555556,\"#d8576b\"],[0.6666666666666666,\"#ed7953\"],[0.7777777777777778,\"#fb9f3a\"],[0.8888888888888888,\"#fdca26\"],[1.0,\"#f0f921\"]],\"diverging\":[[0,\"#8e0152\"],[0.1,\"#c51b7d\"],[0.2,\"#de77ae\"],[0.3,\"#f1b6da\"],[0.4,\"#fde0ef\"],[0.5,\"#f7f7f7\"],[0.6,\"#e6f5d0\"],[0.7,\"#b8e186\"],[0.8,\"#7fbc41\"],[0.9,\"#4d9221\"],[1,\"#276419\"]]},\"xaxis\":{\"gridcolor\":\"white\",\"linecolor\":\"white\",\"ticks\":\"\",\"title\":{\"standoff\":15},\"zerolinecolor\":\"white\",\"automargin\":true,\"zerolinewidth\":2},\"yaxis\":{\"gridcolor\":\"white\",\"linecolor\":\"white\",\"ticks\":\"\",\"title\":{\"standoff\":15},\"zerolinecolor\":\"white\",\"automargin\":true,\"zerolinewidth\":2},\"scene\":{\"xaxis\":{\"backgroundcolor\":\"#E5ECF6\",\"gridcolor\":\"white\",\"linecolor\":\"white\",\"showbackground\":true,\"ticks\":\"\",\"zerolinecolor\":\"white\",\"gridwidth\":2},\"yaxis\":{\"backgroundcolor\":\"#E5ECF6\",\"gridcolor\":\"white\",\"linecolor\":\"white\",\"showbackground\":true,\"ticks\":\"\",\"zerolinecolor\":\"white\",\"gridwidth\":2},\"zaxis\":{\"backgroundcolor\":\"#E5ECF6\",\"gridcolor\":\"white\",\"linecolor\":\"white\",\"showbackground\":true,\"ticks\":\"\",\"zerolinecolor\":\"white\",\"gridwidth\":2}},\"shapedefaults\":{\"line\":{\"color\":\"#2a3f5f\"}},\"annotationdefaults\":{\"arrowcolor\":\"#2a3f5f\",\"arrowhead\":0,\"arrowwidth\":1},\"geo\":{\"bgcolor\":\"white\",\"landcolor\":\"#E5ECF6\",\"subunitcolor\":\"white\",\"showland\":true,\"showlakes\":true,\"lakecolor\":\"white\"},\"title\":{\"x\":0.05},\"mapbox\":{\"style\":\"light\"}}},\"xaxis\":{\"anchor\":\"y\",\"domain\":[0.0,1.0],\"title\":{\"text\":\"Dim 1 (39.2%)\"}},\"yaxis\":{\"anchor\":\"x\",\"domain\":[0.0,1.0],\"title\":{\"text\":\"Dim 2 (12.9%)\"}},\"coloraxis\":{\"colorbar\":{\"title\":{\"text\":\"Threshold\"},\"yanchor\":\"top\",\"y\":1.02,\"x\":1.1,\"ticks\":\"outside\"},\"colorscale\":[[0.0,\"#fde725\"],[0.1111111111111111,\"#b5de2b\"],[0.2222222222222222,\"#6ece58\"],[0.3333333333333333,\"#35b779\"],[0.4444444444444444,\"#1f9e89\"],[0.5555555555555556,\"#26828e\"],[0.6666666666666666,\"#31688e\"],[0.7777777777777778,\"#3e4989\"],[0.8888888888888888,\"#482878\"],[1.0,\"#440154\"]],\"cmin\":0.2,\"cmax\":0.85},\"legend\":{\"title\":{\"text\":\"Condition\"},\"tracegroupgap\":0},\"margin\":{\"t\":20,\"l\":20,\"r\":20,\"b\":20},\"width\":1200,\"height\":360},                        {\"responsive\": true}                    ).then(function(){\n",
       "                            \n",
       "var gd = document.getElementById('d7ddfe2f-5581-46af-9bf8-a4717a2d0cbd');\n",
       "var x = new MutationObserver(function (mutations, observer) {{\n",
       "        var display = window.getComputedStyle(gd).display;\n",
       "        if (!display || display === 'none') {{\n",
       "            console.log([gd, 'removed!']);\n",
       "            Plotly.purge(gd);\n",
       "            observer.disconnect();\n",
       "        }}\n",
       "}});\n",
       "\n",
       "// Listen for the removal of the full notebook cells\n",
       "var notebookContainer = gd.closest('#notebook-container');\n",
       "if (notebookContainer) {{\n",
       "    x.observe(notebookContainer, {childList: true});\n",
       "}}\n",
       "\n",
       "// Listen for the clearing of the current output cell\n",
       "var outputEl = gd.closest('.output');\n",
       "if (outputEl) {{\n",
       "    x.observe(outputEl, {childList: true});\n",
       "}}\n",
       "\n",
       "                        })                };                });            </script>        </div>"
      ]
     },
     "metadata": {},
     "output_type": "display_data"
    }
   ],
   "source": [
    "mca = MCA(n_components=3, random_state=42)\n",
    "components = mca.fit_transform(fastcore).to_numpy()\n",
    "\n",
    "symbol_list = [e.split(\"_\")[0][0] for e in fastcore.index.tolist()]\n",
    "symbols = ['square', 'circle', 'x', 'triangle-up']\n",
    "y = list(float(e.split(\"_\")[-1]) for e in fastcore.index.tolist())\n",
    "plot(components, y,\n",
    "    f\"Dim 1 ({round(mca.percentage_of_variance_[0],1)}%)\",\n",
    "    f\"Dim 2 ({round(mca.percentage_of_variance_[1],1)}%)\",\n",
    "    os.path.join(RESULTS_PATH,\"mca_3_fastcore_full_ng\"),\n",
    "    \"Condition\",\n",
    "    symbol = symbol_list, symbol_sequence=symbols,\n",
    "    color_continuous_scale=px.colors.sequential.Viridis_r,\n",
    "    width=1200,\n",
    "    range_color=[min(best_thresholds_set), max(best_thresholds_set)]\n",
    ")"
   ]
  },
  {
   "cell_type": "code",
   "execution_count": 60,
   "id": "27e22044-0417-433c-a001-f1f743565b8f",
   "metadata": {},
   "outputs": [
    {
     "data": {
      "application/vnd.plotly.v1+json": {
       "config": {
        "plotlyServerURL": "https://plot.ly"
       },
       "data": [
        {
         "hovertemplate": "symbol=c<br>x=%{x}<br>y=%{y}<br>color=%{marker.color}<extra></extra>",
         "legendgroup": "c",
         "marker": {
          "color": [
           0.05,
           0.1,
           0.15,
           0.2,
           0.25,
           0.3,
           0.35,
           0.4,
           0.45,
           0.5,
           0.55,
           0.6,
           0.65,
           0.7,
           0.75,
           0.8,
           0.85,
           0.9,
           0.95
          ],
          "coloraxis": "coloraxis",
          "symbol": "square"
         },
         "mode": "markers",
         "name": "c",
         "orientation": "v",
         "showlegend": true,
         "type": "scatter",
         "x": [
          0.7188779108048534,
          0.7188779108048534,
          0.7094055777145716,
          0.6690290635505067,
          0.6566054116677467,
          0.5968393166765495,
          0.5636395098722901,
          0.3399234641287796,
          -0.210110889532041,
          -0.24580051365045247,
          -0.2714700212770876,
          -0.31961197517462736,
          -0.37541420615071697,
          -0.44101081959804833,
          -0.4582851174893236,
          -0.4725728463366988,
          -0.5097119918089486,
          -0.5255016768080948,
          -0.5284832678295681
         ],
         "xaxis": "x",
         "y": [
          0.18979162023297025,
          0.18979162023297025,
          0.17309285193232882,
          0.10812602355105871,
          0.01717066041561821,
          -0.018707994590498662,
          -0.058478750138596915,
          -0.23588892524886804,
          -0.32117451235310246,
          -0.3078524978288164,
          -0.2864968634717676,
          -0.2229919620530887,
          -0.12747643716049611,
          -0.030793173763416008,
          0.003790374207522415,
          0.03973775057247314,
          0.18766219170708476,
          0.2555473861334017,
          0.29539244344733556
         ],
         "yaxis": "y"
        },
        {
         "hovertemplate": "symbol=h<br>x=%{x}<br>y=%{y}<br>color=%{marker.color}<extra></extra>",
         "legendgroup": "h",
         "marker": {
          "color": [
           0.05,
           0.1,
           0.15,
           0.2,
           0.25,
           0.3,
           0.35,
           0.4,
           0.45,
           0.5,
           0.55,
           0.6,
           0.65,
           0.7,
           0.75,
           0.8,
           0.85,
           0.9,
           0.95
          ],
          "coloraxis": "coloraxis",
          "symbol": "circle"
         },
         "mode": "markers",
         "name": "h",
         "orientation": "v",
         "showlegend": true,
         "type": "scatter",
         "x": [
          0.7167637764629391,
          0.7167637764629391,
          0.6805453294153143,
          0.6337483916275597,
          0.5720818172683205,
          0.5446508383998881,
          0.5019341345200835,
          0.3633052092825361,
          -0.2421806497166815,
          -0.27822322587668274,
          -0.33480129968535827,
          -0.3639467013999132,
          -0.4368854965871311,
          -0.4561718975477964,
          -0.47433720490803855,
          -0.4794694326685084,
          -0.5228548053501478,
          -0.5286931879230975,
          -0.5397349506633529
         ],
         "xaxis": "x",
         "y": [
          0.202980012675749,
          0.202980012675749,
          0.1537814126670576,
          0.04911579977906711,
          -0.037569885192280834,
          -0.09252771728269228,
          -0.10793810702787068,
          -0.21763681729534157,
          -0.3061502175425805,
          -0.2893720566960578,
          -0.2222406020191479,
          -0.16287966617335173,
          -0.0265969339040385,
          0.007931409185129643,
          0.056583690486513974,
          0.09455333999122036,
          0.25238056825020444,
          0.27174457545499764,
          0.3277298894921631
         ],
         "yaxis": "y"
        },
        {
         "hovertemplate": "symbol=n<br>x=%{x}<br>y=%{y}<br>color=%{marker.color}<extra></extra>",
         "legendgroup": "n",
         "marker": {
          "color": [
           0.05,
           0.1,
           0.15,
           0.2,
           0.25,
           0.3,
           0.35,
           0.4,
           0.45,
           0.5,
           0.55,
           0.6,
           0.65,
           0.7,
           0.75,
           0.8,
           0.85,
           0.9,
           0.95
          ],
          "coloraxis": "coloraxis",
          "symbol": "x"
         },
         "mode": "markers",
         "name": "n",
         "orientation": "v",
         "showlegend": true,
         "type": "scatter",
         "x": [
          0.7270939618323886,
          0.7270939618323886,
          0.7058626818002056,
          0.6403861744479138,
          0.6324672791551711,
          0.577065520957003,
          0.3396625676092341,
          0.3022938652609706,
          -0.2331676505725053,
          -0.26908743846262323,
          -0.3236295598191744,
          -0.37500854514895976,
          -0.4199737482062871,
          -0.44495786344508953,
          -0.46565001021478275,
          -0.4751729808813259,
          -0.49100388345924284,
          -0.5189425530465768,
          -0.5326390825597489
         ],
         "xaxis": "x",
         "y": [
          0.16966909843687497,
          0.16966909843687497,
          0.14824816156617182,
          0.05024785164761083,
          0.017169474543396335,
          -0.05816260873586137,
          -0.29667225839562755,
          -0.29544334852481485,
          -0.3381788033716047,
          -0.3404750156948905,
          -0.29229109284464194,
          -0.21693818741002918,
          -0.12910978879045673,
          -0.05730449156094981,
          -0.012544663299365374,
          0.017908555073098367,
          0.05121152243745125,
          0.15603976278916948,
          0.23469179153486058
         ],
         "yaxis": "y"
        },
        {
         "hovertemplate": "symbol=s<br>x=%{x}<br>y=%{y}<br>color=%{marker.color}<extra></extra>",
         "legendgroup": "s",
         "marker": {
          "color": [
           0.05,
           0.1,
           0.15,
           0.2,
           0.25,
           0.3,
           0.35,
           0.4,
           0.45,
           0.5,
           0.55,
           0.6,
           0.65,
           0.7,
           0.75,
           0.8,
           0.85,
           0.9,
           0.95
          ],
          "coloraxis": "coloraxis",
          "symbol": "triangle-up"
         },
         "mode": "markers",
         "name": "s",
         "orientation": "v",
         "showlegend": true,
         "type": "scatter",
         "x": [
          0.7202446368373817,
          0.7202446368373817,
          0.6742119810373356,
          0.597850391806454,
          0.5531892794266913,
          0.5105501926265017,
          0.42248258573663505,
          0.2642040731853824,
          -0.29345180023923434,
          -0.3344141853088884,
          -0.37572535414266806,
          -0.4296328128550321,
          -0.4947365817715756,
          -0.5149655241627339,
          -0.5326411557824655,
          -0.5397486621432331,
          -0.5717296068087919,
          -0.5808994113601735,
          -0.5854446406753329
         ],
         "xaxis": "x",
         "y": [
          0.19183977384518938,
          0.19183977384518938,
          0.1410156384600246,
          -0.004058552000424206,
          -0.04453962999609025,
          -0.09849605463113782,
          -0.2093177217454208,
          -0.3377964654397767,
          -0.19092898709559028,
          -0.14665458313700155,
          -0.11979842722803022,
          -0.030144953472696297,
          0.08158156380581669,
          0.12332478345212806,
          0.18053925946492536,
          0.20769607906149185,
          0.3212701913527137,
          0.3549830952765518,
          0.40279964499625764
         ],
         "yaxis": "y"
        }
       ],
       "layout": {
        "coloraxis": {
         "cmax": 0.85,
         "cmin": 0.2,
         "colorbar": {
          "ticks": "outside",
          "title": {
           "text": "Threshold"
          },
          "x": 1.1,
          "y": 1.02,
          "yanchor": "top"
         },
         "colorscale": [
          [
           0,
           "#fde725"
          ],
          [
           0.1111111111111111,
           "#b5de2b"
          ],
          [
           0.2222222222222222,
           "#6ece58"
          ],
          [
           0.3333333333333333,
           "#35b779"
          ],
          [
           0.4444444444444444,
           "#1f9e89"
          ],
          [
           0.5555555555555556,
           "#26828e"
          ],
          [
           0.6666666666666666,
           "#31688e"
          ],
          [
           0.7777777777777778,
           "#3e4989"
          ],
          [
           0.8888888888888888,
           "#482878"
          ],
          [
           1,
           "#440154"
          ]
         ]
        },
        "height": 360,
        "legend": {
         "title": {
          "text": "Condition"
         },
         "tracegroupgap": 0
        },
        "margin": {
         "b": 20,
         "l": 20,
         "r": 20,
         "t": 20
        },
        "template": {
         "data": {
          "bar": [
           {
            "error_x": {
             "color": "#2a3f5f"
            },
            "error_y": {
             "color": "#2a3f5f"
            },
            "marker": {
             "line": {
              "color": "#E5ECF6",
              "width": 0.5
             },
             "pattern": {
              "fillmode": "overlay",
              "size": 10,
              "solidity": 0.2
             }
            },
            "type": "bar"
           }
          ],
          "barpolar": [
           {
            "marker": {
             "line": {
              "color": "#E5ECF6",
              "width": 0.5
             },
             "pattern": {
              "fillmode": "overlay",
              "size": 10,
              "solidity": 0.2
             }
            },
            "type": "barpolar"
           }
          ],
          "carpet": [
           {
            "aaxis": {
             "endlinecolor": "#2a3f5f",
             "gridcolor": "white",
             "linecolor": "white",
             "minorgridcolor": "white",
             "startlinecolor": "#2a3f5f"
            },
            "baxis": {
             "endlinecolor": "#2a3f5f",
             "gridcolor": "white",
             "linecolor": "white",
             "minorgridcolor": "white",
             "startlinecolor": "#2a3f5f"
            },
            "type": "carpet"
           }
          ],
          "choropleth": [
           {
            "colorbar": {
             "outlinewidth": 0,
             "ticks": ""
            },
            "type": "choropleth"
           }
          ],
          "contour": [
           {
            "colorbar": {
             "outlinewidth": 0,
             "ticks": ""
            },
            "colorscale": [
             [
              0,
              "#0d0887"
             ],
             [
              0.1111111111111111,
              "#46039f"
             ],
             [
              0.2222222222222222,
              "#7201a8"
             ],
             [
              0.3333333333333333,
              "#9c179e"
             ],
             [
              0.4444444444444444,
              "#bd3786"
             ],
             [
              0.5555555555555556,
              "#d8576b"
             ],
             [
              0.6666666666666666,
              "#ed7953"
             ],
             [
              0.7777777777777778,
              "#fb9f3a"
             ],
             [
              0.8888888888888888,
              "#fdca26"
             ],
             [
              1,
              "#f0f921"
             ]
            ],
            "type": "contour"
           }
          ],
          "contourcarpet": [
           {
            "colorbar": {
             "outlinewidth": 0,
             "ticks": ""
            },
            "type": "contourcarpet"
           }
          ],
          "heatmap": [
           {
            "colorbar": {
             "outlinewidth": 0,
             "ticks": ""
            },
            "colorscale": [
             [
              0,
              "#0d0887"
             ],
             [
              0.1111111111111111,
              "#46039f"
             ],
             [
              0.2222222222222222,
              "#7201a8"
             ],
             [
              0.3333333333333333,
              "#9c179e"
             ],
             [
              0.4444444444444444,
              "#bd3786"
             ],
             [
              0.5555555555555556,
              "#d8576b"
             ],
             [
              0.6666666666666666,
              "#ed7953"
             ],
             [
              0.7777777777777778,
              "#fb9f3a"
             ],
             [
              0.8888888888888888,
              "#fdca26"
             ],
             [
              1,
              "#f0f921"
             ]
            ],
            "type": "heatmap"
           }
          ],
          "heatmapgl": [
           {
            "colorbar": {
             "outlinewidth": 0,
             "ticks": ""
            },
            "colorscale": [
             [
              0,
              "#0d0887"
             ],
             [
              0.1111111111111111,
              "#46039f"
             ],
             [
              0.2222222222222222,
              "#7201a8"
             ],
             [
              0.3333333333333333,
              "#9c179e"
             ],
             [
              0.4444444444444444,
              "#bd3786"
             ],
             [
              0.5555555555555556,
              "#d8576b"
             ],
             [
              0.6666666666666666,
              "#ed7953"
             ],
             [
              0.7777777777777778,
              "#fb9f3a"
             ],
             [
              0.8888888888888888,
              "#fdca26"
             ],
             [
              1,
              "#f0f921"
             ]
            ],
            "type": "heatmapgl"
           }
          ],
          "histogram": [
           {
            "marker": {
             "pattern": {
              "fillmode": "overlay",
              "size": 10,
              "solidity": 0.2
             }
            },
            "type": "histogram"
           }
          ],
          "histogram2d": [
           {
            "colorbar": {
             "outlinewidth": 0,
             "ticks": ""
            },
            "colorscale": [
             [
              0,
              "#0d0887"
             ],
             [
              0.1111111111111111,
              "#46039f"
             ],
             [
              0.2222222222222222,
              "#7201a8"
             ],
             [
              0.3333333333333333,
              "#9c179e"
             ],
             [
              0.4444444444444444,
              "#bd3786"
             ],
             [
              0.5555555555555556,
              "#d8576b"
             ],
             [
              0.6666666666666666,
              "#ed7953"
             ],
             [
              0.7777777777777778,
              "#fb9f3a"
             ],
             [
              0.8888888888888888,
              "#fdca26"
             ],
             [
              1,
              "#f0f921"
             ]
            ],
            "type": "histogram2d"
           }
          ],
          "histogram2dcontour": [
           {
            "colorbar": {
             "outlinewidth": 0,
             "ticks": ""
            },
            "colorscale": [
             [
              0,
              "#0d0887"
             ],
             [
              0.1111111111111111,
              "#46039f"
             ],
             [
              0.2222222222222222,
              "#7201a8"
             ],
             [
              0.3333333333333333,
              "#9c179e"
             ],
             [
              0.4444444444444444,
              "#bd3786"
             ],
             [
              0.5555555555555556,
              "#d8576b"
             ],
             [
              0.6666666666666666,
              "#ed7953"
             ],
             [
              0.7777777777777778,
              "#fb9f3a"
             ],
             [
              0.8888888888888888,
              "#fdca26"
             ],
             [
              1,
              "#f0f921"
             ]
            ],
            "type": "histogram2dcontour"
           }
          ],
          "mesh3d": [
           {
            "colorbar": {
             "outlinewidth": 0,
             "ticks": ""
            },
            "type": "mesh3d"
           }
          ],
          "parcoords": [
           {
            "line": {
             "colorbar": {
              "outlinewidth": 0,
              "ticks": ""
             }
            },
            "type": "parcoords"
           }
          ],
          "pie": [
           {
            "automargin": true,
            "type": "pie"
           }
          ],
          "scatter": [
           {
            "fillpattern": {
             "fillmode": "overlay",
             "size": 10,
             "solidity": 0.2
            },
            "type": "scatter"
           }
          ],
          "scatter3d": [
           {
            "line": {
             "colorbar": {
              "outlinewidth": 0,
              "ticks": ""
             }
            },
            "marker": {
             "colorbar": {
              "outlinewidth": 0,
              "ticks": ""
             }
            },
            "type": "scatter3d"
           }
          ],
          "scattercarpet": [
           {
            "marker": {
             "colorbar": {
              "outlinewidth": 0,
              "ticks": ""
             }
            },
            "type": "scattercarpet"
           }
          ],
          "scattergeo": [
           {
            "marker": {
             "colorbar": {
              "outlinewidth": 0,
              "ticks": ""
             }
            },
            "type": "scattergeo"
           }
          ],
          "scattergl": [
           {
            "marker": {
             "colorbar": {
              "outlinewidth": 0,
              "ticks": ""
             }
            },
            "type": "scattergl"
           }
          ],
          "scattermapbox": [
           {
            "marker": {
             "colorbar": {
              "outlinewidth": 0,
              "ticks": ""
             }
            },
            "type": "scattermapbox"
           }
          ],
          "scatterpolar": [
           {
            "marker": {
             "colorbar": {
              "outlinewidth": 0,
              "ticks": ""
             }
            },
            "type": "scatterpolar"
           }
          ],
          "scatterpolargl": [
           {
            "marker": {
             "colorbar": {
              "outlinewidth": 0,
              "ticks": ""
             }
            },
            "type": "scatterpolargl"
           }
          ],
          "scatterternary": [
           {
            "marker": {
             "colorbar": {
              "outlinewidth": 0,
              "ticks": ""
             }
            },
            "type": "scatterternary"
           }
          ],
          "surface": [
           {
            "colorbar": {
             "outlinewidth": 0,
             "ticks": ""
            },
            "colorscale": [
             [
              0,
              "#0d0887"
             ],
             [
              0.1111111111111111,
              "#46039f"
             ],
             [
              0.2222222222222222,
              "#7201a8"
             ],
             [
              0.3333333333333333,
              "#9c179e"
             ],
             [
              0.4444444444444444,
              "#bd3786"
             ],
             [
              0.5555555555555556,
              "#d8576b"
             ],
             [
              0.6666666666666666,
              "#ed7953"
             ],
             [
              0.7777777777777778,
              "#fb9f3a"
             ],
             [
              0.8888888888888888,
              "#fdca26"
             ],
             [
              1,
              "#f0f921"
             ]
            ],
            "type": "surface"
           }
          ],
          "table": [
           {
            "cells": {
             "fill": {
              "color": "#EBF0F8"
             },
             "line": {
              "color": "white"
             }
            },
            "header": {
             "fill": {
              "color": "#C8D4E3"
             },
             "line": {
              "color": "white"
             }
            },
            "type": "table"
           }
          ]
         },
         "layout": {
          "annotationdefaults": {
           "arrowcolor": "#2a3f5f",
           "arrowhead": 0,
           "arrowwidth": 1
          },
          "autotypenumbers": "strict",
          "coloraxis": {
           "colorbar": {
            "outlinewidth": 0,
            "ticks": ""
           }
          },
          "colorscale": {
           "diverging": [
            [
             0,
             "#8e0152"
            ],
            [
             0.1,
             "#c51b7d"
            ],
            [
             0.2,
             "#de77ae"
            ],
            [
             0.3,
             "#f1b6da"
            ],
            [
             0.4,
             "#fde0ef"
            ],
            [
             0.5,
             "#f7f7f7"
            ],
            [
             0.6,
             "#e6f5d0"
            ],
            [
             0.7,
             "#b8e186"
            ],
            [
             0.8,
             "#7fbc41"
            ],
            [
             0.9,
             "#4d9221"
            ],
            [
             1,
             "#276419"
            ]
           ],
           "sequential": [
            [
             0,
             "#0d0887"
            ],
            [
             0.1111111111111111,
             "#46039f"
            ],
            [
             0.2222222222222222,
             "#7201a8"
            ],
            [
             0.3333333333333333,
             "#9c179e"
            ],
            [
             0.4444444444444444,
             "#bd3786"
            ],
            [
             0.5555555555555556,
             "#d8576b"
            ],
            [
             0.6666666666666666,
             "#ed7953"
            ],
            [
             0.7777777777777778,
             "#fb9f3a"
            ],
            [
             0.8888888888888888,
             "#fdca26"
            ],
            [
             1,
             "#f0f921"
            ]
           ],
           "sequentialminus": [
            [
             0,
             "#0d0887"
            ],
            [
             0.1111111111111111,
             "#46039f"
            ],
            [
             0.2222222222222222,
             "#7201a8"
            ],
            [
             0.3333333333333333,
             "#9c179e"
            ],
            [
             0.4444444444444444,
             "#bd3786"
            ],
            [
             0.5555555555555556,
             "#d8576b"
            ],
            [
             0.6666666666666666,
             "#ed7953"
            ],
            [
             0.7777777777777778,
             "#fb9f3a"
            ],
            [
             0.8888888888888888,
             "#fdca26"
            ],
            [
             1,
             "#f0f921"
            ]
           ]
          },
          "colorway": [
           "#636efa",
           "#EF553B",
           "#00cc96",
           "#ab63fa",
           "#FFA15A",
           "#19d3f3",
           "#FF6692",
           "#B6E880",
           "#FF97FF",
           "#FECB52"
          ],
          "font": {
           "color": "#2a3f5f"
          },
          "geo": {
           "bgcolor": "white",
           "lakecolor": "white",
           "landcolor": "#E5ECF6",
           "showlakes": true,
           "showland": true,
           "subunitcolor": "white"
          },
          "hoverlabel": {
           "align": "left"
          },
          "hovermode": "closest",
          "mapbox": {
           "style": "light"
          },
          "paper_bgcolor": "white",
          "plot_bgcolor": "#E5ECF6",
          "polar": {
           "angularaxis": {
            "gridcolor": "white",
            "linecolor": "white",
            "ticks": ""
           },
           "bgcolor": "#E5ECF6",
           "radialaxis": {
            "gridcolor": "white",
            "linecolor": "white",
            "ticks": ""
           }
          },
          "scene": {
           "xaxis": {
            "backgroundcolor": "#E5ECF6",
            "gridcolor": "white",
            "gridwidth": 2,
            "linecolor": "white",
            "showbackground": true,
            "ticks": "",
            "zerolinecolor": "white"
           },
           "yaxis": {
            "backgroundcolor": "#E5ECF6",
            "gridcolor": "white",
            "gridwidth": 2,
            "linecolor": "white",
            "showbackground": true,
            "ticks": "",
            "zerolinecolor": "white"
           },
           "zaxis": {
            "backgroundcolor": "#E5ECF6",
            "gridcolor": "white",
            "gridwidth": 2,
            "linecolor": "white",
            "showbackground": true,
            "ticks": "",
            "zerolinecolor": "white"
           }
          },
          "shapedefaults": {
           "line": {
            "color": "#2a3f5f"
           }
          },
          "ternary": {
           "aaxis": {
            "gridcolor": "white",
            "linecolor": "white",
            "ticks": ""
           },
           "baxis": {
            "gridcolor": "white",
            "linecolor": "white",
            "ticks": ""
           },
           "bgcolor": "#E5ECF6",
           "caxis": {
            "gridcolor": "white",
            "linecolor": "white",
            "ticks": ""
           }
          },
          "title": {
           "x": 0.05
          },
          "xaxis": {
           "automargin": true,
           "gridcolor": "white",
           "linecolor": "white",
           "ticks": "",
           "title": {
            "standoff": 15
           },
           "zerolinecolor": "white",
           "zerolinewidth": 2
          },
          "yaxis": {
           "automargin": true,
           "gridcolor": "white",
           "linecolor": "white",
           "ticks": "",
           "title": {
            "standoff": 15
           },
           "zerolinecolor": "white",
           "zerolinewidth": 2
          }
         }
        },
        "width": 1200,
        "xaxis": {
         "anchor": "y",
         "autorange": true,
         "domain": [
          0,
          1
         ],
         "range": [
          -0.6649780030188704,
          0.8066273241759262
         ],
         "title": {
          "text": "Dim 1 (49.3%)"
         },
         "type": "linear"
        },
        "yaxis": {
         "anchor": "x",
         "autorange": true,
         "domain": [
          0,
          1
         ],
         "range": [
          -0.3941164485438131,
          0.45644107784518023
         ],
         "title": {
          "text": "Dim 2 (7.2%)"
         },
         "type": "linear"
        }
       }
      },
      "image/png": "[encoded data removed]",
      "text/html": [
       "<div>                            <div id=\"f611f99f-d38a-470a-8c23-3e313ef42a3c\" class=\"plotly-graph-div\" style=\"height:360px; width:1200px;\"></div>            <script type=\"text/javascript\">                require([\"plotly\"], function(Plotly) {                    window.PLOTLYENV=window.PLOTLYENV || {};                                    if (document.getElementById(\"f611f99f-d38a-470a-8c23-3e313ef42a3c\")) {                    Plotly.newPlot(                        \"f611f99f-d38a-470a-8c23-3e313ef42a3c\",                        [{\"hovertemplate\":\"symbol=c\\u003cbr\\u003ex=%{x}\\u003cbr\\u003ey=%{y}\\u003cbr\\u003ecolor=%{marker.color}\\u003cextra\\u003e\\u003c\\u002fextra\\u003e\",\"legendgroup\":\"c\",\"marker\":{\"color\":[0.05,0.1,0.15,0.2,0.25,0.3,0.35,0.4,0.45,0.5,0.55,0.6,0.65,0.7,0.75,0.8,0.85,0.9,0.95],\"coloraxis\":\"coloraxis\",\"symbol\":\"square\"},\"mode\":\"markers\",\"name\":\"c\",\"orientation\":\"v\",\"showlegend\":true,\"x\":[0.7188779108048534,0.7188779108048534,0.7094055777145716,0.6690290635505067,0.6566054116677467,0.5968393166765495,0.5636395098722901,0.3399234641287796,-0.210110889532041,-0.24580051365045247,-0.2714700212770876,-0.31961197517462736,-0.37541420615071697,-0.44101081959804833,-0.4582851174893236,-0.4725728463366988,-0.5097119918089486,-0.5255016768080948,-0.5284832678295681],\"xaxis\":\"x\",\"y\":[0.18979162023297025,0.18979162023297025,0.17309285193232882,0.10812602355105871,0.01717066041561821,-0.018707994590498662,-0.058478750138596915,-0.23588892524886804,-0.32117451235310246,-0.3078524978288164,-0.2864968634717676,-0.2229919620530887,-0.12747643716049611,-0.030793173763416008,0.003790374207522415,0.03973775057247314,0.18766219170708476,0.2555473861334017,0.29539244344733556],\"yaxis\":\"y\",\"type\":\"scatter\"},{\"hovertemplate\":\"symbol=h\\u003cbr\\u003ex=%{x}\\u003cbr\\u003ey=%{y}\\u003cbr\\u003ecolor=%{marker.color}\\u003cextra\\u003e\\u003c\\u002fextra\\u003e\",\"legendgroup\":\"h\",\"marker\":{\"color\":[0.05,0.1,0.15,0.2,0.25,0.3,0.35,0.4,0.45,0.5,0.55,0.6,0.65,0.7,0.75,0.8,0.85,0.9,0.95],\"coloraxis\":\"coloraxis\",\"symbol\":\"circle\"},\"mode\":\"markers\",\"name\":\"h\",\"orientation\":\"v\",\"showlegend\":true,\"x\":[0.7167637764629391,0.7167637764629391,0.6805453294153143,0.6337483916275597,0.5720818172683205,0.5446508383998881,0.5019341345200835,0.3633052092825361,-0.2421806497166815,-0.27822322587668274,-0.33480129968535827,-0.3639467013999132,-0.4368854965871311,-0.4561718975477964,-0.47433720490803855,-0.4794694326685084,-0.5228548053501478,-0.5286931879230975,-0.5397349506633529],\"xaxis\":\"x\",\"y\":[0.202980012675749,0.202980012675749,0.1537814126670576,0.04911579977906711,-0.037569885192280834,-0.09252771728269228,-0.10793810702787068,-0.21763681729534157,-0.3061502175425805,-0.2893720566960578,-0.2222406020191479,-0.16287966617335173,-0.0265969339040385,0.007931409185129643,0.056583690486513974,0.09455333999122036,0.25238056825020444,0.27174457545499764,0.3277298894921631],\"yaxis\":\"y\",\"type\":\"scatter\"},{\"hovertemplate\":\"symbol=n\\u003cbr\\u003ex=%{x}\\u003cbr\\u003ey=%{y}\\u003cbr\\u003ecolor=%{marker.color}\\u003cextra\\u003e\\u003c\\u002fextra\\u003e\",\"legendgroup\":\"n\",\"marker\":{\"color\":[0.05,0.1,0.15,0.2,0.25,0.3,0.35,0.4,0.45,0.5,0.55,0.6,0.65,0.7,0.75,0.8,0.85,0.9,0.95],\"coloraxis\":\"coloraxis\",\"symbol\":\"x\"},\"mode\":\"markers\",\"name\":\"n\",\"orientation\":\"v\",\"showlegend\":true,\"x\":[0.7270939618323886,0.7270939618323886,0.7058626818002056,0.6403861744479138,0.6324672791551711,0.577065520957003,0.3396625676092341,0.3022938652609706,-0.2331676505725053,-0.26908743846262323,-0.3236295598191744,-0.37500854514895976,-0.4199737482062871,-0.44495786344508953,-0.46565001021478275,-0.4751729808813259,-0.49100388345924284,-0.5189425530465768,-0.5326390825597489],\"xaxis\":\"x\",\"y\":[0.16966909843687497,0.16966909843687497,0.14824816156617182,0.05024785164761083,0.017169474543396335,-0.05816260873586137,-0.29667225839562755,-0.29544334852481485,-0.3381788033716047,-0.3404750156948905,-0.29229109284464194,-0.21693818741002918,-0.12910978879045673,-0.05730449156094981,-0.012544663299365374,0.017908555073098367,0.05121152243745125,0.15603976278916948,0.23469179153486058],\"yaxis\":\"y\",\"type\":\"scatter\"},{\"hovertemplate\":\"symbol=s\\u003cbr\\u003ex=%{x}\\u003cbr\\u003ey=%{y}\\u003cbr\\u003ecolor=%{marker.color}\\u003cextra\\u003e\\u003c\\u002fextra\\u003e\",\"legendgroup\":\"s\",\"marker\":{\"color\":[0.05,0.1,0.15,0.2,0.25,0.3,0.35,0.4,0.45,0.5,0.55,0.6,0.65,0.7,0.75,0.8,0.85,0.9,0.95],\"coloraxis\":\"coloraxis\",\"symbol\":\"triangle-up\"},\"mode\":\"markers\",\"name\":\"s\",\"orientation\":\"v\",\"showlegend\":true,\"x\":[0.7202446368373817,0.7202446368373817,0.6742119810373356,0.597850391806454,0.5531892794266913,0.5105501926265017,0.42248258573663505,0.2642040731853824,-0.29345180023923434,-0.3344141853088884,-0.37572535414266806,-0.4296328128550321,-0.4947365817715756,-0.5149655241627339,-0.5326411557824655,-0.5397486621432331,-0.5717296068087919,-0.5808994113601735,-0.5854446406753329],\"xaxis\":\"x\",\"y\":[0.19183977384518938,0.19183977384518938,0.1410156384600246,-0.004058552000424206,-0.04453962999609025,-0.09849605463113782,-0.2093177217454208,-0.3377964654397767,-0.19092898709559028,-0.14665458313700155,-0.11979842722803022,-0.030144953472696297,0.08158156380581669,0.12332478345212806,0.18053925946492536,0.20769607906149185,0.3212701913527137,0.3549830952765518,0.40279964499625764],\"yaxis\":\"y\",\"type\":\"scatter\"}],                        {\"template\":{\"data\":{\"histogram2dcontour\":[{\"type\":\"histogram2dcontour\",\"colorbar\":{\"outlinewidth\":0,\"ticks\":\"\"},\"colorscale\":[[0.0,\"#0d0887\"],[0.1111111111111111,\"#46039f\"],[0.2222222222222222,\"#7201a8\"],[0.3333333333333333,\"#9c179e\"],[0.4444444444444444,\"#bd3786\"],[0.5555555555555556,\"#d8576b\"],[0.6666666666666666,\"#ed7953\"],[0.7777777777777778,\"#fb9f3a\"],[0.8888888888888888,\"#fdca26\"],[1.0,\"#f0f921\"]]}],\"choropleth\":[{\"type\":\"choropleth\",\"colorbar\":{\"outlinewidth\":0,\"ticks\":\"\"}}],\"histogram2d\":[{\"type\":\"histogram2d\",\"colorbar\":{\"outlinewidth\":0,\"ticks\":\"\"},\"colorscale\":[[0.0,\"#0d0887\"],[0.1111111111111111,\"#46039f\"],[0.2222222222222222,\"#7201a8\"],[0.3333333333333333,\"#9c179e\"],[0.4444444444444444,\"#bd3786\"],[0.5555555555555556,\"#d8576b\"],[0.6666666666666666,\"#ed7953\"],[0.7777777777777778,\"#fb9f3a\"],[0.8888888888888888,\"#fdca26\"],[1.0,\"#f0f921\"]]}],\"heatmap\":[{\"type\":\"heatmap\",\"colorbar\":{\"outlinewidth\":0,\"ticks\":\"\"},\"colorscale\":[[0.0,\"#0d0887\"],[0.1111111111111111,\"#46039f\"],[0.2222222222222222,\"#7201a8\"],[0.3333333333333333,\"#9c179e\"],[0.4444444444444444,\"#bd3786\"],[0.5555555555555556,\"#d8576b\"],[0.6666666666666666,\"#ed7953\"],[0.7777777777777778,\"#fb9f3a\"],[0.8888888888888888,\"#fdca26\"],[1.0,\"#f0f921\"]]}],\"heatmapgl\":[{\"type\":\"heatmapgl\",\"colorbar\":{\"outlinewidth\":0,\"ticks\":\"\"},\"colorscale\":[[0.0,\"#0d0887\"],[0.1111111111111111,\"#46039f\"],[0.2222222222222222,\"#7201a8\"],[0.3333333333333333,\"#9c179e\"],[0.4444444444444444,\"#bd3786\"],[0.5555555555555556,\"#d8576b\"],[0.6666666666666666,\"#ed7953\"],[0.7777777777777778,\"#fb9f3a\"],[0.8888888888888888,\"#fdca26\"],[1.0,\"#f0f921\"]]}],\"contourcarpet\":[{\"type\":\"contourcarpet\",\"colorbar\":{\"outlinewidth\":0,\"ticks\":\"\"}}],\"contour\":[{\"type\":\"contour\",\"colorbar\":{\"outlinewidth\":0,\"ticks\":\"\"},\"colorscale\":[[0.0,\"#0d0887\"],[0.1111111111111111,\"#46039f\"],[0.2222222222222222,\"#7201a8\"],[0.3333333333333333,\"#9c179e\"],[0.4444444444444444,\"#bd3786\"],[0.5555555555555556,\"#d8576b\"],[0.6666666666666666,\"#ed7953\"],[0.7777777777777778,\"#fb9f3a\"],[0.8888888888888888,\"#fdca26\"],[1.0,\"#f0f921\"]]}],\"surface\":[{\"type\":\"surface\",\"colorbar\":{\"outlinewidth\":0,\"ticks\":\"\"},\"colorscale\":[[0.0,\"#0d0887\"],[0.1111111111111111,\"#46039f\"],[0.2222222222222222,\"#7201a8\"],[0.3333333333333333,\"#9c179e\"],[0.4444444444444444,\"#bd3786\"],[0.5555555555555556,\"#d8576b\"],[0.6666666666666666,\"#ed7953\"],[0.7777777777777778,\"#fb9f3a\"],[0.8888888888888888,\"#fdca26\"],[1.0,\"#f0f921\"]]}],\"mesh3d\":[{\"type\":\"mesh3d\",\"colorbar\":{\"outlinewidth\":0,\"ticks\":\"\"}}],\"scatter\":[{\"fillpattern\":{\"fillmode\":\"overlay\",\"size\":10,\"solidity\":0.2},\"type\":\"scatter\"}],\"parcoords\":[{\"type\":\"parcoords\",\"line\":{\"colorbar\":{\"outlinewidth\":0,\"ticks\":\"\"}}}],\"scatterpolargl\":[{\"type\":\"scatterpolargl\",\"marker\":{\"colorbar\":{\"outlinewidth\":0,\"ticks\":\"\"}}}],\"bar\":[{\"error_x\":{\"color\":\"#2a3f5f\"},\"error_y\":{\"color\":\"#2a3f5f\"},\"marker\":{\"line\":{\"color\":\"#E5ECF6\",\"width\":0.5},\"pattern\":{\"fillmode\":\"overlay\",\"size\":10,\"solidity\":0.2}},\"type\":\"bar\"}],\"scattergeo\":[{\"type\":\"scattergeo\",\"marker\":{\"colorbar\":{\"outlinewidth\":0,\"ticks\":\"\"}}}],\"scatterpolar\":[{\"type\":\"scatterpolar\",\"marker\":{\"colorbar\":{\"outlinewidth\":0,\"ticks\":\"\"}}}],\"histogram\":[{\"marker\":{\"pattern\":{\"fillmode\":\"overlay\",\"size\":10,\"solidity\":0.2}},\"type\":\"histogram\"}],\"scattergl\":[{\"type\":\"scattergl\",\"marker\":{\"colorbar\":{\"outlinewidth\":0,\"ticks\":\"\"}}}],\"scatter3d\":[{\"type\":\"scatter3d\",\"line\":{\"colorbar\":{\"outlinewidth\":0,\"ticks\":\"\"}},\"marker\":{\"colorbar\":{\"outlinewidth\":0,\"ticks\":\"\"}}}],\"scattermapbox\":[{\"type\":\"scattermapbox\",\"marker\":{\"colorbar\":{\"outlinewidth\":0,\"ticks\":\"\"}}}],\"scatterternary\":[{\"type\":\"scatterternary\",\"marker\":{\"colorbar\":{\"outlinewidth\":0,\"ticks\":\"\"}}}],\"scattercarpet\":[{\"type\":\"scattercarpet\",\"marker\":{\"colorbar\":{\"outlinewidth\":0,\"ticks\":\"\"}}}],\"carpet\":[{\"aaxis\":{\"endlinecolor\":\"#2a3f5f\",\"gridcolor\":\"white\",\"linecolor\":\"white\",\"minorgridcolor\":\"white\",\"startlinecolor\":\"#2a3f5f\"},\"baxis\":{\"endlinecolor\":\"#2a3f5f\",\"gridcolor\":\"white\",\"linecolor\":\"white\",\"minorgridcolor\":\"white\",\"startlinecolor\":\"#2a3f5f\"},\"type\":\"carpet\"}],\"table\":[{\"cells\":{\"fill\":{\"color\":\"#EBF0F8\"},\"line\":{\"color\":\"white\"}},\"header\":{\"fill\":{\"color\":\"#C8D4E3\"},\"line\":{\"color\":\"white\"}},\"type\":\"table\"}],\"barpolar\":[{\"marker\":{\"line\":{\"color\":\"#E5ECF6\",\"width\":0.5},\"pattern\":{\"fillmode\":\"overlay\",\"size\":10,\"solidity\":0.2}},\"type\":\"barpolar\"}],\"pie\":[{\"automargin\":true,\"type\":\"pie\"}]},\"layout\":{\"autotypenumbers\":\"strict\",\"colorway\":[\"#636efa\",\"#EF553B\",\"#00cc96\",\"#ab63fa\",\"#FFA15A\",\"#19d3f3\",\"#FF6692\",\"#B6E880\",\"#FF97FF\",\"#FECB52\"],\"font\":{\"color\":\"#2a3f5f\"},\"hovermode\":\"closest\",\"hoverlabel\":{\"align\":\"left\"},\"paper_bgcolor\":\"white\",\"plot_bgcolor\":\"#E5ECF6\",\"polar\":{\"bgcolor\":\"#E5ECF6\",\"angularaxis\":{\"gridcolor\":\"white\",\"linecolor\":\"white\",\"ticks\":\"\"},\"radialaxis\":{\"gridcolor\":\"white\",\"linecolor\":\"white\",\"ticks\":\"\"}},\"ternary\":{\"bgcolor\":\"#E5ECF6\",\"aaxis\":{\"gridcolor\":\"white\",\"linecolor\":\"white\",\"ticks\":\"\"},\"baxis\":{\"gridcolor\":\"white\",\"linecolor\":\"white\",\"ticks\":\"\"},\"caxis\":{\"gridcolor\":\"white\",\"linecolor\":\"white\",\"ticks\":\"\"}},\"coloraxis\":{\"colorbar\":{\"outlinewidth\":0,\"ticks\":\"\"}},\"colorscale\":{\"sequential\":[[0.0,\"#0d0887\"],[0.1111111111111111,\"#46039f\"],[0.2222222222222222,\"#7201a8\"],[0.3333333333333333,\"#9c179e\"],[0.4444444444444444,\"#bd3786\"],[0.5555555555555556,\"#d8576b\"],[0.6666666666666666,\"#ed7953\"],[0.7777777777777778,\"#fb9f3a\"],[0.8888888888888888,\"#fdca26\"],[1.0,\"#f0f921\"]],\"sequentialminus\":[[0.0,\"#0d0887\"],[0.1111111111111111,\"#46039f\"],[0.2222222222222222,\"#7201a8\"],[0.3333333333333333,\"#9c179e\"],[0.4444444444444444,\"#bd3786\"],[0.5555555555555556,\"#d8576b\"],[0.6666666666666666,\"#ed7953\"],[0.7777777777777778,\"#fb9f3a\"],[0.8888888888888888,\"#fdca26\"],[1.0,\"#f0f921\"]],\"diverging\":[[0,\"#8e0152\"],[0.1,\"#c51b7d\"],[0.2,\"#de77ae\"],[0.3,\"#f1b6da\"],[0.4,\"#fde0ef\"],[0.5,\"#f7f7f7\"],[0.6,\"#e6f5d0\"],[0.7,\"#b8e186\"],[0.8,\"#7fbc41\"],[0.9,\"#4d9221\"],[1,\"#276419\"]]},\"xaxis\":{\"gridcolor\":\"white\",\"linecolor\":\"white\",\"ticks\":\"\",\"title\":{\"standoff\":15},\"zerolinecolor\":\"white\",\"automargin\":true,\"zerolinewidth\":2},\"yaxis\":{\"gridcolor\":\"white\",\"linecolor\":\"white\",\"ticks\":\"\",\"title\":{\"standoff\":15},\"zerolinecolor\":\"white\",\"automargin\":true,\"zerolinewidth\":2},\"scene\":{\"xaxis\":{\"backgroundcolor\":\"#E5ECF6\",\"gridcolor\":\"white\",\"linecolor\":\"white\",\"showbackground\":true,\"ticks\":\"\",\"zerolinecolor\":\"white\",\"gridwidth\":2},\"yaxis\":{\"backgroundcolor\":\"#E5ECF6\",\"gridcolor\":\"white\",\"linecolor\":\"white\",\"showbackground\":true,\"ticks\":\"\",\"zerolinecolor\":\"white\",\"gridwidth\":2},\"zaxis\":{\"backgroundcolor\":\"#E5ECF6\",\"gridcolor\":\"white\",\"linecolor\":\"white\",\"showbackground\":true,\"ticks\":\"\",\"zerolinecolor\":\"white\",\"gridwidth\":2}},\"shapedefaults\":{\"line\":{\"color\":\"#2a3f5f\"}},\"annotationdefaults\":{\"arrowcolor\":\"#2a3f5f\",\"arrowhead\":0,\"arrowwidth\":1},\"geo\":{\"bgcolor\":\"white\",\"landcolor\":\"#E5ECF6\",\"subunitcolor\":\"white\",\"showland\":true,\"showlakes\":true,\"lakecolor\":\"white\"},\"title\":{\"x\":0.05},\"mapbox\":{\"style\":\"light\"}}},\"xaxis\":{\"anchor\":\"y\",\"domain\":[0.0,1.0],\"title\":{\"text\":\"Dim 1 (49.3%)\"}},\"yaxis\":{\"anchor\":\"x\",\"domain\":[0.0,1.0],\"title\":{\"text\":\"Dim 2 (7.2%)\"}},\"coloraxis\":{\"colorbar\":{\"title\":{\"text\":\"Threshold\"},\"yanchor\":\"top\",\"y\":1.02,\"x\":1.1,\"ticks\":\"outside\"},\"colorscale\":[[0.0,\"#fde725\"],[0.1111111111111111,\"#b5de2b\"],[0.2222222222222222,\"#6ece58\"],[0.3333333333333333,\"#35b779\"],[0.4444444444444444,\"#1f9e89\"],[0.5555555555555556,\"#26828e\"],[0.6666666666666666,\"#31688e\"],[0.7777777777777778,\"#3e4989\"],[0.8888888888888888,\"#482878\"],[1.0,\"#440154\"]],\"cmin\":0.2,\"cmax\":0.85},\"legend\":{\"title\":{\"text\":\"Condition\"},\"tracegroupgap\":0},\"margin\":{\"t\":20,\"l\":20,\"r\":20,\"b\":20},\"width\":1200,\"height\":360},                        {\"responsive\": true}                    ).then(function(){\n",
       "                            \n",
       "var gd = document.getElementById('f611f99f-d38a-470a-8c23-3e313ef42a3c');\n",
       "var x = new MutationObserver(function (mutations, observer) {{\n",
       "        var display = window.getComputedStyle(gd).display;\n",
       "        if (!display || display === 'none') {{\n",
       "            console.log([gd, 'removed!']);\n",
       "            Plotly.purge(gd);\n",
       "            observer.disconnect();\n",
       "        }}\n",
       "}});\n",
       "\n",
       "// Listen for the removal of the full notebook cells\n",
       "var notebookContainer = gd.closest('#notebook-container');\n",
       "if (notebookContainer) {{\n",
       "    x.observe(notebookContainer, {childList: true});\n",
       "}}\n",
       "\n",
       "// Listen for the clearing of the current output cell\n",
       "var outputEl = gd.closest('.output');\n",
       "if (outputEl) {{\n",
       "    x.observe(outputEl, {childList: true});\n",
       "}}\n",
       "\n",
       "                        })                };                });            </script>        </div>"
      ]
     },
     "metadata": {},
     "output_type": "display_data"
    }
   ],
   "source": [
    "mca = MCA(n_components=3, random_state=42)\n",
    "components = mca.fit_transform(gimme).to_numpy()\n",
    "\n",
    "symbol_list = [e.split(\"_\")[0][0] for e in gimme.index.tolist()]\n",
    "symbols = ['square', 'circle', 'x', 'triangle-up']\n",
    "y = list(float(e.split(\"_\")[-1]) for e in gimme.index.tolist())\n",
    "plot(components, y,\n",
    "    f\"Dim 1 ({round(mca.percentage_of_variance_[0],1)}%)\",\n",
    "    f\"Dim 2 ({round(mca.percentage_of_variance_[1],1)}%)\",\n",
    "    os.path.join(RESULTS_PATH,\"mca_3_fastcore_full_ng\"),\n",
    "    \"Condition\",\n",
    "    symbol = symbol_list, symbol_sequence=symbols,\n",
    "    color_continuous_scale=px.colors.sequential.Viridis_r,\n",
    "    width=1200,\n",
    "    range_color=[min(best_thresholds_set), max(best_thresholds_set)]\n",
    ")"
   ]
  }
 ],
 "metadata": {
  "kernelspec": {
   "display_name": "Python 3 (ipykernel)",
   "language": "python",
   "name": "python3"
  },
  "language_info": {
   "codemirror_mode": {
    "name": "ipython",
    "version": 3
   },
   "file_extension": ".py",
   "mimetype": "text/x-python",
   "name": "python",
   "nbconvert_exporter": "python",
   "pygments_lexer": "ipython3",
   "version": "3.10.14"
  }
 },
 "nbformat": 4,
 "nbformat_minor": 5
}
