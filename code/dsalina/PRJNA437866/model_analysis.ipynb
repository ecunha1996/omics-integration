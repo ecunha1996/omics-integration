{
 "cells": [
  {
   "cell_type": "code",
   "execution_count": 1,
   "id": "b00c5850-d1c7-44ae-8e38-9420a8b19f8a",
   "metadata": {},
   "outputs": [],
   "source": [
    "import pandas as pd\n",
    "from sklearn.preprocessing import OneHotEncoder\n",
    "from sklearn.manifold import TSNE\n",
    "import matplotlib.pyplot as plt\n",
    "import seaborn as sns\n",
    "from sklearn.decomposition import PCA\n",
    "from prince import MCA\n",
    "import conorm\n",
    "import sys\n",
    "import os\n",
    "sys.path.append(os.path.join(os.getcwd(), \"../../\"))\n",
    "sys.path.append(os.path.join(os.getcwd(), \"../../nextflow\"))\n",
    "from pca_analysis import plot, rank_models_difference\n",
    "import plotly.express as px\n",
    "from gsmmutils.omics.omics_integration import OmicsIntegration \n",
    "from gsmmutils.model.COBRAmodel import MyModel\n",
    "DATA_PATH = \"/home/ecunha/omics-integration/data/dsalina/PRJNA437866\"\n",
    "RESULTS_PATH = \"/home/ecunha/omics-integration/results/dsalina/PRJNA437866/integration/\"\n",
    "os.chdir(DATA_PATH)"
   ]
  },
  {
   "cell_type": "code",
   "execution_count": 2,
   "id": "5a50fabb-b81a-454b-866d-400a930ab334",
   "metadata": {},
   "outputs": [],
   "source": [
    "fastcore = pd.read_csv(os.path.join(RESULTS_PATH, \"fastcore_local_t2_3_1_2.csv\"), index_col=0)\n",
    "gimme = pd.read_csv(os.path.join(RESULTS_PATH, \"gimme_local_t2_3_1_2.csv\"), index_col=0)\n",
    "fastcore = fastcore.astype(int)\n",
    "gimme = gimme.astype(int)\n",
    "data = pd.concat([fastcore, gimme])\n",
    "control = data.filter(regex=\"^control*\", axis=0)\n",
    "sorb = data.filter(regex=\"^sorb.*\", axis=0)\n",
    "h2o2 = data.filter(regex=\"^h2o2.*\", axis=0)\n",
    "nacl = data.filter(regex=\"^nacl.*\", axis=0)"
   ]
  },
  {
   "cell_type": "code",
   "execution_count": 50,
   "id": "0b84e304-5c10-42cd-a7ff-619c2545a7df",
   "metadata": {
    "scrolled": true
   },
   "outputs": [
    {
     "data": {
      "application/vnd.plotly.v1+json": {
       "config": {
        "plotlyServerURL": "https://plot.ly"
       },
       "data": [
        {
         "hovertemplate": "color=FASTCORE<br>x=%{x}<br>y=%{y}<extra></extra>",
         "legendgroup": "FASTCORE",
         "marker": {
          "color": "#636efa",
          "symbol": "circle"
         },
         "mode": "markers",
         "name": "FASTCORE",
         "orientation": "v",
         "showlegend": true,
         "type": "scatter",
         "x": [
          -0.5921239829423823,
          -0.5904480552082056,
          -0.5740436619867327,
          -0.5872706883642108,
          -0.5921239829423823,
          -0.5904480552082056,
          -0.5740436619867327,
          -0.5872706883642108,
          -0.5799405907176545,
          -0.5591083965746384,
          -0.5632197034656857,
          -0.5850998547584563,
          -0.5128138677422598,
          -0.5243334892969276,
          -0.5321446285089284,
          -0.5700105709506057,
          -0.47054536975835365,
          -0.5099352063100157,
          -0.49489450929110296,
          -0.5385282316080331,
          -0.4459940033256955,
          -0.48578505942092837,
          -0.4566291375341714,
          -0.4959531326780799,
          -0.35412003120117597,
          -0.2660679989644826,
          -0.439129983035782,
          -0.4606431032023013,
          -0.2263092858303529,
          -0.24213575458324246,
          -0.31958253184580443,
          -0.2654921102998784,
          -0.2015548647625798,
          -0.2106195788393825,
          -0.2031073134470541,
          -0.2268876532872985,
          0.04959732219280175,
          -0.04738913051737286,
          0.062412830032372815,
          -0.11264467489858632,
          0.0898146704130567,
          0.015092800073673874,
          0.11685532563843593,
          -0.0660861369638767,
          0.13905087471677136,
          0.0838088779499124,
          0.1914177154381277,
          -0.026983633076519926,
          0.2095432974128785,
          0.12749816053249247,
          0.2724308761013789,
          0.006006066740144818,
          0.2423036416851855,
          0.1405706514881459,
          0.2948251418186171,
          0.07664175924061167,
          0.2554037061321765,
          0.15603186470597116,
          0.31698932225427234,
          0.0908746669188472,
          0.26040328560714504,
          0.17321830835988372,
          0.3156377514866978,
          0.10201758988605523,
          0.3107595620870701,
          0.22878957950708012,
          0.37494965920172063,
          0.1573691830893485,
          0.35202116150348445,
          0.249889393474736,
          0.39462277684522734,
          0.15947147745566895,
          0.3701977761003507,
          0.27055207684812177,
          0.42254387930620835,
          0.17738512350726135
         ],
         "xaxis": "x",
         "y": [
          0.023457616890444677,
          -0.002165999839337827,
          0.020838581760681235,
          0.02661596374357684,
          0.023457616890444677,
          -0.002165999839337827,
          0.020838581760681235,
          0.02661596374357684,
          0.033234782020719375,
          0.013550976060977077,
          0.03497647566243599,
          0.029615822850202044,
          0.08024606282402487,
          0.049654100623845336,
          0.04691463779957283,
          0.03955881244029485,
          0.0963899830831994,
          0.0565639290860132,
          0.08117569298787314,
          0.05617013015300135,
          0.10599605332973407,
          0.07653424591787564,
          0.09953752424083383,
          0.07324290473185535,
          0.16615121106096317,
          0.1800813274520902,
          0.11000156389957062,
          0.10501719588752591,
          0.21679005459813433,
          0.19771761137324814,
          0.156610106320885,
          0.1834292250086946,
          0.2352550462621827,
          0.21503754818633822,
          0.24209252657092878,
          0.2270631937098622,
          0.34531553574349694,
          0.2864917864180857,
          0.32367943554160783,
          0.3029084506496287,
          0.36764367363488093,
          0.3258578151775029,
          0.3394946734741153,
          0.3122247950827168,
          0.39050493155550653,
          0.3453250197361849,
          0.35514208733133723,
          0.33559119821583305,
          0.3979605713001576,
          0.3571286093908792,
          0.36970443313603046,
          0.3510489583034213,
          0.4001098722540982,
          0.36418255747623896,
          0.4047848262133692,
          0.3696822444312212,
          0.4243312756416073,
          0.37676609832582636,
          0.4061903928485157,
          0.3960053156584026,
          0.43298265098803707,
          0.38416010292868474,
          0.4208559140302974,
          0.4115823235399377,
          0.4670049311025202,
          0.40860851139302107,
          0.4407061590402096,
          0.44268831138286524,
          0.41112739164561796,
          0.4152642477667267,
          0.40431906661470285,
          0.46350808578593594,
          0.406541969781778,
          0.42921347898207873,
          0.3869490873202889,
          0.44966398634404375
         ],
         "yaxis": "y"
        },
        {
         "hovertemplate": "color=GIMME<br>x=%{x}<br>y=%{y}<extra></extra>",
         "legendgroup": "GIMME",
         "marker": {
          "color": "#EF553B",
          "symbol": "circle"
         },
         "mode": "markers",
         "name": "GIMME",
         "orientation": "v",
         "showlegend": true,
         "type": "scatter",
         "x": [
          -0.5680893852359247,
          -0.5668379167766487,
          -0.576718160467343,
          -0.5615123722411794,
          -0.5680893852359247,
          -0.5668379167766487,
          -0.576718160467343,
          -0.5615123722411794,
          -0.5428143006037094,
          -0.5650485983408186,
          -0.5402297241152663,
          -0.5324414404432981,
          -0.4954499420029267,
          -0.5557555164901562,
          -0.521648333254372,
          -0.5019824847805567,
          -0.432881014307843,
          -0.5276404029208647,
          -0.4742296670396019,
          -0.44726577490572816,
          -0.4036681310642298,
          -0.46626047500946893,
          -0.4604273846363645,
          -0.41678077520315304,
          -0.28406934679214185,
          -0.4084374808898959,
          -0.20690804370819754,
          -0.375496598479644,
          -0.1333605519310153,
          -0.1963803914949714,
          -0.16565492573280496,
          -0.23624567149149137,
          -0.1123881566626665,
          -0.14914538693417773,
          -0.11128822066621495,
          -0.12229442167475205,
          0.4584261391679585,
          0.3445205423967908,
          0.395713255267854,
          0.44114186814740114,
          0.4965191050251609,
          0.3696317915328099,
          0.46020534077062847,
          0.507398883675791,
          0.5583456607478029,
          0.4155760385653414,
          0.5220725651740035,
          0.574467803303647,
          0.6473877883599073,
          0.48963786088670197,
          0.5734368708180506,
          0.6615171533806369,
          0.6696837828288903,
          0.5591632762705456,
          0.6111850932073021,
          0.6917812984436438,
          0.7013082931960883,
          0.5881752204820343,
          0.6294273392053485,
          0.7211395358295452,
          0.7060370527432406,
          0.6029821356632272,
          0.6392864895834778,
          0.7248704801085395,
          0.7428537686031836,
          0.6455475765174706,
          0.6934510441204513,
          0.7572057015333481,
          0.7491990181314554,
          0.6487360884616277,
          0.7046436866566079,
          0.758226859069824,
          0.764031444006447,
          0.6502358516755594,
          0.7182887062443911,
          0.763514579164144
         ],
         "xaxis": "x",
         "y": [
          -0.26488782668486804,
          -0.2453488883002479,
          -0.2612641222128524,
          -0.24826408562150293,
          -0.26488782668486804,
          -0.2453488883002479,
          -0.2612641222128524,
          -0.24826408562150293,
          -0.28038961753617303,
          -0.2461412540037815,
          -0.2723684845969807,
          -0.2709164816171241,
          -0.2857404162743714,
          -0.2684878655018402,
          -0.25235547983329487,
          -0.2805956578920574,
          -0.2974152516188413,
          -0.2882849847828958,
          -0.25238249988118516,
          -0.30285122626938327,
          -0.28345658924922,
          -0.2900382567556461,
          -0.2961405246681539,
          -0.26799943434964124,
          -0.2720853440385694,
          -0.2908882190799038,
          -0.19107553655737616,
          -0.2968016215495466,
          -0.23542569470419167,
          -0.21210166992054663,
          -0.20282244029392615,
          -0.264689799673575,
          -0.2433925014763077,
          -0.22802601592363078,
          -0.23395949320663578,
          -0.23865966077514963,
          -0.2476950886309397,
          -0.26392503729755007,
          -0.23885566816428927,
          -0.23324132535716108,
          -0.23379382812046923,
          -0.2579076513170965,
          -0.23525319031504266,
          -0.2290531837640553,
          -0.23544347509609992,
          -0.24367338708889733,
          -0.22060845314006206,
          -0.22471620066035697,
          -0.250235476578731,
          -0.2581787950993904,
          -0.22969158077559557,
          -0.24504455117665186,
          -0.2389698382085248,
          -0.2448135149394293,
          -0.2521407523798058,
          -0.23338230179854044,
          -0.23870464584782342,
          -0.24882243929083467,
          -0.2538253045025583,
          -0.23059692107258606,
          -0.23759017842849606,
          -0.25008295476231,
          -0.24663260398032674,
          -0.2221191669417566,
          -0.23128790237122918,
          -0.21895478163994087,
          -0.23097572554325935,
          -0.21203395658264165,
          -0.23712182061605172,
          -0.21376963901068796,
          -0.23260483747202443,
          -0.21069658648531103,
          -0.22619170196585572,
          -0.21120960021482735,
          -0.217873286207025,
          -0.1966126249278944
         ],
         "yaxis": "y"
        }
       ],
       "layout": {
        "coloraxis": {
         "colorbar": {
          "len": 0.7,
          "ticks": "outside",
          "title": {
           "text": "Threshold"
          },
          "x": 1.01,
          "y": 0.4,
          "yanchor": "top"
         }
        },
        "font": {
         "family": "Arial",
         "size": 10
        },
        "height": 360,
        "legend": {
         "title": {
          "text": ""
         },
         "tracegroupgap": 0
        },
        "margin": {
         "b": 20,
         "l": 20,
         "r": 20,
         "t": 20
        },
        "template": {
         "data": {
          "bar": [
           {
            "error_x": {
             "color": "#2a3f5f"
            },
            "error_y": {
             "color": "#2a3f5f"
            },
            "marker": {
             "line": {
              "color": "#E5ECF6",
              "width": 0.5
             },
             "pattern": {
              "fillmode": "overlay",
              "size": 10,
              "solidity": 0.2
             }
            },
            "type": "bar"
           }
          ],
          "barpolar": [
           {
            "marker": {
             "line": {
              "color": "#E5ECF6",
              "width": 0.5
             },
             "pattern": {
              "fillmode": "overlay",
              "size": 10,
              "solidity": 0.2
             }
            },
            "type": "barpolar"
           }
          ],
          "carpet": [
           {
            "aaxis": {
             "endlinecolor": "#2a3f5f",
             "gridcolor": "white",
             "linecolor": "white",
             "minorgridcolor": "white",
             "startlinecolor": "#2a3f5f"
            },
            "baxis": {
             "endlinecolor": "#2a3f5f",
             "gridcolor": "white",
             "linecolor": "white",
             "minorgridcolor": "white",
             "startlinecolor": "#2a3f5f"
            },
            "type": "carpet"
           }
          ],
          "choropleth": [
           {
            "colorbar": {
             "outlinewidth": 0,
             "ticks": ""
            },
            "type": "choropleth"
           }
          ],
          "contour": [
           {
            "colorbar": {
             "outlinewidth": 0,
             "ticks": ""
            },
            "colorscale": [
             [
              0,
              "#0d0887"
             ],
             [
              0.1111111111111111,
              "#46039f"
             ],
             [
              0.2222222222222222,
              "#7201a8"
             ],
             [
              0.3333333333333333,
              "#9c179e"
             ],
             [
              0.4444444444444444,
              "#bd3786"
             ],
             [
              0.5555555555555556,
              "#d8576b"
             ],
             [
              0.6666666666666666,
              "#ed7953"
             ],
             [
              0.7777777777777778,
              "#fb9f3a"
             ],
             [
              0.8888888888888888,
              "#fdca26"
             ],
             [
              1,
              "#f0f921"
             ]
            ],
            "type": "contour"
           }
          ],
          "contourcarpet": [
           {
            "colorbar": {
             "outlinewidth": 0,
             "ticks": ""
            },
            "type": "contourcarpet"
           }
          ],
          "heatmap": [
           {
            "colorbar": {
             "outlinewidth": 0,
             "ticks": ""
            },
            "colorscale": [
             [
              0,
              "#0d0887"
             ],
             [
              0.1111111111111111,
              "#46039f"
             ],
             [
              0.2222222222222222,
              "#7201a8"
             ],
             [
              0.3333333333333333,
              "#9c179e"
             ],
             [
              0.4444444444444444,
              "#bd3786"
             ],
             [
              0.5555555555555556,
              "#d8576b"
             ],
             [
              0.6666666666666666,
              "#ed7953"
             ],
             [
              0.7777777777777778,
              "#fb9f3a"
             ],
             [
              0.8888888888888888,
              "#fdca26"
             ],
             [
              1,
              "#f0f921"
             ]
            ],
            "type": "heatmap"
           }
          ],
          "heatmapgl": [
           {
            "colorbar": {
             "outlinewidth": 0,
             "ticks": ""
            },
            "colorscale": [
             [
              0,
              "#0d0887"
             ],
             [
              0.1111111111111111,
              "#46039f"
             ],
             [
              0.2222222222222222,
              "#7201a8"
             ],
             [
              0.3333333333333333,
              "#9c179e"
             ],
             [
              0.4444444444444444,
              "#bd3786"
             ],
             [
              0.5555555555555556,
              "#d8576b"
             ],
             [
              0.6666666666666666,
              "#ed7953"
             ],
             [
              0.7777777777777778,
              "#fb9f3a"
             ],
             [
              0.8888888888888888,
              "#fdca26"
             ],
             [
              1,
              "#f0f921"
             ]
            ],
            "type": "heatmapgl"
           }
          ],
          "histogram": [
           {
            "marker": {
             "pattern": {
              "fillmode": "overlay",
              "size": 10,
              "solidity": 0.2
             }
            },
            "type": "histogram"
           }
          ],
          "histogram2d": [
           {
            "colorbar": {
             "outlinewidth": 0,
             "ticks": ""
            },
            "colorscale": [
             [
              0,
              "#0d0887"
             ],
             [
              0.1111111111111111,
              "#46039f"
             ],
             [
              0.2222222222222222,
              "#7201a8"
             ],
             [
              0.3333333333333333,
              "#9c179e"
             ],
             [
              0.4444444444444444,
              "#bd3786"
             ],
             [
              0.5555555555555556,
              "#d8576b"
             ],
             [
              0.6666666666666666,
              "#ed7953"
             ],
             [
              0.7777777777777778,
              "#fb9f3a"
             ],
             [
              0.8888888888888888,
              "#fdca26"
             ],
             [
              1,
              "#f0f921"
             ]
            ],
            "type": "histogram2d"
           }
          ],
          "histogram2dcontour": [
           {
            "colorbar": {
             "outlinewidth": 0,
             "ticks": ""
            },
            "colorscale": [
             [
              0,
              "#0d0887"
             ],
             [
              0.1111111111111111,
              "#46039f"
             ],
             [
              0.2222222222222222,
              "#7201a8"
             ],
             [
              0.3333333333333333,
              "#9c179e"
             ],
             [
              0.4444444444444444,
              "#bd3786"
             ],
             [
              0.5555555555555556,
              "#d8576b"
             ],
             [
              0.6666666666666666,
              "#ed7953"
             ],
             [
              0.7777777777777778,
              "#fb9f3a"
             ],
             [
              0.8888888888888888,
              "#fdca26"
             ],
             [
              1,
              "#f0f921"
             ]
            ],
            "type": "histogram2dcontour"
           }
          ],
          "mesh3d": [
           {
            "colorbar": {
             "outlinewidth": 0,
             "ticks": ""
            },
            "type": "mesh3d"
           }
          ],
          "parcoords": [
           {
            "line": {
             "colorbar": {
              "outlinewidth": 0,
              "ticks": ""
             }
            },
            "type": "parcoords"
           }
          ],
          "pie": [
           {
            "automargin": true,
            "type": "pie"
           }
          ],
          "scatter": [
           {
            "fillpattern": {
             "fillmode": "overlay",
             "size": 10,
             "solidity": 0.2
            },
            "type": "scatter"
           }
          ],
          "scatter3d": [
           {
            "line": {
             "colorbar": {
              "outlinewidth": 0,
              "ticks": ""
             }
            },
            "marker": {
             "colorbar": {
              "outlinewidth": 0,
              "ticks": ""
             }
            },
            "type": "scatter3d"
           }
          ],
          "scattercarpet": [
           {
            "marker": {
             "colorbar": {
              "outlinewidth": 0,
              "ticks": ""
             }
            },
            "type": "scattercarpet"
           }
          ],
          "scattergeo": [
           {
            "marker": {
             "colorbar": {
              "outlinewidth": 0,
              "ticks": ""
             }
            },
            "type": "scattergeo"
           }
          ],
          "scattergl": [
           {
            "marker": {
             "colorbar": {
              "outlinewidth": 0,
              "ticks": ""
             }
            },
            "type": "scattergl"
           }
          ],
          "scattermapbox": [
           {
            "marker": {
             "colorbar": {
              "outlinewidth": 0,
              "ticks": ""
             }
            },
            "type": "scattermapbox"
           }
          ],
          "scatterpolar": [
           {
            "marker": {
             "colorbar": {
              "outlinewidth": 0,
              "ticks": ""
             }
            },
            "type": "scatterpolar"
           }
          ],
          "scatterpolargl": [
           {
            "marker": {
             "colorbar": {
              "outlinewidth": 0,
              "ticks": ""
             }
            },
            "type": "scatterpolargl"
           }
          ],
          "scatterternary": [
           {
            "marker": {
             "colorbar": {
              "outlinewidth": 0,
              "ticks": ""
             }
            },
            "type": "scatterternary"
           }
          ],
          "surface": [
           {
            "colorbar": {
             "outlinewidth": 0,
             "ticks": ""
            },
            "colorscale": [
             [
              0,
              "#0d0887"
             ],
             [
              0.1111111111111111,
              "#46039f"
             ],
             [
              0.2222222222222222,
              "#7201a8"
             ],
             [
              0.3333333333333333,
              "#9c179e"
             ],
             [
              0.4444444444444444,
              "#bd3786"
             ],
             [
              0.5555555555555556,
              "#d8576b"
             ],
             [
              0.6666666666666666,
              "#ed7953"
             ],
             [
              0.7777777777777778,
              "#fb9f3a"
             ],
             [
              0.8888888888888888,
              "#fdca26"
             ],
             [
              1,
              "#f0f921"
             ]
            ],
            "type": "surface"
           }
          ],
          "table": [
           {
            "cells": {
             "fill": {
              "color": "#EBF0F8"
             },
             "line": {
              "color": "white"
             }
            },
            "header": {
             "fill": {
              "color": "#C8D4E3"
             },
             "line": {
              "color": "white"
             }
            },
            "type": "table"
           }
          ]
         },
         "layout": {
          "annotationdefaults": {
           "arrowcolor": "#2a3f5f",
           "arrowhead": 0,
           "arrowwidth": 1
          },
          "autotypenumbers": "strict",
          "coloraxis": {
           "colorbar": {
            "outlinewidth": 0,
            "ticks": ""
           }
          },
          "colorscale": {
           "diverging": [
            [
             0,
             "#8e0152"
            ],
            [
             0.1,
             "#c51b7d"
            ],
            [
             0.2,
             "#de77ae"
            ],
            [
             0.3,
             "#f1b6da"
            ],
            [
             0.4,
             "#fde0ef"
            ],
            [
             0.5,
             "#f7f7f7"
            ],
            [
             0.6,
             "#e6f5d0"
            ],
            [
             0.7,
             "#b8e186"
            ],
            [
             0.8,
             "#7fbc41"
            ],
            [
             0.9,
             "#4d9221"
            ],
            [
             1,
             "#276419"
            ]
           ],
           "sequential": [
            [
             0,
             "#0d0887"
            ],
            [
             0.1111111111111111,
             "#46039f"
            ],
            [
             0.2222222222222222,
             "#7201a8"
            ],
            [
             0.3333333333333333,
             "#9c179e"
            ],
            [
             0.4444444444444444,
             "#bd3786"
            ],
            [
             0.5555555555555556,
             "#d8576b"
            ],
            [
             0.6666666666666666,
             "#ed7953"
            ],
            [
             0.7777777777777778,
             "#fb9f3a"
            ],
            [
             0.8888888888888888,
             "#fdca26"
            ],
            [
             1,
             "#f0f921"
            ]
           ],
           "sequentialminus": [
            [
             0,
             "#0d0887"
            ],
            [
             0.1111111111111111,
             "#46039f"
            ],
            [
             0.2222222222222222,
             "#7201a8"
            ],
            [
             0.3333333333333333,
             "#9c179e"
            ],
            [
             0.4444444444444444,
             "#bd3786"
            ],
            [
             0.5555555555555556,
             "#d8576b"
            ],
            [
             0.6666666666666666,
             "#ed7953"
            ],
            [
             0.7777777777777778,
             "#fb9f3a"
            ],
            [
             0.8888888888888888,
             "#fdca26"
            ],
            [
             1,
             "#f0f921"
            ]
           ]
          },
          "colorway": [
           "#636efa",
           "#EF553B",
           "#00cc96",
           "#ab63fa",
           "#FFA15A",
           "#19d3f3",
           "#FF6692",
           "#B6E880",
           "#FF97FF",
           "#FECB52"
          ],
          "font": {
           "color": "#2a3f5f"
          },
          "geo": {
           "bgcolor": "white",
           "lakecolor": "white",
           "landcolor": "#E5ECF6",
           "showlakes": true,
           "showland": true,
           "subunitcolor": "white"
          },
          "hoverlabel": {
           "align": "left"
          },
          "hovermode": "closest",
          "mapbox": {
           "style": "light"
          },
          "paper_bgcolor": "white",
          "plot_bgcolor": "#E5ECF6",
          "polar": {
           "angularaxis": {
            "gridcolor": "white",
            "linecolor": "white",
            "ticks": ""
           },
           "bgcolor": "#E5ECF6",
           "radialaxis": {
            "gridcolor": "white",
            "linecolor": "white",
            "ticks": ""
           }
          },
          "scene": {
           "xaxis": {
            "backgroundcolor": "#E5ECF6",
            "gridcolor": "white",
            "gridwidth": 2,
            "linecolor": "white",
            "showbackground": true,
            "ticks": "",
            "zerolinecolor": "white"
           },
           "yaxis": {
            "backgroundcolor": "#E5ECF6",
            "gridcolor": "white",
            "gridwidth": 2,
            "linecolor": "white",
            "showbackground": true,
            "ticks": "",
            "zerolinecolor": "white"
           },
           "zaxis": {
            "backgroundcolor": "#E5ECF6",
            "gridcolor": "white",
            "gridwidth": 2,
            "linecolor": "white",
            "showbackground": true,
            "ticks": "",
            "zerolinecolor": "white"
           }
          },
          "shapedefaults": {
           "line": {
            "color": "#2a3f5f"
           }
          },
          "ternary": {
           "aaxis": {
            "gridcolor": "white",
            "linecolor": "white",
            "ticks": ""
           },
           "baxis": {
            "gridcolor": "white",
            "linecolor": "white",
            "ticks": ""
           },
           "bgcolor": "#E5ECF6",
           "caxis": {
            "gridcolor": "white",
            "linecolor": "white",
            "ticks": ""
           }
          },
          "title": {
           "x": 0.05
          },
          "xaxis": {
           "automargin": true,
           "gridcolor": "white",
           "linecolor": "white",
           "ticks": "",
           "title": {
            "standoff": 15
           },
           "zerolinecolor": "white",
           "zerolinewidth": 2
          },
          "yaxis": {
           "automargin": true,
           "gridcolor": "white",
           "linecolor": "white",
           "ticks": "",
           "title": {
            "standoff": 15
           },
           "zerolinecolor": "white",
           "zerolinewidth": 2
          }
         }
        },
        "width": 1200,
        "xaxis": {
         "anchor": "y",
         "autorange": true,
         "color": "black",
         "domain": [
          0,
          1
         ],
         "range": [
          -0.6736536948778737,
          0.8455611559419384
         ],
         "title": {
          "text": "Dim 1 (35.7%)"
         },
         "type": "linear"
        },
        "yaxis": {
         "anchor": "x",
         "autorange": true,
         "color": "black",
         "domain": [
          0,
          1
         ],
         "range": [
          -0.358230030042598,
          0.522383734875735
         ],
         "title": {
          "standoff": 2,
          "text": "Dim 2 (12.3%)"
         },
         "type": "linear"
        }
       }
      },
      "image/png": "[encoded data removed]",
      "text/html": [
       "<div>                            <div id=\"4f2b2d57-524e-48a8-a469-dbe1c654925c\" class=\"plotly-graph-div\" style=\"height:360px; width:1200px;\"></div>            <script type=\"text/javascript\">                require([\"plotly\"], function(Plotly) {                    window.PLOTLYENV=window.PLOTLYENV || {};                                    if (document.getElementById(\"4f2b2d57-524e-48a8-a469-dbe1c654925c\")) {                    Plotly.newPlot(                        \"4f2b2d57-524e-48a8-a469-dbe1c654925c\",                        [{\"hovertemplate\":\"color=FASTCORE\\u003cbr\\u003ex=%{x}\\u003cbr\\u003ey=%{y}\\u003cextra\\u003e\\u003c\\u002fextra\\u003e\",\"legendgroup\":\"FASTCORE\",\"marker\":{\"color\":\"#636efa\",\"symbol\":\"circle\"},\"mode\":\"markers\",\"name\":\"FASTCORE\",\"orientation\":\"v\",\"showlegend\":true,\"x\":[-0.5921239829423823,-0.5904480552082056,-0.5740436619867327,-0.5872706883642108,-0.5921239829423823,-0.5904480552082056,-0.5740436619867327,-0.5872706883642108,-0.5799405907176545,-0.5591083965746384,-0.5632197034656857,-0.5850998547584563,-0.5128138677422598,-0.5243334892969276,-0.5321446285089284,-0.5700105709506057,-0.47054536975835365,-0.5099352063100157,-0.49489450929110296,-0.5385282316080331,-0.4459940033256955,-0.48578505942092837,-0.4566291375341714,-0.4959531326780799,-0.35412003120117597,-0.2660679989644826,-0.439129983035782,-0.4606431032023013,-0.2263092858303529,-0.24213575458324246,-0.31958253184580443,-0.2654921102998784,-0.2015548647625798,-0.2106195788393825,-0.2031073134470541,-0.2268876532872985,0.04959732219280175,-0.04738913051737286,0.062412830032372815,-0.11264467489858632,0.0898146704130567,0.015092800073673874,0.11685532563843593,-0.0660861369638767,0.13905087471677136,0.0838088779499124,0.1914177154381277,-0.026983633076519926,0.2095432974128785,0.12749816053249247,0.2724308761013789,0.006006066740144818,0.2423036416851855,0.1405706514881459,0.2948251418186171,0.07664175924061167,0.2554037061321765,0.15603186470597116,0.31698932225427234,0.0908746669188472,0.26040328560714504,0.17321830835988372,0.3156377514866978,0.10201758988605523,0.3107595620870701,0.22878957950708012,0.37494965920172063,0.1573691830893485,0.35202116150348445,0.249889393474736,0.39462277684522734,0.15947147745566895,0.3701977761003507,0.27055207684812177,0.42254387930620835,0.17738512350726135],\"xaxis\":\"x\",\"y\":[0.023457616890444677,-0.002165999839337827,0.020838581760681235,0.02661596374357684,0.023457616890444677,-0.002165999839337827,0.020838581760681235,0.02661596374357684,0.033234782020719375,0.013550976060977077,0.03497647566243599,0.029615822850202044,0.08024606282402487,0.049654100623845336,0.04691463779957283,0.03955881244029485,0.0963899830831994,0.0565639290860132,0.08117569298787314,0.05617013015300135,0.10599605332973407,0.07653424591787564,0.09953752424083383,0.07324290473185535,0.16615121106096317,0.1800813274520902,0.11000156389957062,0.10501719588752591,0.21679005459813433,0.19771761137324814,0.156610106320885,0.1834292250086946,0.2352550462621827,0.21503754818633822,0.24209252657092878,0.2270631937098622,0.34531553574349694,0.2864917864180857,0.32367943554160783,0.3029084506496287,0.36764367363488093,0.3258578151775029,0.3394946734741153,0.3122247950827168,0.39050493155550653,0.3453250197361849,0.35514208733133723,0.33559119821583305,0.3979605713001576,0.3571286093908792,0.36970443313603046,0.3510489583034213,0.4001098722540982,0.36418255747623896,0.4047848262133692,0.3696822444312212,0.4243312756416073,0.37676609832582636,0.4061903928485157,0.3960053156584026,0.43298265098803707,0.38416010292868474,0.4208559140302974,0.4115823235399377,0.4670049311025202,0.40860851139302107,0.4407061590402096,0.44268831138286524,0.41112739164561796,0.4152642477667267,0.40431906661470285,0.46350808578593594,0.406541969781778,0.42921347898207873,0.3869490873202889,0.44966398634404375],\"yaxis\":\"y\",\"type\":\"scatter\"},{\"hovertemplate\":\"color=GIMME\\u003cbr\\u003ex=%{x}\\u003cbr\\u003ey=%{y}\\u003cextra\\u003e\\u003c\\u002fextra\\u003e\",\"legendgroup\":\"GIMME\",\"marker\":{\"color\":\"#EF553B\",\"symbol\":\"circle\"},\"mode\":\"markers\",\"name\":\"GIMME\",\"orientation\":\"v\",\"showlegend\":true,\"x\":[-0.5680893852359247,-0.5668379167766487,-0.576718160467343,-0.5615123722411794,-0.5680893852359247,-0.5668379167766487,-0.576718160467343,-0.5615123722411794,-0.5428143006037094,-0.5650485983408186,-0.5402297241152663,-0.5324414404432981,-0.4954499420029267,-0.5557555164901562,-0.521648333254372,-0.5019824847805567,-0.432881014307843,-0.5276404029208647,-0.4742296670396019,-0.44726577490572816,-0.4036681310642298,-0.46626047500946893,-0.4604273846363645,-0.41678077520315304,-0.28406934679214185,-0.4084374808898959,-0.20690804370819754,-0.375496598479644,-0.1333605519310153,-0.1963803914949714,-0.16565492573280496,-0.23624567149149137,-0.1123881566626665,-0.14914538693417773,-0.11128822066621495,-0.12229442167475205,0.4584261391679585,0.3445205423967908,0.395713255267854,0.44114186814740114,0.4965191050251609,0.3696317915328099,0.46020534077062847,0.507398883675791,0.5583456607478029,0.4155760385653414,0.5220725651740035,0.574467803303647,0.6473877883599073,0.48963786088670197,0.5734368708180506,0.6615171533806369,0.6696837828288903,0.5591632762705456,0.6111850932073021,0.6917812984436438,0.7013082931960883,0.5881752204820343,0.6294273392053485,0.7211395358295452,0.7060370527432406,0.6029821356632272,0.6392864895834778,0.7248704801085395,0.7428537686031836,0.6455475765174706,0.6934510441204513,0.7572057015333481,0.7491990181314554,0.6487360884616277,0.7046436866566079,0.758226859069824,0.764031444006447,0.6502358516755594,0.7182887062443911,0.763514579164144],\"xaxis\":\"x\",\"y\":[-0.26488782668486804,-0.2453488883002479,-0.2612641222128524,-0.24826408562150293,-0.26488782668486804,-0.2453488883002479,-0.2612641222128524,-0.24826408562150293,-0.28038961753617303,-0.2461412540037815,-0.2723684845969807,-0.2709164816171241,-0.2857404162743714,-0.2684878655018402,-0.25235547983329487,-0.2805956578920574,-0.2974152516188413,-0.2882849847828958,-0.25238249988118516,-0.30285122626938327,-0.28345658924922,-0.2900382567556461,-0.2961405246681539,-0.26799943434964124,-0.2720853440385694,-0.2908882190799038,-0.19107553655737616,-0.2968016215495466,-0.23542569470419167,-0.21210166992054663,-0.20282244029392615,-0.264689799673575,-0.2433925014763077,-0.22802601592363078,-0.23395949320663578,-0.23865966077514963,-0.2476950886309397,-0.26392503729755007,-0.23885566816428927,-0.23324132535716108,-0.23379382812046923,-0.2579076513170965,-0.23525319031504266,-0.2290531837640553,-0.23544347509609992,-0.24367338708889733,-0.22060845314006206,-0.22471620066035697,-0.250235476578731,-0.2581787950993904,-0.22969158077559557,-0.24504455117665186,-0.2389698382085248,-0.2448135149394293,-0.2521407523798058,-0.23338230179854044,-0.23870464584782342,-0.24882243929083467,-0.2538253045025583,-0.23059692107258606,-0.23759017842849606,-0.25008295476231,-0.24663260398032674,-0.2221191669417566,-0.23128790237122918,-0.21895478163994087,-0.23097572554325935,-0.21203395658264165,-0.23712182061605172,-0.21376963901068796,-0.23260483747202443,-0.21069658648531103,-0.22619170196585572,-0.21120960021482735,-0.217873286207025,-0.1966126249278944],\"yaxis\":\"y\",\"type\":\"scatter\"}],                        {\"template\":{\"data\":{\"histogram2dcontour\":[{\"type\":\"histogram2dcontour\",\"colorbar\":{\"outlinewidth\":0,\"ticks\":\"\"},\"colorscale\":[[0.0,\"#0d0887\"],[0.1111111111111111,\"#46039f\"],[0.2222222222222222,\"#7201a8\"],[0.3333333333333333,\"#9c179e\"],[0.4444444444444444,\"#bd3786\"],[0.5555555555555556,\"#d8576b\"],[0.6666666666666666,\"#ed7953\"],[0.7777777777777778,\"#fb9f3a\"],[0.8888888888888888,\"#fdca26\"],[1.0,\"#f0f921\"]]}],\"choropleth\":[{\"type\":\"choropleth\",\"colorbar\":{\"outlinewidth\":0,\"ticks\":\"\"}}],\"histogram2d\":[{\"type\":\"histogram2d\",\"colorbar\":{\"outlinewidth\":0,\"ticks\":\"\"},\"colorscale\":[[0.0,\"#0d0887\"],[0.1111111111111111,\"#46039f\"],[0.2222222222222222,\"#7201a8\"],[0.3333333333333333,\"#9c179e\"],[0.4444444444444444,\"#bd3786\"],[0.5555555555555556,\"#d8576b\"],[0.6666666666666666,\"#ed7953\"],[0.7777777777777778,\"#fb9f3a\"],[0.8888888888888888,\"#fdca26\"],[1.0,\"#f0f921\"]]}],\"heatmap\":[{\"type\":\"heatmap\",\"colorbar\":{\"outlinewidth\":0,\"ticks\":\"\"},\"colorscale\":[[0.0,\"#0d0887\"],[0.1111111111111111,\"#46039f\"],[0.2222222222222222,\"#7201a8\"],[0.3333333333333333,\"#9c179e\"],[0.4444444444444444,\"#bd3786\"],[0.5555555555555556,\"#d8576b\"],[0.6666666666666666,\"#ed7953\"],[0.7777777777777778,\"#fb9f3a\"],[0.8888888888888888,\"#fdca26\"],[1.0,\"#f0f921\"]]}],\"heatmapgl\":[{\"type\":\"heatmapgl\",\"colorbar\":{\"outlinewidth\":0,\"ticks\":\"\"},\"colorscale\":[[0.0,\"#0d0887\"],[0.1111111111111111,\"#46039f\"],[0.2222222222222222,\"#7201a8\"],[0.3333333333333333,\"#9c179e\"],[0.4444444444444444,\"#bd3786\"],[0.5555555555555556,\"#d8576b\"],[0.6666666666666666,\"#ed7953\"],[0.7777777777777778,\"#fb9f3a\"],[0.8888888888888888,\"#fdca26\"],[1.0,\"#f0f921\"]]}],\"contourcarpet\":[{\"type\":\"contourcarpet\",\"colorbar\":{\"outlinewidth\":0,\"ticks\":\"\"}}],\"contour\":[{\"type\":\"contour\",\"colorbar\":{\"outlinewidth\":0,\"ticks\":\"\"},\"colorscale\":[[0.0,\"#0d0887\"],[0.1111111111111111,\"#46039f\"],[0.2222222222222222,\"#7201a8\"],[0.3333333333333333,\"#9c179e\"],[0.4444444444444444,\"#bd3786\"],[0.5555555555555556,\"#d8576b\"],[0.6666666666666666,\"#ed7953\"],[0.7777777777777778,\"#fb9f3a\"],[0.8888888888888888,\"#fdca26\"],[1.0,\"#f0f921\"]]}],\"surface\":[{\"type\":\"surface\",\"colorbar\":{\"outlinewidth\":0,\"ticks\":\"\"},\"colorscale\":[[0.0,\"#0d0887\"],[0.1111111111111111,\"#46039f\"],[0.2222222222222222,\"#7201a8\"],[0.3333333333333333,\"#9c179e\"],[0.4444444444444444,\"#bd3786\"],[0.5555555555555556,\"#d8576b\"],[0.6666666666666666,\"#ed7953\"],[0.7777777777777778,\"#fb9f3a\"],[0.8888888888888888,\"#fdca26\"],[1.0,\"#f0f921\"]]}],\"mesh3d\":[{\"type\":\"mesh3d\",\"colorbar\":{\"outlinewidth\":0,\"ticks\":\"\"}}],\"scatter\":[{\"fillpattern\":{\"fillmode\":\"overlay\",\"size\":10,\"solidity\":0.2},\"type\":\"scatter\"}],\"parcoords\":[{\"type\":\"parcoords\",\"line\":{\"colorbar\":{\"outlinewidth\":0,\"ticks\":\"\"}}}],\"scatterpolargl\":[{\"type\":\"scatterpolargl\",\"marker\":{\"colorbar\":{\"outlinewidth\":0,\"ticks\":\"\"}}}],\"bar\":[{\"error_x\":{\"color\":\"#2a3f5f\"},\"error_y\":{\"color\":\"#2a3f5f\"},\"marker\":{\"line\":{\"color\":\"#E5ECF6\",\"width\":0.5},\"pattern\":{\"fillmode\":\"overlay\",\"size\":10,\"solidity\":0.2}},\"type\":\"bar\"}],\"scattergeo\":[{\"type\":\"scattergeo\",\"marker\":{\"colorbar\":{\"outlinewidth\":0,\"ticks\":\"\"}}}],\"scatterpolar\":[{\"type\":\"scatterpolar\",\"marker\":{\"colorbar\":{\"outlinewidth\":0,\"ticks\":\"\"}}}],\"histogram\":[{\"marker\":{\"pattern\":{\"fillmode\":\"overlay\",\"size\":10,\"solidity\":0.2}},\"type\":\"histogram\"}],\"scattergl\":[{\"type\":\"scattergl\",\"marker\":{\"colorbar\":{\"outlinewidth\":0,\"ticks\":\"\"}}}],\"scatter3d\":[{\"type\":\"scatter3d\",\"line\":{\"colorbar\":{\"outlinewidth\":0,\"ticks\":\"\"}},\"marker\":{\"colorbar\":{\"outlinewidth\":0,\"ticks\":\"\"}}}],\"scattermapbox\":[{\"type\":\"scattermapbox\",\"marker\":{\"colorbar\":{\"outlinewidth\":0,\"ticks\":\"\"}}}],\"scatterternary\":[{\"type\":\"scatterternary\",\"marker\":{\"colorbar\":{\"outlinewidth\":0,\"ticks\":\"\"}}}],\"scattercarpet\":[{\"type\":\"scattercarpet\",\"marker\":{\"colorbar\":{\"outlinewidth\":0,\"ticks\":\"\"}}}],\"carpet\":[{\"aaxis\":{\"endlinecolor\":\"#2a3f5f\",\"gridcolor\":\"white\",\"linecolor\":\"white\",\"minorgridcolor\":\"white\",\"startlinecolor\":\"#2a3f5f\"},\"baxis\":{\"endlinecolor\":\"#2a3f5f\",\"gridcolor\":\"white\",\"linecolor\":\"white\",\"minorgridcolor\":\"white\",\"startlinecolor\":\"#2a3f5f\"},\"type\":\"carpet\"}],\"table\":[{\"cells\":{\"fill\":{\"color\":\"#EBF0F8\"},\"line\":{\"color\":\"white\"}},\"header\":{\"fill\":{\"color\":\"#C8D4E3\"},\"line\":{\"color\":\"white\"}},\"type\":\"table\"}],\"barpolar\":[{\"marker\":{\"line\":{\"color\":\"#E5ECF6\",\"width\":0.5},\"pattern\":{\"fillmode\":\"overlay\",\"size\":10,\"solidity\":0.2}},\"type\":\"barpolar\"}],\"pie\":[{\"automargin\":true,\"type\":\"pie\"}]},\"layout\":{\"autotypenumbers\":\"strict\",\"colorway\":[\"#636efa\",\"#EF553B\",\"#00cc96\",\"#ab63fa\",\"#FFA15A\",\"#19d3f3\",\"#FF6692\",\"#B6E880\",\"#FF97FF\",\"#FECB52\"],\"font\":{\"color\":\"#2a3f5f\"},\"hovermode\":\"closest\",\"hoverlabel\":{\"align\":\"left\"},\"paper_bgcolor\":\"white\",\"plot_bgcolor\":\"#E5ECF6\",\"polar\":{\"bgcolor\":\"#E5ECF6\",\"angularaxis\":{\"gridcolor\":\"white\",\"linecolor\":\"white\",\"ticks\":\"\"},\"radialaxis\":{\"gridcolor\":\"white\",\"linecolor\":\"white\",\"ticks\":\"\"}},\"ternary\":{\"bgcolor\":\"#E5ECF6\",\"aaxis\":{\"gridcolor\":\"white\",\"linecolor\":\"white\",\"ticks\":\"\"},\"baxis\":{\"gridcolor\":\"white\",\"linecolor\":\"white\",\"ticks\":\"\"},\"caxis\":{\"gridcolor\":\"white\",\"linecolor\":\"white\",\"ticks\":\"\"}},\"coloraxis\":{\"colorbar\":{\"outlinewidth\":0,\"ticks\":\"\"}},\"colorscale\":{\"sequential\":[[0.0,\"#0d0887\"],[0.1111111111111111,\"#46039f\"],[0.2222222222222222,\"#7201a8\"],[0.3333333333333333,\"#9c179e\"],[0.4444444444444444,\"#bd3786\"],[0.5555555555555556,\"#d8576b\"],[0.6666666666666666,\"#ed7953\"],[0.7777777777777778,\"#fb9f3a\"],[0.8888888888888888,\"#fdca26\"],[1.0,\"#f0f921\"]],\"sequentialminus\":[[0.0,\"#0d0887\"],[0.1111111111111111,\"#46039f\"],[0.2222222222222222,\"#7201a8\"],[0.3333333333333333,\"#9c179e\"],[0.4444444444444444,\"#bd3786\"],[0.5555555555555556,\"#d8576b\"],[0.6666666666666666,\"#ed7953\"],[0.7777777777777778,\"#fb9f3a\"],[0.8888888888888888,\"#fdca26\"],[1.0,\"#f0f921\"]],\"diverging\":[[0,\"#8e0152\"],[0.1,\"#c51b7d\"],[0.2,\"#de77ae\"],[0.3,\"#f1b6da\"],[0.4,\"#fde0ef\"],[0.5,\"#f7f7f7\"],[0.6,\"#e6f5d0\"],[0.7,\"#b8e186\"],[0.8,\"#7fbc41\"],[0.9,\"#4d9221\"],[1,\"#276419\"]]},\"xaxis\":{\"gridcolor\":\"white\",\"linecolor\":\"white\",\"ticks\":\"\",\"title\":{\"standoff\":15},\"zerolinecolor\":\"white\",\"automargin\":true,\"zerolinewidth\":2},\"yaxis\":{\"gridcolor\":\"white\",\"linecolor\":\"white\",\"ticks\":\"\",\"title\":{\"standoff\":15},\"zerolinecolor\":\"white\",\"automargin\":true,\"zerolinewidth\":2},\"scene\":{\"xaxis\":{\"backgroundcolor\":\"#E5ECF6\",\"gridcolor\":\"white\",\"linecolor\":\"white\",\"showbackground\":true,\"ticks\":\"\",\"zerolinecolor\":\"white\",\"gridwidth\":2},\"yaxis\":{\"backgroundcolor\":\"#E5ECF6\",\"gridcolor\":\"white\",\"linecolor\":\"white\",\"showbackground\":true,\"ticks\":\"\",\"zerolinecolor\":\"white\",\"gridwidth\":2},\"zaxis\":{\"backgroundcolor\":\"#E5ECF6\",\"gridcolor\":\"white\",\"linecolor\":\"white\",\"showbackground\":true,\"ticks\":\"\",\"zerolinecolor\":\"white\",\"gridwidth\":2}},\"shapedefaults\":{\"line\":{\"color\":\"#2a3f5f\"}},\"annotationdefaults\":{\"arrowcolor\":\"#2a3f5f\",\"arrowhead\":0,\"arrowwidth\":1},\"geo\":{\"bgcolor\":\"white\",\"landcolor\":\"#E5ECF6\",\"subunitcolor\":\"white\",\"showland\":true,\"showlakes\":true,\"lakecolor\":\"white\"},\"title\":{\"x\":0.05},\"mapbox\":{\"style\":\"light\"}}},\"xaxis\":{\"anchor\":\"y\",\"domain\":[0.0,1.0],\"title\":{\"text\":\"Dim 1 (35.7%)\"},\"color\":\"black\"},\"yaxis\":{\"anchor\":\"x\",\"domain\":[0.0,1.0],\"title\":{\"text\":\"Dim 2 (12.3%)\",\"standoff\":2},\"color\":\"black\"},\"legend\":{\"title\":{\"text\":\"\"},\"tracegroupgap\":0},\"margin\":{\"t\":20,\"l\":20,\"r\":20,\"b\":20},\"font\":{\"size\":10,\"family\":\"Arial\"},\"width\":1200,\"height\":360,\"coloraxis\":{\"colorbar\":{\"title\":{\"text\":\"Threshold\"},\"yanchor\":\"top\",\"y\":0.4,\"x\":1.01,\"ticks\":\"outside\",\"len\":0.7}}},                        {\"responsive\": true}                    ).then(function(){\n",
       "                            \n",
       "var gd = document.getElementById('4f2b2d57-524e-48a8-a469-dbe1c654925c');\n",
       "var x = new MutationObserver(function (mutations, observer) {{\n",
       "        var display = window.getComputedStyle(gd).display;\n",
       "        if (!display || display === 'none') {{\n",
       "            console.log([gd, 'removed!']);\n",
       "            Plotly.purge(gd);\n",
       "            observer.disconnect();\n",
       "        }}\n",
       "}});\n",
       "\n",
       "// Listen for the removal of the full notebook cells\n",
       "var notebookContainer = gd.closest('#notebook-container');\n",
       "if (notebookContainer) {{\n",
       "    x.observe(notebookContainer, {childList: true});\n",
       "}}\n",
       "\n",
       "// Listen for the clearing of the current output cell\n",
       "var outputEl = gd.closest('.output');\n",
       "if (outputEl) {{\n",
       "    x.observe(outputEl, {childList: true});\n",
       "}}\n",
       "\n",
       "                        })                };                });            </script>        </div>"
      ]
     },
     "metadata": {},
     "output_type": "display_data"
    }
   ],
   "source": [
    "mca = MCA(n_components=3, random_state=42)\n",
    "data.index = data.index.str.upper()\n",
    "components = mca.fit_transform(data).to_numpy()\n",
    "plot(components, [e.split(\"_\")[-2] for e in data.index.tolist()],\n",
    "    f\"Dim 1 ({round(mca.percentage_of_variance_[0], 1)}%)\",\n",
    "    f\"Dim 2 ({round(mca.percentage_of_variance_[1], 1)}%)\",\n",
    "    os.path.join(RESULTS_PATH,\"mca_models_algorithm_ng\"),\n",
    "    width=1200\n",
    ")"
   ]
  },
  {
   "cell_type": "code",
   "execution_count": 7,
   "id": "081055be-5052-4fb7-929c-fcbc2e458c61",
   "metadata": {},
   "outputs": [
    {
     "name": "stdout",
     "output_type": "stream",
     "text": [
      "Top thresholds: ['0.8', '0.6', '0.9', '0.7', '0.65', '0.5', '0.95', '0.85', '0.55', '0.75']\n"
     ]
    },
    {
     "data": {
      "image/png": "[encoded data removed]",
      "text/plain": [
       "<Figure size 600x300 with 1 Axes>"
      ]
     },
     "metadata": {},
     "output_type": "display_data"
    }
   ],
   "source": [
    "best_thresholds_set = set()\n",
    "top = 10\n",
    "dist = rank_models_difference(fastcore)\n",
    "sorted_thresholds = sorted(dist, key=lambda k: dist[k], reverse=True)\n",
    "best_thresholds_set.update([float(e) for e in sorted_thresholds[:top]])\n",
    "print(f\"Top thresholds: {sorted_thresholds[:top]}\")\n",
    "fastcore_filtered = fastcore[fastcore.index.str.contains('|'.join([e + \"$\" for e in sorted_thresholds[:top]]), regex=True)]\n",
    "plt.figure(figsize=(6, 3)) \n",
    "ax = sns.barplot(x=list(dist.keys()), y=list(dist.values()))\n",
    "xticks = ax.get_xticks()  # Get current x-tick positions\n",
    "ax.set_xticks(xticks[::2])  # Keep every 2nd tick\n",
    "ax.set_xticklabels([list(dist.keys())[i] for i in range(len(list(dist.keys()))) if i % 2 == 0])\n",
    "ax.set(xlabel='Threshold', ylabel='Hamming distance')\n",
    "ax.tick_params(axis='both', colors='black')\n",
    "plt.savefig(os.path.join(RESULTS_PATH, \"ds_fastcore_barplot.pdf\"), format=\"pdf\", bbox_inches='tight', dpi=1200)"
   ]
  },
  {
   "cell_type": "code",
   "execution_count": 3,
   "id": "d1c45b79-1098-4bce-9907-e16bc44651dd",
   "metadata": {},
   "outputs": [
    {
     "name": "stdout",
     "output_type": "stream",
     "text": [
      "Top thresholds: ['0.4', '0.6', '0.8', '0.9', '0.65', '0.7', '0.85', '0.95', '0.5', '0.75']\n"
     ]
    },
    {
     "data": {
      "image/png": "[encoded data removed]",
      "text/plain": [
       "<Figure size 600x300 with 1 Axes>"
      ]
     },
     "metadata": {},
     "output_type": "display_data"
    }
   ],
   "source": [
    "best_thresholds_set = set()\n",
    "top = 10\n",
    "dist = rank_models_difference(gimme)\n",
    "sorted_thresholds = sorted(dist, key=lambda k: dist[k], reverse=True)\n",
    "best_thresholds_set.update([float(e) for e in sorted_thresholds[:top]])\n",
    "print(f\"Top thresholds: {sorted_thresholds[:top]}\")\n",
    "gimme_filtered = gimme[gimme.index.str.contains('|'.join([e + \"$\" for e in sorted_thresholds[:top]]), regex=True)]\n",
    "plt.figure(figsize=(6, 3)) \n",
    "ax = sns.barplot(x=list(dist.keys()), y=list(dist.values()))\n",
    "xticks = ax.get_xticks()  # Get current x-tick positions\n",
    "ax.set_xticks(xticks[::2])  # Keep every 2nd tick\n",
    "ax.set_xticklabels([list(dist.keys())[i] for i in range(len(list(dist.keys()))) if i % 2 == 0])\n",
    "ax.set(xlabel='Threshold', ylabel='Jaccard distance')\n",
    "ax.tick_params(axis='both', colors='black')\n",
    "plt.savefig(os.path.join(RESULTS_PATH, \"ds_gimme_barplot.pdf\"), format=\"pdf\", bbox_inches='tight', dpi=1200)"
   ]
  },
  {
   "cell_type": "code",
   "execution_count": 35,
   "id": "24374cbe-c5a6-4dfb-8048-a5dccbead054",
   "metadata": {},
   "outputs": [
    {
     "data": {
      "application/vnd.plotly.v1+json": {
       "config": {
        "plotlyServerURL": "https://plot.ly"
       },
       "data": [
        {
         "alignmentgroup": "True",
         "hovertemplate": "Threshold=%{x}<br>Jaccard distance=%{y}<extra></extra>",
         "legendgroup": "",
         "marker": {
          "color": "#5975A3",
          "pattern": {
           "shape": ""
          }
         },
         "name": "",
         "offsetgroup": "",
         "orientation": "v",
         "showlegend": false,
         "textposition": "auto",
         "type": "bar",
         "x": [
          "0.05",
          "0.1",
          "0.15",
          "0.2",
          "0.25",
          "0.3",
          "0.35",
          "0.4",
          "0.45",
          "0.5",
          "0.55",
          "0.6",
          "0.65",
          "0.7",
          "0.75",
          "0.8",
          "0.85",
          "0.9",
          "0.95"
         ],
         "xaxis": "x",
         "y": [
          0.012460725506998001,
          0.017709225935447017,
          0.0163167666381034,
          0.031223221936589548,
          0.02895601256783776,
          0.04459440159954299,
          0.04884318766066838,
          0.06269637246501,
          0.04977149385889745,
          0.0678913167666381,
          0.06366038274778635,
          0.0743180519851471,
          0.0705155669808626,
          0.0718901742359326,
          0.06305341331048273,
          0.07502320765495572,
          0.06451728077692087,
          0.0732826335332762,
          0.06573121965152814
         ],
         "yaxis": "y"
        }
       ],
       "layout": {
        "barmode": "relative",
        "font": {
         "family": "Arial",
         "size": 9
        },
        "height": 211.20000000000002,
        "legend": {
         "tracegroupgap": 0
        },
        "margin": {
         "b": 20,
         "l": 20,
         "r": 20,
         "t": 20
        },
        "template": {
         "data": {
          "bar": [
           {
            "error_x": {
             "color": "#2a3f5f"
            },
            "error_y": {
             "color": "#2a3f5f"
            },
            "marker": {
             "line": {
              "color": "#E5ECF6",
              "width": 0.5
             },
             "pattern": {
              "fillmode": "overlay",
              "size": 10,
              "solidity": 0.2
             }
            },
            "type": "bar"
           }
          ],
          "barpolar": [
           {
            "marker": {
             "line": {
              "color": "#E5ECF6",
              "width": 0.5
             },
             "pattern": {
              "fillmode": "overlay",
              "size": 10,
              "solidity": 0.2
             }
            },
            "type": "barpolar"
           }
          ],
          "carpet": [
           {
            "aaxis": {
             "endlinecolor": "#2a3f5f",
             "gridcolor": "white",
             "linecolor": "white",
             "minorgridcolor": "white",
             "startlinecolor": "#2a3f5f"
            },
            "baxis": {
             "endlinecolor": "#2a3f5f",
             "gridcolor": "white",
             "linecolor": "white",
             "minorgridcolor": "white",
             "startlinecolor": "#2a3f5f"
            },
            "type": "carpet"
           }
          ],
          "choropleth": [
           {
            "colorbar": {
             "outlinewidth": 0,
             "ticks": ""
            },
            "type": "choropleth"
           }
          ],
          "contour": [
           {
            "colorbar": {
             "outlinewidth": 0,
             "ticks": ""
            },
            "colorscale": [
             [
              0,
              "#0d0887"
             ],
             [
              0.1111111111111111,
              "#46039f"
             ],
             [
              0.2222222222222222,
              "#7201a8"
             ],
             [
              0.3333333333333333,
              "#9c179e"
             ],
             [
              0.4444444444444444,
              "#bd3786"
             ],
             [
              0.5555555555555556,
              "#d8576b"
             ],
             [
              0.6666666666666666,
              "#ed7953"
             ],
             [
              0.7777777777777778,
              "#fb9f3a"
             ],
             [
              0.8888888888888888,
              "#fdca26"
             ],
             [
              1,
              "#f0f921"
             ]
            ],
            "type": "contour"
           }
          ],
          "contourcarpet": [
           {
            "colorbar": {
             "outlinewidth": 0,
             "ticks": ""
            },
            "type": "contourcarpet"
           }
          ],
          "heatmap": [
           {
            "colorbar": {
             "outlinewidth": 0,
             "ticks": ""
            },
            "colorscale": [
             [
              0,
              "#0d0887"
             ],
             [
              0.1111111111111111,
              "#46039f"
             ],
             [
              0.2222222222222222,
              "#7201a8"
             ],
             [
              0.3333333333333333,
              "#9c179e"
             ],
             [
              0.4444444444444444,
              "#bd3786"
             ],
             [
              0.5555555555555556,
              "#d8576b"
             ],
             [
              0.6666666666666666,
              "#ed7953"
             ],
             [
              0.7777777777777778,
              "#fb9f3a"
             ],
             [
              0.8888888888888888,
              "#fdca26"
             ],
             [
              1,
              "#f0f921"
             ]
            ],
            "type": "heatmap"
           }
          ],
          "heatmapgl": [
           {
            "colorbar": {
             "outlinewidth": 0,
             "ticks": ""
            },
            "colorscale": [
             [
              0,
              "#0d0887"
             ],
             [
              0.1111111111111111,
              "#46039f"
             ],
             [
              0.2222222222222222,
              "#7201a8"
             ],
             [
              0.3333333333333333,
              "#9c179e"
             ],
             [
              0.4444444444444444,
              "#bd3786"
             ],
             [
              0.5555555555555556,
              "#d8576b"
             ],
             [
              0.6666666666666666,
              "#ed7953"
             ],
             [
              0.7777777777777778,
              "#fb9f3a"
             ],
             [
              0.8888888888888888,
              "#fdca26"
             ],
             [
              1,
              "#f0f921"
             ]
            ],
            "type": "heatmapgl"
           }
          ],
          "histogram": [
           {
            "marker": {
             "pattern": {
              "fillmode": "overlay",
              "size": 10,
              "solidity": 0.2
             }
            },
            "type": "histogram"
           }
          ],
          "histogram2d": [
           {
            "colorbar": {
             "outlinewidth": 0,
             "ticks": ""
            },
            "colorscale": [
             [
              0,
              "#0d0887"
             ],
             [
              0.1111111111111111,
              "#46039f"
             ],
             [
              0.2222222222222222,
              "#7201a8"
             ],
             [
              0.3333333333333333,
              "#9c179e"
             ],
             [
              0.4444444444444444,
              "#bd3786"
             ],
             [
              0.5555555555555556,
              "#d8576b"
             ],
             [
              0.6666666666666666,
              "#ed7953"
             ],
             [
              0.7777777777777778,
              "#fb9f3a"
             ],
             [
              0.8888888888888888,
              "#fdca26"
             ],
             [
              1,
              "#f0f921"
             ]
            ],
            "type": "histogram2d"
           }
          ],
          "histogram2dcontour": [
           {
            "colorbar": {
             "outlinewidth": 0,
             "ticks": ""
            },
            "colorscale": [
             [
              0,
              "#0d0887"
             ],
             [
              0.1111111111111111,
              "#46039f"
             ],
             [
              0.2222222222222222,
              "#7201a8"
             ],
             [
              0.3333333333333333,
              "#9c179e"
             ],
             [
              0.4444444444444444,
              "#bd3786"
             ],
             [
              0.5555555555555556,
              "#d8576b"
             ],
             [
              0.6666666666666666,
              "#ed7953"
             ],
             [
              0.7777777777777778,
              "#fb9f3a"
             ],
             [
              0.8888888888888888,
              "#fdca26"
             ],
             [
              1,
              "#f0f921"
             ]
            ],
            "type": "histogram2dcontour"
           }
          ],
          "mesh3d": [
           {
            "colorbar": {
             "outlinewidth": 0,
             "ticks": ""
            },
            "type": "mesh3d"
           }
          ],
          "parcoords": [
           {
            "line": {
             "colorbar": {
              "outlinewidth": 0,
              "ticks": ""
             }
            },
            "type": "parcoords"
           }
          ],
          "pie": [
           {
            "automargin": true,
            "type": "pie"
           }
          ],
          "scatter": [
           {
            "fillpattern": {
             "fillmode": "overlay",
             "size": 10,
             "solidity": 0.2
            },
            "type": "scatter"
           }
          ],
          "scatter3d": [
           {
            "line": {
             "colorbar": {
              "outlinewidth": 0,
              "ticks": ""
             }
            },
            "marker": {
             "colorbar": {
              "outlinewidth": 0,
              "ticks": ""
             }
            },
            "type": "scatter3d"
           }
          ],
          "scattercarpet": [
           {
            "marker": {
             "colorbar": {
              "outlinewidth": 0,
              "ticks": ""
             }
            },
            "type": "scattercarpet"
           }
          ],
          "scattergeo": [
           {
            "marker": {
             "colorbar": {
              "outlinewidth": 0,
              "ticks": ""
             }
            },
            "type": "scattergeo"
           }
          ],
          "scattergl": [
           {
            "marker": {
             "colorbar": {
              "outlinewidth": 0,
              "ticks": ""
             }
            },
            "type": "scattergl"
           }
          ],
          "scattermapbox": [
           {
            "marker": {
             "colorbar": {
              "outlinewidth": 0,
              "ticks": ""
             }
            },
            "type": "scattermapbox"
           }
          ],
          "scatterpolar": [
           {
            "marker": {
             "colorbar": {
              "outlinewidth": 0,
              "ticks": ""
             }
            },
            "type": "scatterpolar"
           }
          ],
          "scatterpolargl": [
           {
            "marker": {
             "colorbar": {
              "outlinewidth": 0,
              "ticks": ""
             }
            },
            "type": "scatterpolargl"
           }
          ],
          "scatterternary": [
           {
            "marker": {
             "colorbar": {
              "outlinewidth": 0,
              "ticks": ""
             }
            },
            "type": "scatterternary"
           }
          ],
          "surface": [
           {
            "colorbar": {
             "outlinewidth": 0,
             "ticks": ""
            },
            "colorscale": [
             [
              0,
              "#0d0887"
             ],
             [
              0.1111111111111111,
              "#46039f"
             ],
             [
              0.2222222222222222,
              "#7201a8"
             ],
             [
              0.3333333333333333,
              "#9c179e"
             ],
             [
              0.4444444444444444,
              "#bd3786"
             ],
             [
              0.5555555555555556,
              "#d8576b"
             ],
             [
              0.6666666666666666,
              "#ed7953"
             ],
             [
              0.7777777777777778,
              "#fb9f3a"
             ],
             [
              0.8888888888888888,
              "#fdca26"
             ],
             [
              1,
              "#f0f921"
             ]
            ],
            "type": "surface"
           }
          ],
          "table": [
           {
            "cells": {
             "fill": {
              "color": "#EBF0F8"
             },
             "line": {
              "color": "white"
             }
            },
            "header": {
             "fill": {
              "color": "#C8D4E3"
             },
             "line": {
              "color": "white"
             }
            },
            "type": "table"
           }
          ]
         },
         "layout": {
          "annotationdefaults": {
           "arrowcolor": "#2a3f5f",
           "arrowhead": 0,
           "arrowwidth": 1
          },
          "autotypenumbers": "strict",
          "coloraxis": {
           "colorbar": {
            "outlinewidth": 0,
            "ticks": ""
           }
          },
          "colorscale": {
           "diverging": [
            [
             0,
             "#8e0152"
            ],
            [
             0.1,
             "#c51b7d"
            ],
            [
             0.2,
             "#de77ae"
            ],
            [
             0.3,
             "#f1b6da"
            ],
            [
             0.4,
             "#fde0ef"
            ],
            [
             0.5,
             "#f7f7f7"
            ],
            [
             0.6,
             "#e6f5d0"
            ],
            [
             0.7,
             "#b8e186"
            ],
            [
             0.8,
             "#7fbc41"
            ],
            [
             0.9,
             "#4d9221"
            ],
            [
             1,
             "#276419"
            ]
           ],
           "sequential": [
            [
             0,
             "#0d0887"
            ],
            [
             0.1111111111111111,
             "#46039f"
            ],
            [
             0.2222222222222222,
             "#7201a8"
            ],
            [
             0.3333333333333333,
             "#9c179e"
            ],
            [
             0.4444444444444444,
             "#bd3786"
            ],
            [
             0.5555555555555556,
             "#d8576b"
            ],
            [
             0.6666666666666666,
             "#ed7953"
            ],
            [
             0.7777777777777778,
             "#fb9f3a"
            ],
            [
             0.8888888888888888,
             "#fdca26"
            ],
            [
             1,
             "#f0f921"
            ]
           ],
           "sequentialminus": [
            [
             0,
             "#0d0887"
            ],
            [
             0.1111111111111111,
             "#46039f"
            ],
            [
             0.2222222222222222,
             "#7201a8"
            ],
            [
             0.3333333333333333,
             "#9c179e"
            ],
            [
             0.4444444444444444,
             "#bd3786"
            ],
            [
             0.5555555555555556,
             "#d8576b"
            ],
            [
             0.6666666666666666,
             "#ed7953"
            ],
            [
             0.7777777777777778,
             "#fb9f3a"
            ],
            [
             0.8888888888888888,
             "#fdca26"
            ],
            [
             1,
             "#f0f921"
            ]
           ]
          },
          "colorway": [
           "#636efa",
           "#EF553B",
           "#00cc96",
           "#ab63fa",
           "#FFA15A",
           "#19d3f3",
           "#FF6692",
           "#B6E880",
           "#FF97FF",
           "#FECB52"
          ],
          "font": {
           "color": "#2a3f5f"
          },
          "geo": {
           "bgcolor": "white",
           "lakecolor": "white",
           "landcolor": "#E5ECF6",
           "showlakes": true,
           "showland": true,
           "subunitcolor": "white"
          },
          "hoverlabel": {
           "align": "left"
          },
          "hovermode": "closest",
          "mapbox": {
           "style": "light"
          },
          "paper_bgcolor": "white",
          "plot_bgcolor": "#E5ECF6",
          "polar": {
           "angularaxis": {
            "gridcolor": "white",
            "linecolor": "white",
            "ticks": ""
           },
           "bgcolor": "#E5ECF6",
           "radialaxis": {
            "gridcolor": "white",
            "linecolor": "white",
            "ticks": ""
           }
          },
          "scene": {
           "xaxis": {
            "backgroundcolor": "#E5ECF6",
            "gridcolor": "white",
            "gridwidth": 2,
            "linecolor": "white",
            "showbackground": true,
            "ticks": "",
            "zerolinecolor": "white"
           },
           "yaxis": {
            "backgroundcolor": "#E5ECF6",
            "gridcolor": "white",
            "gridwidth": 2,
            "linecolor": "white",
            "showbackground": true,
            "ticks": "",
            "zerolinecolor": "white"
           },
           "zaxis": {
            "backgroundcolor": "#E5ECF6",
            "gridcolor": "white",
            "gridwidth": 2,
            "linecolor": "white",
            "showbackground": true,
            "ticks": "",
            "zerolinecolor": "white"
           }
          },
          "shapedefaults": {
           "line": {
            "color": "#2a3f5f"
           }
          },
          "ternary": {
           "aaxis": {
            "gridcolor": "white",
            "linecolor": "white",
            "ticks": ""
           },
           "baxis": {
            "gridcolor": "white",
            "linecolor": "white",
            "ticks": ""
           },
           "bgcolor": "#E5ECF6",
           "caxis": {
            "gridcolor": "white",
            "linecolor": "white",
            "ticks": ""
           }
          },
          "title": {
           "x": 0.05
          },
          "xaxis": {
           "automargin": true,
           "gridcolor": "white",
           "linecolor": "white",
           "ticks": "",
           "title": {
            "standoff": 15
           },
           "zerolinecolor": "white",
           "zerolinewidth": 2
          },
          "yaxis": {
           "automargin": true,
           "gridcolor": "white",
           "linecolor": "white",
           "ticks": "",
           "title": {
            "standoff": 15
           },
           "zerolinecolor": "white",
           "zerolinewidth": 2
          }
         }
        },
        "width": 336,
        "xaxis": {
         "anchor": "y",
         "autorange": true,
         "color": "black",
         "domain": [
          0,
          1
         ],
         "range": [
          -0.5,
          18.5
         ],
         "tickmode": "array",
         "ticktext": [
          "0.05",
          "0.15",
          "0.25",
          "0.35",
          "0.45",
          "0.55",
          "0.65",
          "0.75",
          "0.85",
          "0.95"
         ],
         "tickvals": [
          "0.05",
          "0.15",
          "0.25",
          "0.35",
          "0.45",
          "0.55",
          "0.65",
          "0.75",
          "0.85",
          "0.95"
         ],
         "title": {
          "standoff": 1,
          "text": "Threshold"
         },
         "type": "category"
        },
        "yaxis": {
         "anchor": "x",
         "autorange": true,
         "color": "black",
         "domain": [
          0,
          1
         ],
         "range": [
          0,
          0.07897179753153234
         ],
         "title": {
          "standoff": 2,
          "text": "Jaccard distance"
         },
         "type": "linear"
        }
       }
      },
      "image/png": "[encoded data removed]",
      "text/html": [
       "<div>                            <div id=\"65e5a342-e2c8-484a-ad66-1a780915f7b4\" class=\"plotly-graph-div\" style=\"height:211.20000000000002px; width:336.0px;\"></div>            <script type=\"text/javascript\">                require([\"plotly\"], function(Plotly) {                    window.PLOTLYENV=window.PLOTLYENV || {};                                    if (document.getElementById(\"65e5a342-e2c8-484a-ad66-1a780915f7b4\")) {                    Plotly.newPlot(                        \"65e5a342-e2c8-484a-ad66-1a780915f7b4\",                        [{\"alignmentgroup\":\"True\",\"hovertemplate\":\"Threshold=%{x}\\u003cbr\\u003eJaccard distance=%{y}\\u003cextra\\u003e\\u003c\\u002fextra\\u003e\",\"legendgroup\":\"\",\"marker\":{\"color\":\"#5975A3\",\"pattern\":{\"shape\":\"\"}},\"name\":\"\",\"offsetgroup\":\"\",\"orientation\":\"v\",\"showlegend\":false,\"textposition\":\"auto\",\"x\":[\"0.05\",\"0.1\",\"0.15\",\"0.2\",\"0.25\",\"0.3\",\"0.35\",\"0.4\",\"0.45\",\"0.5\",\"0.55\",\"0.6\",\"0.65\",\"0.7\",\"0.75\",\"0.8\",\"0.85\",\"0.9\",\"0.95\"],\"xaxis\":\"x\",\"y\":[0.012460725506998001,0.017709225935447017,0.0163167666381034,0.031223221936589548,0.02895601256783776,0.04459440159954299,0.04884318766066838,0.06269637246501,0.04977149385889745,0.0678913167666381,0.06366038274778635,0.0743180519851471,0.0705155669808626,0.0718901742359326,0.06305341331048273,0.07502320765495572,0.06451728077692087,0.0732826335332762,0.06573121965152814],\"yaxis\":\"y\",\"type\":\"bar\"}],                        {\"template\":{\"data\":{\"histogram2dcontour\":[{\"type\":\"histogram2dcontour\",\"colorbar\":{\"outlinewidth\":0,\"ticks\":\"\"},\"colorscale\":[[0.0,\"#0d0887\"],[0.1111111111111111,\"#46039f\"],[0.2222222222222222,\"#7201a8\"],[0.3333333333333333,\"#9c179e\"],[0.4444444444444444,\"#bd3786\"],[0.5555555555555556,\"#d8576b\"],[0.6666666666666666,\"#ed7953\"],[0.7777777777777778,\"#fb9f3a\"],[0.8888888888888888,\"#fdca26\"],[1.0,\"#f0f921\"]]}],\"choropleth\":[{\"type\":\"choropleth\",\"colorbar\":{\"outlinewidth\":0,\"ticks\":\"\"}}],\"histogram2d\":[{\"type\":\"histogram2d\",\"colorbar\":{\"outlinewidth\":0,\"ticks\":\"\"},\"colorscale\":[[0.0,\"#0d0887\"],[0.1111111111111111,\"#46039f\"],[0.2222222222222222,\"#7201a8\"],[0.3333333333333333,\"#9c179e\"],[0.4444444444444444,\"#bd3786\"],[0.5555555555555556,\"#d8576b\"],[0.6666666666666666,\"#ed7953\"],[0.7777777777777778,\"#fb9f3a\"],[0.8888888888888888,\"#fdca26\"],[1.0,\"#f0f921\"]]}],\"heatmap\":[{\"type\":\"heatmap\",\"colorbar\":{\"outlinewidth\":0,\"ticks\":\"\"},\"colorscale\":[[0.0,\"#0d0887\"],[0.1111111111111111,\"#46039f\"],[0.2222222222222222,\"#7201a8\"],[0.3333333333333333,\"#9c179e\"],[0.4444444444444444,\"#bd3786\"],[0.5555555555555556,\"#d8576b\"],[0.6666666666666666,\"#ed7953\"],[0.7777777777777778,\"#fb9f3a\"],[0.8888888888888888,\"#fdca26\"],[1.0,\"#f0f921\"]]}],\"heatmapgl\":[{\"type\":\"heatmapgl\",\"colorbar\":{\"outlinewidth\":0,\"ticks\":\"\"},\"colorscale\":[[0.0,\"#0d0887\"],[0.1111111111111111,\"#46039f\"],[0.2222222222222222,\"#7201a8\"],[0.3333333333333333,\"#9c179e\"],[0.4444444444444444,\"#bd3786\"],[0.5555555555555556,\"#d8576b\"],[0.6666666666666666,\"#ed7953\"],[0.7777777777777778,\"#fb9f3a\"],[0.8888888888888888,\"#fdca26\"],[1.0,\"#f0f921\"]]}],\"contourcarpet\":[{\"type\":\"contourcarpet\",\"colorbar\":{\"outlinewidth\":0,\"ticks\":\"\"}}],\"contour\":[{\"type\":\"contour\",\"colorbar\":{\"outlinewidth\":0,\"ticks\":\"\"},\"colorscale\":[[0.0,\"#0d0887\"],[0.1111111111111111,\"#46039f\"],[0.2222222222222222,\"#7201a8\"],[0.3333333333333333,\"#9c179e\"],[0.4444444444444444,\"#bd3786\"],[0.5555555555555556,\"#d8576b\"],[0.6666666666666666,\"#ed7953\"],[0.7777777777777778,\"#fb9f3a\"],[0.8888888888888888,\"#fdca26\"],[1.0,\"#f0f921\"]]}],\"surface\":[{\"type\":\"surface\",\"colorbar\":{\"outlinewidth\":0,\"ticks\":\"\"},\"colorscale\":[[0.0,\"#0d0887\"],[0.1111111111111111,\"#46039f\"],[0.2222222222222222,\"#7201a8\"],[0.3333333333333333,\"#9c179e\"],[0.4444444444444444,\"#bd3786\"],[0.5555555555555556,\"#d8576b\"],[0.6666666666666666,\"#ed7953\"],[0.7777777777777778,\"#fb9f3a\"],[0.8888888888888888,\"#fdca26\"],[1.0,\"#f0f921\"]]}],\"mesh3d\":[{\"type\":\"mesh3d\",\"colorbar\":{\"outlinewidth\":0,\"ticks\":\"\"}}],\"scatter\":[{\"fillpattern\":{\"fillmode\":\"overlay\",\"size\":10,\"solidity\":0.2},\"type\":\"scatter\"}],\"parcoords\":[{\"type\":\"parcoords\",\"line\":{\"colorbar\":{\"outlinewidth\":0,\"ticks\":\"\"}}}],\"scatterpolargl\":[{\"type\":\"scatterpolargl\",\"marker\":{\"colorbar\":{\"outlinewidth\":0,\"ticks\":\"\"}}}],\"bar\":[{\"error_x\":{\"color\":\"#2a3f5f\"},\"error_y\":{\"color\":\"#2a3f5f\"},\"marker\":{\"line\":{\"color\":\"#E5ECF6\",\"width\":0.5},\"pattern\":{\"fillmode\":\"overlay\",\"size\":10,\"solidity\":0.2}},\"type\":\"bar\"}],\"scattergeo\":[{\"type\":\"scattergeo\",\"marker\":{\"colorbar\":{\"outlinewidth\":0,\"ticks\":\"\"}}}],\"scatterpolar\":[{\"type\":\"scatterpolar\",\"marker\":{\"colorbar\":{\"outlinewidth\":0,\"ticks\":\"\"}}}],\"histogram\":[{\"marker\":{\"pattern\":{\"fillmode\":\"overlay\",\"size\":10,\"solidity\":0.2}},\"type\":\"histogram\"}],\"scattergl\":[{\"type\":\"scattergl\",\"marker\":{\"colorbar\":{\"outlinewidth\":0,\"ticks\":\"\"}}}],\"scatter3d\":[{\"type\":\"scatter3d\",\"line\":{\"colorbar\":{\"outlinewidth\":0,\"ticks\":\"\"}},\"marker\":{\"colorbar\":{\"outlinewidth\":0,\"ticks\":\"\"}}}],\"scattermapbox\":[{\"type\":\"scattermapbox\",\"marker\":{\"colorbar\":{\"outlinewidth\":0,\"ticks\":\"\"}}}],\"scatterternary\":[{\"type\":\"scatterternary\",\"marker\":{\"colorbar\":{\"outlinewidth\":0,\"ticks\":\"\"}}}],\"scattercarpet\":[{\"type\":\"scattercarpet\",\"marker\":{\"colorbar\":{\"outlinewidth\":0,\"ticks\":\"\"}}}],\"carpet\":[{\"aaxis\":{\"endlinecolor\":\"#2a3f5f\",\"gridcolor\":\"white\",\"linecolor\":\"white\",\"minorgridcolor\":\"white\",\"startlinecolor\":\"#2a3f5f\"},\"baxis\":{\"endlinecolor\":\"#2a3f5f\",\"gridcolor\":\"white\",\"linecolor\":\"white\",\"minorgridcolor\":\"white\",\"startlinecolor\":\"#2a3f5f\"},\"type\":\"carpet\"}],\"table\":[{\"cells\":{\"fill\":{\"color\":\"#EBF0F8\"},\"line\":{\"color\":\"white\"}},\"header\":{\"fill\":{\"color\":\"#C8D4E3\"},\"line\":{\"color\":\"white\"}},\"type\":\"table\"}],\"barpolar\":[{\"marker\":{\"line\":{\"color\":\"#E5ECF6\",\"width\":0.5},\"pattern\":{\"fillmode\":\"overlay\",\"size\":10,\"solidity\":0.2}},\"type\":\"barpolar\"}],\"pie\":[{\"automargin\":true,\"type\":\"pie\"}]},\"layout\":{\"autotypenumbers\":\"strict\",\"colorway\":[\"#636efa\",\"#EF553B\",\"#00cc96\",\"#ab63fa\",\"#FFA15A\",\"#19d3f3\",\"#FF6692\",\"#B6E880\",\"#FF97FF\",\"#FECB52\"],\"font\":{\"color\":\"#2a3f5f\"},\"hovermode\":\"closest\",\"hoverlabel\":{\"align\":\"left\"},\"paper_bgcolor\":\"white\",\"plot_bgcolor\":\"#E5ECF6\",\"polar\":{\"bgcolor\":\"#E5ECF6\",\"angularaxis\":{\"gridcolor\":\"white\",\"linecolor\":\"white\",\"ticks\":\"\"},\"radialaxis\":{\"gridcolor\":\"white\",\"linecolor\":\"white\",\"ticks\":\"\"}},\"ternary\":{\"bgcolor\":\"#E5ECF6\",\"aaxis\":{\"gridcolor\":\"white\",\"linecolor\":\"white\",\"ticks\":\"\"},\"baxis\":{\"gridcolor\":\"white\",\"linecolor\":\"white\",\"ticks\":\"\"},\"caxis\":{\"gridcolor\":\"white\",\"linecolor\":\"white\",\"ticks\":\"\"}},\"coloraxis\":{\"colorbar\":{\"outlinewidth\":0,\"ticks\":\"\"}},\"colorscale\":{\"sequential\":[[0.0,\"#0d0887\"],[0.1111111111111111,\"#46039f\"],[0.2222222222222222,\"#7201a8\"],[0.3333333333333333,\"#9c179e\"],[0.4444444444444444,\"#bd3786\"],[0.5555555555555556,\"#d8576b\"],[0.6666666666666666,\"#ed7953\"],[0.7777777777777778,\"#fb9f3a\"],[0.8888888888888888,\"#fdca26\"],[1.0,\"#f0f921\"]],\"sequentialminus\":[[0.0,\"#0d0887\"],[0.1111111111111111,\"#46039f\"],[0.2222222222222222,\"#7201a8\"],[0.3333333333333333,\"#9c179e\"],[0.4444444444444444,\"#bd3786\"],[0.5555555555555556,\"#d8576b\"],[0.6666666666666666,\"#ed7953\"],[0.7777777777777778,\"#fb9f3a\"],[0.8888888888888888,\"#fdca26\"],[1.0,\"#f0f921\"]],\"diverging\":[[0,\"#8e0152\"],[0.1,\"#c51b7d\"],[0.2,\"#de77ae\"],[0.3,\"#f1b6da\"],[0.4,\"#fde0ef\"],[0.5,\"#f7f7f7\"],[0.6,\"#e6f5d0\"],[0.7,\"#b8e186\"],[0.8,\"#7fbc41\"],[0.9,\"#4d9221\"],[1,\"#276419\"]]},\"xaxis\":{\"gridcolor\":\"white\",\"linecolor\":\"white\",\"ticks\":\"\",\"title\":{\"standoff\":15},\"zerolinecolor\":\"white\",\"automargin\":true,\"zerolinewidth\":2},\"yaxis\":{\"gridcolor\":\"white\",\"linecolor\":\"white\",\"ticks\":\"\",\"title\":{\"standoff\":15},\"zerolinecolor\":\"white\",\"automargin\":true,\"zerolinewidth\":2},\"scene\":{\"xaxis\":{\"backgroundcolor\":\"#E5ECF6\",\"gridcolor\":\"white\",\"linecolor\":\"white\",\"showbackground\":true,\"ticks\":\"\",\"zerolinecolor\":\"white\",\"gridwidth\":2},\"yaxis\":{\"backgroundcolor\":\"#E5ECF6\",\"gridcolor\":\"white\",\"linecolor\":\"white\",\"showbackground\":true,\"ticks\":\"\",\"zerolinecolor\":\"white\",\"gridwidth\":2},\"zaxis\":{\"backgroundcolor\":\"#E5ECF6\",\"gridcolor\":\"white\",\"linecolor\":\"white\",\"showbackground\":true,\"ticks\":\"\",\"zerolinecolor\":\"white\",\"gridwidth\":2}},\"shapedefaults\":{\"line\":{\"color\":\"#2a3f5f\"}},\"annotationdefaults\":{\"arrowcolor\":\"#2a3f5f\",\"arrowhead\":0,\"arrowwidth\":1},\"geo\":{\"bgcolor\":\"white\",\"landcolor\":\"#E5ECF6\",\"subunitcolor\":\"white\",\"showland\":true,\"showlakes\":true,\"lakecolor\":\"white\"},\"title\":{\"x\":0.05},\"mapbox\":{\"style\":\"light\"}}},\"xaxis\":{\"anchor\":\"y\",\"domain\":[0.0,1.0],\"title\":{\"text\":\"Threshold\",\"standoff\":1},\"tickmode\":\"array\",\"tickvals\":[\"0.05\",\"0.15\",\"0.25\",\"0.35\",\"0.45\",\"0.55\",\"0.65\",\"0.75\",\"0.85\",\"0.95\"],\"ticktext\":[\"0.05\",\"0.15\",\"0.25\",\"0.35\",\"0.45\",\"0.55\",\"0.65\",\"0.75\",\"0.85\",\"0.95\"],\"color\":\"black\"},\"yaxis\":{\"anchor\":\"x\",\"domain\":[0.0,1.0],\"title\":{\"text\":\"Jaccard distance\",\"standoff\":2},\"color\":\"black\"},\"legend\":{\"tracegroupgap\":0},\"margin\":{\"t\":20,\"l\":20,\"r\":20,\"b\":20},\"barmode\":\"relative\",\"width\":336.0,\"height\":211.20000000000002,\"font\":{\"size\":9,\"family\":\"Arial\"}},                        {\"responsive\": true}                    ).then(function(){\n",
       "                            \n",
       "var gd = document.getElementById('65e5a342-e2c8-484a-ad66-1a780915f7b4');\n",
       "var x = new MutationObserver(function (mutations, observer) {{\n",
       "        var display = window.getComputedStyle(gd).display;\n",
       "        if (!display || display === 'none') {{\n",
       "            console.log([gd, 'removed!']);\n",
       "            Plotly.purge(gd);\n",
       "            observer.disconnect();\n",
       "        }}\n",
       "}});\n",
       "\n",
       "// Listen for the removal of the full notebook cells\n",
       "var notebookContainer = gd.closest('#notebook-container');\n",
       "if (notebookContainer) {{\n",
       "    x.observe(notebookContainer, {childList: true});\n",
       "}}\n",
       "\n",
       "// Listen for the clearing of the current output cell\n",
       "var outputEl = gd.closest('.output');\n",
       "if (outputEl) {{\n",
       "    x.observe(outputEl, {childList: true});\n",
       "}}\n",
       "\n",
       "                        })                };                });            </script>        </div>"
      ]
     },
     "metadata": {},
     "output_type": "display_data"
    }
   ],
   "source": [
    "import plotly.express as px\n",
    "import os\n",
    "\n",
    "dist = rank_models_difference(fastcore)\n",
    "# Example data\n",
    "dist_keys = list(dist.keys())\n",
    "dist_values = list(dist.values())\n",
    "\n",
    "bar_color = '#5975A3'\n",
    "# Create a bar plot\n",
    "fig = px.bar(\n",
    "    x=dist_keys, \n",
    "    y=dist_values, \n",
    "    labels={'x': 'Threshold', 'y': 'Jaccard distance'},  # Axis labels\n",
    ")\n",
    "fig.update_traces(marker_color=bar_color)\n",
    "# Customize the layout\n",
    "fig.update_layout(\n",
    "    xaxis=dict(\n",
    "        tickmode='array', \n",
    "        tickvals=dist_keys[::2],  # Show every 2nd tick\n",
    "        ticktext=[dist_keys[i] for i in range(len(dist_keys)) if i % 2 == 0],\n",
    "        color='black'\n",
    "        , title_standoff=1# X-axis ticks color\n",
    "    ),\n",
    "    yaxis=dict(color='black', title_standoff=2),  # Y-axis ticks color\n",
    "    margin=dict(l=20, r=20, t=20, b=20),  # Tight margins\n",
    "    width=3.5*96,\n",
    "    height=2.2*96\n",
    ")\n",
    "fig.update_layout(\n",
    "        margin=dict(l=20, r=20, t=20, b=20), \n",
    "        font=dict(size=9, family=\"Arial\"),\n",
    "        xaxis=dict(color=\"black\"),  # Set x-axis color to black\n",
    "        yaxis=dict(color=\"black\")\n",
    "    )\n",
    "\n",
    "# Save the figure\n",
    "fig.write_image(os.path.join(RESULTS_PATH, \"ds_stress_fastcore_barplot.pdf\"), format=\"pdf\", scale=1)\n",
    "\n",
    "# Show the plot\n",
    "fig.show()"
   ]
  },
  {
   "cell_type": "code",
   "execution_count": 36,
   "id": "47d2cadc-9a61-4e53-9d44-797bba45f65d",
   "metadata": {},
   "outputs": [
    {
     "data": {
      "application/vnd.plotly.v1+json": {
       "config": {
        "plotlyServerURL": "https://plot.ly"
       },
       "data": [
        {
         "alignmentgroup": "True",
         "hovertemplate": "Threshold=%{x}<br>Jaccard distance=%{y}<extra></extra>",
         "legendgroup": "",
         "marker": {
          "color": "#5975A3",
          "pattern": {
           "shape": ""
          }
         },
         "name": "",
         "offsetgroup": "",
         "orientation": "v",
         "showlegend": false,
         "textposition": "auto",
         "type": "bar",
         "x": [
          "0.05",
          "0.1",
          "0.15",
          "0.2",
          "0.25",
          "0.3",
          "0.35",
          "0.4",
          "0.45",
          "0.5",
          "0.55",
          "0.6",
          "0.65",
          "0.7",
          "0.75",
          "0.8",
          "0.85",
          "0.9",
          "0.95"
         ],
         "xaxis": "x",
         "y": [
          0.01149671522422165,
          0.0169594401599543,
          0.01471008283347615,
          0.05119073121965152,
          0.0492002285061411,
          0.0645262067980577,
          0.06769494430162809,
          0.11938553270494145,
          0.0463796058269066,
          0.059447300771208224,
          0.05623393316195373,
          0.06763246215367039,
          0.06048271922307912,
          0.05663560411311054,
          0.05330619822907741,
          0.060054270208511853,
          0.05452013710368466,
          0.05610896886603827,
          0.052984861468151956
         ],
         "yaxis": "y"
        }
       ],
       "layout": {
        "barmode": "relative",
        "font": {
         "family": "Arial",
         "size": 9
        },
        "height": 211.20000000000002,
        "legend": {
         "tracegroupgap": 0
        },
        "margin": {
         "b": 20,
         "l": 20,
         "r": 20,
         "t": 20
        },
        "template": {
         "data": {
          "bar": [
           {
            "error_x": {
             "color": "#2a3f5f"
            },
            "error_y": {
             "color": "#2a3f5f"
            },
            "marker": {
             "line": {
              "color": "#E5ECF6",
              "width": 0.5
             },
             "pattern": {
              "fillmode": "overlay",
              "size": 10,
              "solidity": 0.2
             }
            },
            "type": "bar"
           }
          ],
          "barpolar": [
           {
            "marker": {
             "line": {
              "color": "#E5ECF6",
              "width": 0.5
             },
             "pattern": {
              "fillmode": "overlay",
              "size": 10,
              "solidity": 0.2
             }
            },
            "type": "barpolar"
           }
          ],
          "carpet": [
           {
            "aaxis": {
             "endlinecolor": "#2a3f5f",
             "gridcolor": "white",
             "linecolor": "white",
             "minorgridcolor": "white",
             "startlinecolor": "#2a3f5f"
            },
            "baxis": {
             "endlinecolor": "#2a3f5f",
             "gridcolor": "white",
             "linecolor": "white",
             "minorgridcolor": "white",
             "startlinecolor": "#2a3f5f"
            },
            "type": "carpet"
           }
          ],
          "choropleth": [
           {
            "colorbar": {
             "outlinewidth": 0,
             "ticks": ""
            },
            "type": "choropleth"
           }
          ],
          "contour": [
           {
            "colorbar": {
             "outlinewidth": 0,
             "ticks": ""
            },
            "colorscale": [
             [
              0,
              "#0d0887"
             ],
             [
              0.1111111111111111,
              "#46039f"
             ],
             [
              0.2222222222222222,
              "#7201a8"
             ],
             [
              0.3333333333333333,
              "#9c179e"
             ],
             [
              0.4444444444444444,
              "#bd3786"
             ],
             [
              0.5555555555555556,
              "#d8576b"
             ],
             [
              0.6666666666666666,
              "#ed7953"
             ],
             [
              0.7777777777777778,
              "#fb9f3a"
             ],
             [
              0.8888888888888888,
              "#fdca26"
             ],
             [
              1,
              "#f0f921"
             ]
            ],
            "type": "contour"
           }
          ],
          "contourcarpet": [
           {
            "colorbar": {
             "outlinewidth": 0,
             "ticks": ""
            },
            "type": "contourcarpet"
           }
          ],
          "heatmap": [
           {
            "colorbar": {
             "outlinewidth": 0,
             "ticks": ""
            },
            "colorscale": [
             [
              0,
              "#0d0887"
             ],
             [
              0.1111111111111111,
              "#46039f"
             ],
             [
              0.2222222222222222,
              "#7201a8"
             ],
             [
              0.3333333333333333,
              "#9c179e"
             ],
             [
              0.4444444444444444,
              "#bd3786"
             ],
             [
              0.5555555555555556,
              "#d8576b"
             ],
             [
              0.6666666666666666,
              "#ed7953"
             ],
             [
              0.7777777777777778,
              "#fb9f3a"
             ],
             [
              0.8888888888888888,
              "#fdca26"
             ],
             [
              1,
              "#f0f921"
             ]
            ],
            "type": "heatmap"
           }
          ],
          "heatmapgl": [
           {
            "colorbar": {
             "outlinewidth": 0,
             "ticks": ""
            },
            "colorscale": [
             [
              0,
              "#0d0887"
             ],
             [
              0.1111111111111111,
              "#46039f"
             ],
             [
              0.2222222222222222,
              "#7201a8"
             ],
             [
              0.3333333333333333,
              "#9c179e"
             ],
             [
              0.4444444444444444,
              "#bd3786"
             ],
             [
              0.5555555555555556,
              "#d8576b"
             ],
             [
              0.6666666666666666,
              "#ed7953"
             ],
             [
              0.7777777777777778,
              "#fb9f3a"
             ],
             [
              0.8888888888888888,
              "#fdca26"
             ],
             [
              1,
              "#f0f921"
             ]
            ],
            "type": "heatmapgl"
           }
          ],
          "histogram": [
           {
            "marker": {
             "pattern": {
              "fillmode": "overlay",
              "size": 10,
              "solidity": 0.2
             }
            },
            "type": "histogram"
           }
          ],
          "histogram2d": [
           {
            "colorbar": {
             "outlinewidth": 0,
             "ticks": ""
            },
            "colorscale": [
             [
              0,
              "#0d0887"
             ],
             [
              0.1111111111111111,
              "#46039f"
             ],
             [
              0.2222222222222222,
              "#7201a8"
             ],
             [
              0.3333333333333333,
              "#9c179e"
             ],
             [
              0.4444444444444444,
              "#bd3786"
             ],
             [
              0.5555555555555556,
              "#d8576b"
             ],
             [
              0.6666666666666666,
              "#ed7953"
             ],
             [
              0.7777777777777778,
              "#fb9f3a"
             ],
             [
              0.8888888888888888,
              "#fdca26"
             ],
             [
              1,
              "#f0f921"
             ]
            ],
            "type": "histogram2d"
           }
          ],
          "histogram2dcontour": [
           {
            "colorbar": {
             "outlinewidth": 0,
             "ticks": ""
            },
            "colorscale": [
             [
              0,
              "#0d0887"
             ],
             [
              0.1111111111111111,
              "#46039f"
             ],
             [
              0.2222222222222222,
              "#7201a8"
             ],
             [
              0.3333333333333333,
              "#9c179e"
             ],
             [
              0.4444444444444444,
              "#bd3786"
             ],
             [
              0.5555555555555556,
              "#d8576b"
             ],
             [
              0.6666666666666666,
              "#ed7953"
             ],
             [
              0.7777777777777778,
              "#fb9f3a"
             ],
             [
              0.8888888888888888,
              "#fdca26"
             ],
             [
              1,
              "#f0f921"
             ]
            ],
            "type": "histogram2dcontour"
           }
          ],
          "mesh3d": [
           {
            "colorbar": {
             "outlinewidth": 0,
             "ticks": ""
            },
            "type": "mesh3d"
           }
          ],
          "parcoords": [
           {
            "line": {
             "colorbar": {
              "outlinewidth": 0,
              "ticks": ""
             }
            },
            "type": "parcoords"
           }
          ],
          "pie": [
           {
            "automargin": true,
            "type": "pie"
           }
          ],
          "scatter": [
           {
            "fillpattern": {
             "fillmode": "overlay",
             "size": 10,
             "solidity": 0.2
            },
            "type": "scatter"
           }
          ],
          "scatter3d": [
           {
            "line": {
             "colorbar": {
              "outlinewidth": 0,
              "ticks": ""
             }
            },
            "marker": {
             "colorbar": {
              "outlinewidth": 0,
              "ticks": ""
             }
            },
            "type": "scatter3d"
           }
          ],
          "scattercarpet": [
           {
            "marker": {
             "colorbar": {
              "outlinewidth": 0,
              "ticks": ""
             }
            },
            "type": "scattercarpet"
           }
          ],
          "scattergeo": [
           {
            "marker": {
             "colorbar": {
              "outlinewidth": 0,
              "ticks": ""
             }
            },
            "type": "scattergeo"
           }
          ],
          "scattergl": [
           {
            "marker": {
             "colorbar": {
              "outlinewidth": 0,
              "ticks": ""
             }
            },
            "type": "scattergl"
           }
          ],
          "scattermapbox": [
           {
            "marker": {
             "colorbar": {
              "outlinewidth": 0,
              "ticks": ""
             }
            },
            "type": "scattermapbox"
           }
          ],
          "scatterpolar": [
           {
            "marker": {
             "colorbar": {
              "outlinewidth": 0,
              "ticks": ""
             }
            },
            "type": "scatterpolar"
           }
          ],
          "scatterpolargl": [
           {
            "marker": {
             "colorbar": {
              "outlinewidth": 0,
              "ticks": ""
             }
            },
            "type": "scatterpolargl"
           }
          ],
          "scatterternary": [
           {
            "marker": {
             "colorbar": {
              "outlinewidth": 0,
              "ticks": ""
             }
            },
            "type": "scatterternary"
           }
          ],
          "surface": [
           {
            "colorbar": {
             "outlinewidth": 0,
             "ticks": ""
            },
            "colorscale": [
             [
              0,
              "#0d0887"
             ],
             [
              0.1111111111111111,
              "#46039f"
             ],
             [
              0.2222222222222222,
              "#7201a8"
             ],
             [
              0.3333333333333333,
              "#9c179e"
             ],
             [
              0.4444444444444444,
              "#bd3786"
             ],
             [
              0.5555555555555556,
              "#d8576b"
             ],
             [
              0.6666666666666666,
              "#ed7953"
             ],
             [
              0.7777777777777778,
              "#fb9f3a"
             ],
             [
              0.8888888888888888,
              "#fdca26"
             ],
             [
              1,
              "#f0f921"
             ]
            ],
            "type": "surface"
           }
          ],
          "table": [
           {
            "cells": {
             "fill": {
              "color": "#EBF0F8"
             },
             "line": {
              "color": "white"
             }
            },
            "header": {
             "fill": {
              "color": "#C8D4E3"
             },
             "line": {
              "color": "white"
             }
            },
            "type": "table"
           }
          ]
         },
         "layout": {
          "annotationdefaults": {
           "arrowcolor": "#2a3f5f",
           "arrowhead": 0,
           "arrowwidth": 1
          },
          "autotypenumbers": "strict",
          "coloraxis": {
           "colorbar": {
            "outlinewidth": 0,
            "ticks": ""
           }
          },
          "colorscale": {
           "diverging": [
            [
             0,
             "#8e0152"
            ],
            [
             0.1,
             "#c51b7d"
            ],
            [
             0.2,
             "#de77ae"
            ],
            [
             0.3,
             "#f1b6da"
            ],
            [
             0.4,
             "#fde0ef"
            ],
            [
             0.5,
             "#f7f7f7"
            ],
            [
             0.6,
             "#e6f5d0"
            ],
            [
             0.7,
             "#b8e186"
            ],
            [
             0.8,
             "#7fbc41"
            ],
            [
             0.9,
             "#4d9221"
            ],
            [
             1,
             "#276419"
            ]
           ],
           "sequential": [
            [
             0,
             "#0d0887"
            ],
            [
             0.1111111111111111,
             "#46039f"
            ],
            [
             0.2222222222222222,
             "#7201a8"
            ],
            [
             0.3333333333333333,
             "#9c179e"
            ],
            [
             0.4444444444444444,
             "#bd3786"
            ],
            [
             0.5555555555555556,
             "#d8576b"
            ],
            [
             0.6666666666666666,
             "#ed7953"
            ],
            [
             0.7777777777777778,
             "#fb9f3a"
            ],
            [
             0.8888888888888888,
             "#fdca26"
            ],
            [
             1,
             "#f0f921"
            ]
           ],
           "sequentialminus": [
            [
             0,
             "#0d0887"
            ],
            [
             0.1111111111111111,
             "#46039f"
            ],
            [
             0.2222222222222222,
             "#7201a8"
            ],
            [
             0.3333333333333333,
             "#9c179e"
            ],
            [
             0.4444444444444444,
             "#bd3786"
            ],
            [
             0.5555555555555556,
             "#d8576b"
            ],
            [
             0.6666666666666666,
             "#ed7953"
            ],
            [
             0.7777777777777778,
             "#fb9f3a"
            ],
            [
             0.8888888888888888,
             "#fdca26"
            ],
            [
             1,
             "#f0f921"
            ]
           ]
          },
          "colorway": [
           "#636efa",
           "#EF553B",
           "#00cc96",
           "#ab63fa",
           "#FFA15A",
           "#19d3f3",
           "#FF6692",
           "#B6E880",
           "#FF97FF",
           "#FECB52"
          ],
          "font": {
           "color": "#2a3f5f"
          },
          "geo": {
           "bgcolor": "white",
           "lakecolor": "white",
           "landcolor": "#E5ECF6",
           "showlakes": true,
           "showland": true,
           "subunitcolor": "white"
          },
          "hoverlabel": {
           "align": "left"
          },
          "hovermode": "closest",
          "mapbox": {
           "style": "light"
          },
          "paper_bgcolor": "white",
          "plot_bgcolor": "#E5ECF6",
          "polar": {
           "angularaxis": {
            "gridcolor": "white",
            "linecolor": "white",
            "ticks": ""
           },
           "bgcolor": "#E5ECF6",
           "radialaxis": {
            "gridcolor": "white",
            "linecolor": "white",
            "ticks": ""
           }
          },
          "scene": {
           "xaxis": {
            "backgroundcolor": "#E5ECF6",
            "gridcolor": "white",
            "gridwidth": 2,
            "linecolor": "white",
            "showbackground": true,
            "ticks": "",
            "zerolinecolor": "white"
           },
           "yaxis": {
            "backgroundcolor": "#E5ECF6",
            "gridcolor": "white",
            "gridwidth": 2,
            "linecolor": "white",
            "showbackground": true,
            "ticks": "",
            "zerolinecolor": "white"
           },
           "zaxis": {
            "backgroundcolor": "#E5ECF6",
            "gridcolor": "white",
            "gridwidth": 2,
            "linecolor": "white",
            "showbackground": true,
            "ticks": "",
            "zerolinecolor": "white"
           }
          },
          "shapedefaults": {
           "line": {
            "color": "#2a3f5f"
           }
          },
          "ternary": {
           "aaxis": {
            "gridcolor": "white",
            "linecolor": "white",
            "ticks": ""
           },
           "baxis": {
            "gridcolor": "white",
            "linecolor": "white",
            "ticks": ""
           },
           "bgcolor": "#E5ECF6",
           "caxis": {
            "gridcolor": "white",
            "linecolor": "white",
            "ticks": ""
           }
          },
          "title": {
           "x": 0.05
          },
          "xaxis": {
           "automargin": true,
           "gridcolor": "white",
           "linecolor": "white",
           "ticks": "",
           "title": {
            "standoff": 15
           },
           "zerolinecolor": "white",
           "zerolinewidth": 2
          },
          "yaxis": {
           "automargin": true,
           "gridcolor": "white",
           "linecolor": "white",
           "ticks": "",
           "title": {
            "standoff": 15
           },
           "zerolinecolor": "white",
           "zerolinewidth": 2
          }
         }
        },
        "width": 336,
        "xaxis": {
         "anchor": "y",
         "autorange": true,
         "color": "black",
         "domain": [
          0,
          1
         ],
         "range": [
          -0.5,
          18.5
         ],
         "tickmode": "array",
         "ticktext": [
          "0.05",
          "0.15",
          "0.25",
          "0.35",
          "0.45",
          "0.55",
          "0.65",
          "0.75",
          "0.85",
          "0.95"
         ],
         "tickvals": [
          "0.05",
          "0.15",
          "0.25",
          "0.35",
          "0.45",
          "0.55",
          "0.65",
          "0.75",
          "0.85",
          "0.95"
         ],
         "title": {
          "standoff": 1,
          "text": "Threshold"
         },
         "type": "category"
        },
        "yaxis": {
         "anchor": "x",
         "autorange": true,
         "color": "black",
         "domain": [
          0,
          1
         ],
         "range": [
          0,
          0.12566898179467523
         ],
         "title": {
          "standoff": 2,
          "text": "Jaccard distance"
         },
         "type": "linear"
        }
       }
      },
      "image/png": "[encoded data removed]",
      "text/html": [
       "<div>                            <div id=\"72f3ef75-b666-4415-a605-e33cd5ff9242\" class=\"plotly-graph-div\" style=\"height:211.20000000000002px; width:336.0px;\"></div>            <script type=\"text/javascript\">                require([\"plotly\"], function(Plotly) {                    window.PLOTLYENV=window.PLOTLYENV || {};                                    if (document.getElementById(\"72f3ef75-b666-4415-a605-e33cd5ff9242\")) {                    Plotly.newPlot(                        \"72f3ef75-b666-4415-a605-e33cd5ff9242\",                        [{\"alignmentgroup\":\"True\",\"hovertemplate\":\"Threshold=%{x}\\u003cbr\\u003eJaccard distance=%{y}\\u003cextra\\u003e\\u003c\\u002fextra\\u003e\",\"legendgroup\":\"\",\"marker\":{\"color\":\"#5975A3\",\"pattern\":{\"shape\":\"\"}},\"name\":\"\",\"offsetgroup\":\"\",\"orientation\":\"v\",\"showlegend\":false,\"textposition\":\"auto\",\"x\":[\"0.05\",\"0.1\",\"0.15\",\"0.2\",\"0.25\",\"0.3\",\"0.35\",\"0.4\",\"0.45\",\"0.5\",\"0.55\",\"0.6\",\"0.65\",\"0.7\",\"0.75\",\"0.8\",\"0.85\",\"0.9\",\"0.95\"],\"xaxis\":\"x\",\"y\":[0.01149671522422165,0.0169594401599543,0.01471008283347615,0.05119073121965152,0.0492002285061411,0.0645262067980577,0.06769494430162809,0.11938553270494145,0.0463796058269066,0.059447300771208224,0.05623393316195373,0.06763246215367039,0.06048271922307912,0.05663560411311054,0.05330619822907741,0.060054270208511853,0.05452013710368466,0.05610896886603827,0.052984861468151956],\"yaxis\":\"y\",\"type\":\"bar\"}],                        {\"template\":{\"data\":{\"histogram2dcontour\":[{\"type\":\"histogram2dcontour\",\"colorbar\":{\"outlinewidth\":0,\"ticks\":\"\"},\"colorscale\":[[0.0,\"#0d0887\"],[0.1111111111111111,\"#46039f\"],[0.2222222222222222,\"#7201a8\"],[0.3333333333333333,\"#9c179e\"],[0.4444444444444444,\"#bd3786\"],[0.5555555555555556,\"#d8576b\"],[0.6666666666666666,\"#ed7953\"],[0.7777777777777778,\"#fb9f3a\"],[0.8888888888888888,\"#fdca26\"],[1.0,\"#f0f921\"]]}],\"choropleth\":[{\"type\":\"choropleth\",\"colorbar\":{\"outlinewidth\":0,\"ticks\":\"\"}}],\"histogram2d\":[{\"type\":\"histogram2d\",\"colorbar\":{\"outlinewidth\":0,\"ticks\":\"\"},\"colorscale\":[[0.0,\"#0d0887\"],[0.1111111111111111,\"#46039f\"],[0.2222222222222222,\"#7201a8\"],[0.3333333333333333,\"#9c179e\"],[0.4444444444444444,\"#bd3786\"],[0.5555555555555556,\"#d8576b\"],[0.6666666666666666,\"#ed7953\"],[0.7777777777777778,\"#fb9f3a\"],[0.8888888888888888,\"#fdca26\"],[1.0,\"#f0f921\"]]}],\"heatmap\":[{\"type\":\"heatmap\",\"colorbar\":{\"outlinewidth\":0,\"ticks\":\"\"},\"colorscale\":[[0.0,\"#0d0887\"],[0.1111111111111111,\"#46039f\"],[0.2222222222222222,\"#7201a8\"],[0.3333333333333333,\"#9c179e\"],[0.4444444444444444,\"#bd3786\"],[0.5555555555555556,\"#d8576b\"],[0.6666666666666666,\"#ed7953\"],[0.7777777777777778,\"#fb9f3a\"],[0.8888888888888888,\"#fdca26\"],[1.0,\"#f0f921\"]]}],\"heatmapgl\":[{\"type\":\"heatmapgl\",\"colorbar\":{\"outlinewidth\":0,\"ticks\":\"\"},\"colorscale\":[[0.0,\"#0d0887\"],[0.1111111111111111,\"#46039f\"],[0.2222222222222222,\"#7201a8\"],[0.3333333333333333,\"#9c179e\"],[0.4444444444444444,\"#bd3786\"],[0.5555555555555556,\"#d8576b\"],[0.6666666666666666,\"#ed7953\"],[0.7777777777777778,\"#fb9f3a\"],[0.8888888888888888,\"#fdca26\"],[1.0,\"#f0f921\"]]}],\"contourcarpet\":[{\"type\":\"contourcarpet\",\"colorbar\":{\"outlinewidth\":0,\"ticks\":\"\"}}],\"contour\":[{\"type\":\"contour\",\"colorbar\":{\"outlinewidth\":0,\"ticks\":\"\"},\"colorscale\":[[0.0,\"#0d0887\"],[0.1111111111111111,\"#46039f\"],[0.2222222222222222,\"#7201a8\"],[0.3333333333333333,\"#9c179e\"],[0.4444444444444444,\"#bd3786\"],[0.5555555555555556,\"#d8576b\"],[0.6666666666666666,\"#ed7953\"],[0.7777777777777778,\"#fb9f3a\"],[0.8888888888888888,\"#fdca26\"],[1.0,\"#f0f921\"]]}],\"surface\":[{\"type\":\"surface\",\"colorbar\":{\"outlinewidth\":0,\"ticks\":\"\"},\"colorscale\":[[0.0,\"#0d0887\"],[0.1111111111111111,\"#46039f\"],[0.2222222222222222,\"#7201a8\"],[0.3333333333333333,\"#9c179e\"],[0.4444444444444444,\"#bd3786\"],[0.5555555555555556,\"#d8576b\"],[0.6666666666666666,\"#ed7953\"],[0.7777777777777778,\"#fb9f3a\"],[0.8888888888888888,\"#fdca26\"],[1.0,\"#f0f921\"]]}],\"mesh3d\":[{\"type\":\"mesh3d\",\"colorbar\":{\"outlinewidth\":0,\"ticks\":\"\"}}],\"scatter\":[{\"fillpattern\":{\"fillmode\":\"overlay\",\"size\":10,\"solidity\":0.2},\"type\":\"scatter\"}],\"parcoords\":[{\"type\":\"parcoords\",\"line\":{\"colorbar\":{\"outlinewidth\":0,\"ticks\":\"\"}}}],\"scatterpolargl\":[{\"type\":\"scatterpolargl\",\"marker\":{\"colorbar\":{\"outlinewidth\":0,\"ticks\":\"\"}}}],\"bar\":[{\"error_x\":{\"color\":\"#2a3f5f\"},\"error_y\":{\"color\":\"#2a3f5f\"},\"marker\":{\"line\":{\"color\":\"#E5ECF6\",\"width\":0.5},\"pattern\":{\"fillmode\":\"overlay\",\"size\":10,\"solidity\":0.2}},\"type\":\"bar\"}],\"scattergeo\":[{\"type\":\"scattergeo\",\"marker\":{\"colorbar\":{\"outlinewidth\":0,\"ticks\":\"\"}}}],\"scatterpolar\":[{\"type\":\"scatterpolar\",\"marker\":{\"colorbar\":{\"outlinewidth\":0,\"ticks\":\"\"}}}],\"histogram\":[{\"marker\":{\"pattern\":{\"fillmode\":\"overlay\",\"size\":10,\"solidity\":0.2}},\"type\":\"histogram\"}],\"scattergl\":[{\"type\":\"scattergl\",\"marker\":{\"colorbar\":{\"outlinewidth\":0,\"ticks\":\"\"}}}],\"scatter3d\":[{\"type\":\"scatter3d\",\"line\":{\"colorbar\":{\"outlinewidth\":0,\"ticks\":\"\"}},\"marker\":{\"colorbar\":{\"outlinewidth\":0,\"ticks\":\"\"}}}],\"scattermapbox\":[{\"type\":\"scattermapbox\",\"marker\":{\"colorbar\":{\"outlinewidth\":0,\"ticks\":\"\"}}}],\"scatterternary\":[{\"type\":\"scatterternary\",\"marker\":{\"colorbar\":{\"outlinewidth\":0,\"ticks\":\"\"}}}],\"scattercarpet\":[{\"type\":\"scattercarpet\",\"marker\":{\"colorbar\":{\"outlinewidth\":0,\"ticks\":\"\"}}}],\"carpet\":[{\"aaxis\":{\"endlinecolor\":\"#2a3f5f\",\"gridcolor\":\"white\",\"linecolor\":\"white\",\"minorgridcolor\":\"white\",\"startlinecolor\":\"#2a3f5f\"},\"baxis\":{\"endlinecolor\":\"#2a3f5f\",\"gridcolor\":\"white\",\"linecolor\":\"white\",\"minorgridcolor\":\"white\",\"startlinecolor\":\"#2a3f5f\"},\"type\":\"carpet\"}],\"table\":[{\"cells\":{\"fill\":{\"color\":\"#EBF0F8\"},\"line\":{\"color\":\"white\"}},\"header\":{\"fill\":{\"color\":\"#C8D4E3\"},\"line\":{\"color\":\"white\"}},\"type\":\"table\"}],\"barpolar\":[{\"marker\":{\"line\":{\"color\":\"#E5ECF6\",\"width\":0.5},\"pattern\":{\"fillmode\":\"overlay\",\"size\":10,\"solidity\":0.2}},\"type\":\"barpolar\"}],\"pie\":[{\"automargin\":true,\"type\":\"pie\"}]},\"layout\":{\"autotypenumbers\":\"strict\",\"colorway\":[\"#636efa\",\"#EF553B\",\"#00cc96\",\"#ab63fa\",\"#FFA15A\",\"#19d3f3\",\"#FF6692\",\"#B6E880\",\"#FF97FF\",\"#FECB52\"],\"font\":{\"color\":\"#2a3f5f\"},\"hovermode\":\"closest\",\"hoverlabel\":{\"align\":\"left\"},\"paper_bgcolor\":\"white\",\"plot_bgcolor\":\"#E5ECF6\",\"polar\":{\"bgcolor\":\"#E5ECF6\",\"angularaxis\":{\"gridcolor\":\"white\",\"linecolor\":\"white\",\"ticks\":\"\"},\"radialaxis\":{\"gridcolor\":\"white\",\"linecolor\":\"white\",\"ticks\":\"\"}},\"ternary\":{\"bgcolor\":\"#E5ECF6\",\"aaxis\":{\"gridcolor\":\"white\",\"linecolor\":\"white\",\"ticks\":\"\"},\"baxis\":{\"gridcolor\":\"white\",\"linecolor\":\"white\",\"ticks\":\"\"},\"caxis\":{\"gridcolor\":\"white\",\"linecolor\":\"white\",\"ticks\":\"\"}},\"coloraxis\":{\"colorbar\":{\"outlinewidth\":0,\"ticks\":\"\"}},\"colorscale\":{\"sequential\":[[0.0,\"#0d0887\"],[0.1111111111111111,\"#46039f\"],[0.2222222222222222,\"#7201a8\"],[0.3333333333333333,\"#9c179e\"],[0.4444444444444444,\"#bd3786\"],[0.5555555555555556,\"#d8576b\"],[0.6666666666666666,\"#ed7953\"],[0.7777777777777778,\"#fb9f3a\"],[0.8888888888888888,\"#fdca26\"],[1.0,\"#f0f921\"]],\"sequentialminus\":[[0.0,\"#0d0887\"],[0.1111111111111111,\"#46039f\"],[0.2222222222222222,\"#7201a8\"],[0.3333333333333333,\"#9c179e\"],[0.4444444444444444,\"#bd3786\"],[0.5555555555555556,\"#d8576b\"],[0.6666666666666666,\"#ed7953\"],[0.7777777777777778,\"#fb9f3a\"],[0.8888888888888888,\"#fdca26\"],[1.0,\"#f0f921\"]],\"diverging\":[[0,\"#8e0152\"],[0.1,\"#c51b7d\"],[0.2,\"#de77ae\"],[0.3,\"#f1b6da\"],[0.4,\"#fde0ef\"],[0.5,\"#f7f7f7\"],[0.6,\"#e6f5d0\"],[0.7,\"#b8e186\"],[0.8,\"#7fbc41\"],[0.9,\"#4d9221\"],[1,\"#276419\"]]},\"xaxis\":{\"gridcolor\":\"white\",\"linecolor\":\"white\",\"ticks\":\"\",\"title\":{\"standoff\":15},\"zerolinecolor\":\"white\",\"automargin\":true,\"zerolinewidth\":2},\"yaxis\":{\"gridcolor\":\"white\",\"linecolor\":\"white\",\"ticks\":\"\",\"title\":{\"standoff\":15},\"zerolinecolor\":\"white\",\"automargin\":true,\"zerolinewidth\":2},\"scene\":{\"xaxis\":{\"backgroundcolor\":\"#E5ECF6\",\"gridcolor\":\"white\",\"linecolor\":\"white\",\"showbackground\":true,\"ticks\":\"\",\"zerolinecolor\":\"white\",\"gridwidth\":2},\"yaxis\":{\"backgroundcolor\":\"#E5ECF6\",\"gridcolor\":\"white\",\"linecolor\":\"white\",\"showbackground\":true,\"ticks\":\"\",\"zerolinecolor\":\"white\",\"gridwidth\":2},\"zaxis\":{\"backgroundcolor\":\"#E5ECF6\",\"gridcolor\":\"white\",\"linecolor\":\"white\",\"showbackground\":true,\"ticks\":\"\",\"zerolinecolor\":\"white\",\"gridwidth\":2}},\"shapedefaults\":{\"line\":{\"color\":\"#2a3f5f\"}},\"annotationdefaults\":{\"arrowcolor\":\"#2a3f5f\",\"arrowhead\":0,\"arrowwidth\":1},\"geo\":{\"bgcolor\":\"white\",\"landcolor\":\"#E5ECF6\",\"subunitcolor\":\"white\",\"showland\":true,\"showlakes\":true,\"lakecolor\":\"white\"},\"title\":{\"x\":0.05},\"mapbox\":{\"style\":\"light\"}}},\"xaxis\":{\"anchor\":\"y\",\"domain\":[0.0,1.0],\"title\":{\"text\":\"Threshold\",\"standoff\":1},\"tickmode\":\"array\",\"tickvals\":[\"0.05\",\"0.15\",\"0.25\",\"0.35\",\"0.45\",\"0.55\",\"0.65\",\"0.75\",\"0.85\",\"0.95\"],\"ticktext\":[\"0.05\",\"0.15\",\"0.25\",\"0.35\",\"0.45\",\"0.55\",\"0.65\",\"0.75\",\"0.85\",\"0.95\"],\"color\":\"black\"},\"yaxis\":{\"anchor\":\"x\",\"domain\":[0.0,1.0],\"title\":{\"text\":\"Jaccard distance\",\"standoff\":2},\"color\":\"black\"},\"legend\":{\"tracegroupgap\":0},\"margin\":{\"t\":20,\"l\":20,\"r\":20,\"b\":20},\"barmode\":\"relative\",\"width\":336.0,\"height\":211.20000000000002,\"font\":{\"size\":9,\"family\":\"Arial\"}},                        {\"responsive\": true}                    ).then(function(){\n",
       "                            \n",
       "var gd = document.getElementById('72f3ef75-b666-4415-a605-e33cd5ff9242');\n",
       "var x = new MutationObserver(function (mutations, observer) {{\n",
       "        var display = window.getComputedStyle(gd).display;\n",
       "        if (!display || display === 'none') {{\n",
       "            console.log([gd, 'removed!']);\n",
       "            Plotly.purge(gd);\n",
       "            observer.disconnect();\n",
       "        }}\n",
       "}});\n",
       "\n",
       "// Listen for the removal of the full notebook cells\n",
       "var notebookContainer = gd.closest('#notebook-container');\n",
       "if (notebookContainer) {{\n",
       "    x.observe(notebookContainer, {childList: true});\n",
       "}}\n",
       "\n",
       "// Listen for the clearing of the current output cell\n",
       "var outputEl = gd.closest('.output');\n",
       "if (outputEl) {{\n",
       "    x.observe(outputEl, {childList: true});\n",
       "}}\n",
       "\n",
       "                        })                };                });            </script>        </div>"
      ]
     },
     "metadata": {},
     "output_type": "display_data"
    }
   ],
   "source": [
    "import plotly.express as px\n",
    "import os\n",
    "\n",
    "dist = rank_models_difference(gimme)\n",
    "# Example data\n",
    "dist_keys = list(dist.keys())\n",
    "dist_values = list(dist.values())\n",
    "\n",
    "bar_color = '#5975A3'\n",
    "# Create a bar plot\n",
    "fig = px.bar(\n",
    "    x=dist_keys, \n",
    "    y=dist_values, \n",
    "    labels={'x': 'Threshold', 'y': 'Jaccard distance'},  # Axis labels\n",
    ")\n",
    "fig.update_traces(marker_color=bar_color)\n",
    "# Customize the layout\n",
    "fig.update_layout(\n",
    "    xaxis=dict(\n",
    "        tickmode='array', \n",
    "        tickvals=dist_keys[::2],  # Show every 2nd tick\n",
    "        ticktext=[dist_keys[i] for i in range(len(dist_keys)) if i % 2 == 0],\n",
    "        color='black'\n",
    "        , title_standoff=1# X-axis ticks color\n",
    "    ),\n",
    "    yaxis=dict(color='black', title_standoff=2),  # Y-axis ticks color\n",
    "    margin=dict(l=20, r=20, t=20, b=20),  # Tight margins\n",
    "    width=3.5*96,\n",
    "    height=2.2*96\n",
    ")\n",
    "fig.update_layout(\n",
    "        margin=dict(l=20, r=20, t=20, b=20), \n",
    "        font=dict(size=9, family=\"Arial\"),\n",
    "        xaxis=dict(color=\"black\"),  # Set x-axis color to black\n",
    "        yaxis=dict(color=\"black\")\n",
    "    )\n",
    "\n",
    "# Save the figure\n",
    "fig.write_image(os.path.join(RESULTS_PATH, \"ds_stress_gimme_barplot.pdf\"), format=\"pdf\", scale=1)\n",
    "\n",
    "# Show the plot\n",
    "fig.show()"
   ]
  },
  {
   "cell_type": "code",
   "execution_count": 33,
   "id": "aa08369f-75e6-4a90-b30b-aa6f0182b9fc",
   "metadata": {},
   "outputs": [
    {
     "data": {
      "application/vnd.plotly.v1+json": {
       "config": {
        "plotlyServerURL": "https://plot.ly"
       },
       "data": [
        {
         "hovertemplate": "symbol=Control<br>x=%{x}<br>y=%{y}<br>color=%{marker.color}<extra></extra>",
         "legendgroup": "Control",
         "marker": {
          "color": [
           0.05,
           0.1,
           0.15,
           0.2,
           0.25,
           0.3,
           0.35,
           0.4,
           0.45,
           0.5,
           0.55,
           0.6,
           0.65,
           0.7,
           0.75,
           0.8,
           0.85,
           0.9,
           0.95
          ],
          "coloraxis": "coloraxis",
          "symbol": "square"
         },
         "mode": "markers",
         "name": "Control",
         "orientation": "v",
         "showlegend": true,
         "type": "scatter",
         "x": [
          -0.5614273628045555,
          -0.5614273628045555,
          -0.5479207355536859,
          -0.5329163041523204,
          -0.49174200805027507,
          -0.44171970745187755,
          -0.41433753022401826,
          -0.19568745636385962,
          -0.01170300444873506,
          0.023015572360781153,
          0.08373391464149617,
          0.13172910987180975,
          0.1809688242487994,
          0.28705081124478476,
          0.30879424404898737,
          0.3297722916501785,
          0.39089499141864126,
          0.42839367909463794,
          0.43382729499184525
         ],
         "xaxis": "x",
         "y": [
          0.06392658706602229,
          0.06392658706602229,
          0.05682133086754114,
          0.05691435472046873,
          0.043572417529374796,
          0.031641906428185616,
          0.020521904638410766,
          -0.04298514083106951,
          -0.1353062450953844,
          -0.14534456398608328,
          -0.15252042724361062,
          -0.17923682241145467,
          -0.19752343121448587,
          -0.22856310849769265,
          -0.23323870278356304,
          -0.23514001759439573,
          -0.2739381959134351,
          -0.27808094086073704,
          -0.2798728213463733
         ],
         "yaxis": "y"
        },
        {
         "hovertemplate": "symbol=H2O2<br>x=%{x}<br>y=%{y}<br>color=%{marker.color}<extra></extra>",
         "legendgroup": "H2O2",
         "marker": {
          "color": [
           0.05,
           0.1,
           0.15,
           0.2,
           0.25,
           0.3,
           0.35,
           0.4,
           0.45,
           0.5,
           0.55,
           0.6,
           0.65,
           0.7,
           0.75,
           0.8,
           0.85,
           0.9,
           0.95
          ],
          "coloraxis": "coloraxis",
          "symbol": "circle"
         },
         "mode": "markers",
         "name": "H2O2",
         "orientation": "v",
         "showlegend": true,
         "type": "scatter",
         "x": [
          -0.548746128942811,
          -0.548746128942811,
          -0.5149870737730757,
          -0.4826977178017969,
          -0.43217536419429164,
          -0.38694075063572814,
          -0.3624386951809886,
          -0.22078690535931228,
          0.046218587989357,
          0.10358727946757139,
          0.1681448888405899,
          0.18927050869994946,
          0.2726533955921811,
          0.2979882747543097,
          0.33342735894461223,
          0.33003176791555927,
          0.4195655641067429,
          0.43200407718694384,
          0.45549764827359335
         ],
         "xaxis": "x",
         "y": [
          0.06487984977856981,
          0.06487984977856981,
          0.04816120694247494,
          0.044601355722271044,
          0.029575478654550794,
          0.01804279709435492,
          0.006684662426880362,
          -0.0329199910801544,
          -0.13862606780259143,
          -0.1633837822597483,
          -0.17722590298819446,
          -0.17104438351243745,
          -0.21396634933605083,
          -0.22635658085823265,
          -0.23674460580644555,
          -0.23873631711894033,
          -0.2845627646475397,
          -0.2897202172481818,
          -0.2984222630959902
         ],
         "yaxis": "y"
        },
        {
         "hovertemplate": "symbol=NaCl<br>x=%{x}<br>y=%{y}<br>color=%{marker.color}<extra></extra>",
         "legendgroup": "NaCl",
         "marker": {
          "color": [
           0.05,
           0.1,
           0.15,
           0.2,
           0.25,
           0.3,
           0.35,
           0.4,
           0.45,
           0.5,
           0.55,
           0.6,
           0.65,
           0.7,
           0.75,
           0.8,
           0.85,
           0.9,
           0.95
          ],
          "coloraxis": "coloraxis",
          "symbol": "x"
         },
         "mode": "markers",
         "name": "NaCl",
         "orientation": "v",
         "showlegend": true,
         "type": "scatter",
         "x": [
          -0.5666271125294935,
          -0.5666271125294935,
          -0.5433053990854337,
          -0.49485387148048127,
          -0.4778283410637947,
          -0.4164112902956363,
          -0.15799989147094493,
          -0.1263625497572838,
          0.034940849748258306,
          0.09303148777813457,
          0.1750923024817208,
          0.25168980357887344,
          0.29287048729717097,
          0.3209589843537725,
          0.3487272592675753,
          0.36192292349521393,
          0.4263993289711946,
          0.4436327373575083,
          0.45145813590345885
         ],
         "xaxis": "x",
         "y": [
          0.06298363355480653,
          0.06298363355480653,
          0.046998618438841795,
          0.027701904710426332,
          0.0271969930974024,
          0.013033313178487166,
          -0.051143345946189585,
          -0.0670787049810467,
          -0.10614646936429252,
          -0.04524510998889114,
          -0.06385190257013568,
          -0.08545601237910837,
          -0.10021652642250957,
          -0.09122588955282186,
          -0.12703444392725102,
          -0.13949445875335661,
          -0.17832177269840763,
          -0.18898531440330804,
          -0.18848472447689193
         ],
         "yaxis": "y"
        },
        {
         "hovertemplate": "symbol=Sorbitol<br>x=%{x}<br>y=%{y}<br>color=%{marker.color}<extra></extra>",
         "legendgroup": "Sorbitol",
         "marker": {
          "color": [
           0.05,
           0.1,
           0.15,
           0.2,
           0.25,
           0.3,
           0.35,
           0.4,
           0.45,
           0.5,
           0.55,
           0.6,
           0.65,
           0.7,
           0.75,
           0.8,
           0.85,
           0.9,
           0.95
          ],
          "coloraxis": "coloraxis",
          "symbol": "triangle-up"
         },
         "mode": "markers",
         "name": "Sorbitol",
         "orientation": "v",
         "showlegend": true,
         "type": "scatter",
         "x": [
          -0.5632828754034602,
          -0.5632828754034602,
          -0.5086392979125715,
          -0.4583434378390054,
          -0.4041512031314171,
          -0.3702745124928623,
          -0.2435816083356559,
          -0.09010812197808601,
          0.1855985547486902,
          0.23726262198426523,
          0.3178362628795501,
          0.3846489966042373,
          0.45056522873218807,
          0.48464951459479805,
          0.50249736596799,
          0.5220731556904769,
          0.5967419755669046,
          0.6309822868775296,
          0.6479293881708988
         ],
         "xaxis": "x",
         "y": [
          0.06637460657276283,
          0.06637460657276283,
          0.051988925727529736,
          0.03736077723737565,
          0.023566520487334337,
          0.014371863637321998,
          -0.015843222574929955,
          -0.06494117268121923,
          0.4478827447667406,
          0.47056502193246014,
          0.5342645245467975,
          0.4976056003055321,
          0.484193882659093,
          0.4993895703495032,
          0.4619950067595761,
          0.4649359747967255,
          0.42212399086463687,
          0.4945784784448566,
          0.47430823334367345
         ],
         "yaxis": "y"
        }
       ],
       "layout": {
        "annotations": [
         {
          "arrowcolor": "red",
          "arrowhead": 2,
          "arrowsize": 1,
          "ax": -30,
          "ay": -30,
          "font": {
           "color": "black",
           "size": 10
          },
          "showarrow": true,
          "text": "0.6, Control",
          "x": 0.13172910987180975,
          "y": -0.17923682241145467
         },
         {
          "arrowcolor": "red",
          "arrowhead": 2,
          "arrowsize": 1,
          "ax": 0,
          "ay": 20,
          "font": {
           "color": "black",
           "size": 10
          },
          "showarrow": true,
          "text": "0.6, H2O2",
          "x": 0.18927050869994946,
          "y": -0.17104438351243745
         },
         {
          "arrowcolor": "red",
          "arrowhead": 2,
          "arrowsize": 1,
          "ax": 20,
          "ay": -20,
          "font": {
           "color": "black",
           "size": 10
          },
          "showarrow": true,
          "text": "0.6, NaCl",
          "x": 0.25168980357887344,
          "y": -0.08545601237910837
         },
         {
          "arrowcolor": "red",
          "arrowhead": 2,
          "arrowsize": 1,
          "ax": -40,
          "ay": 20,
          "font": {
           "color": "black",
           "size": 10
          },
          "showarrow": true,
          "text": "0.6, Sorbitol",
          "x": 0.3846489966042373,
          "y": 0.4976056003055321
         },
         {
          "arrowcolor": "red",
          "arrowhead": 2,
          "arrowsize": 1,
          "ax": 40,
          "ay": -10,
          "font": {
           "color": "black",
           "size": 10
          },
          "showarrow": true,
          "text": "0.9, Control",
          "x": 0.42839367909463794,
          "y": -0.27808094086073704
         },
         {
          "arrowcolor": "red",
          "arrowhead": 2,
          "arrowsize": 1,
          "ax": 0,
          "ay": 20,
          "font": {
           "color": "black",
           "size": 10
          },
          "showarrow": true,
          "text": "0.9, H2O2",
          "x": 0.43200407718694384,
          "y": -0.2897202172481818
         },
         {
          "arrowcolor": "red",
          "arrowhead": 2,
          "arrowsize": 1,
          "ax": 20,
          "ay": -20,
          "font": {
           "color": "black",
           "size": 10
          },
          "showarrow": true,
          "text": "0.9, NaCl",
          "x": 0.4436327373575083,
          "y": -0.18898531440330804
         },
         {
          "arrowcolor": "red",
          "arrowhead": 2,
          "arrowsize": 1,
          "ax": 0,
          "ay": 20,
          "font": {
           "color": "black",
           "size": 10
          },
          "showarrow": true,
          "text": "0.9, Sorbitol",
          "x": 0.6309822868775296,
          "y": 0.4945784784448566
         }
        ],
        "coloraxis": {
         "colorbar": {
          "len": 0.7,
          "ticks": "outside",
          "title": {
           "text": "Threshold"
          },
          "x": 1.01,
          "y": 0.4,
          "yanchor": "top"
         },
         "colorscale": [
          [
           0,
           "#fde725"
          ],
          [
           0.1111111111111111,
           "#b5de2b"
          ],
          [
           0.2222222222222222,
           "#6ece58"
          ],
          [
           0.3333333333333333,
           "#35b779"
          ],
          [
           0.4444444444444444,
           "#1f9e89"
          ],
          [
           0.5555555555555556,
           "#26828e"
          ],
          [
           0.6666666666666666,
           "#31688e"
          ],
          [
           0.7777777777777778,
           "#3e4989"
          ],
          [
           0.8888888888888888,
           "#482878"
          ],
          [
           1,
           "#440154"
          ]
         ]
        },
        "font": {
         "family": "Arial",
         "size": 10
        },
        "height": 240,
        "legend": {
         "title": {
          "text": "Condition"
         },
         "tracegroupgap": 0
        },
        "margin": {
         "b": 20,
         "l": 20,
         "r": 20,
         "t": 20
        },
        "template": {
         "data": {
          "bar": [
           {
            "error_x": {
             "color": "#2a3f5f"
            },
            "error_y": {
             "color": "#2a3f5f"
            },
            "marker": {
             "line": {
              "color": "#E5ECF6",
              "width": 0.5
             },
             "pattern": {
              "fillmode": "overlay",
              "size": 10,
              "solidity": 0.2
             }
            },
            "type": "bar"
           }
          ],
          "barpolar": [
           {
            "marker": {
             "line": {
              "color": "#E5ECF6",
              "width": 0.5
             },
             "pattern": {
              "fillmode": "overlay",
              "size": 10,
              "solidity": 0.2
             }
            },
            "type": "barpolar"
           }
          ],
          "carpet": [
           {
            "aaxis": {
             "endlinecolor": "#2a3f5f",
             "gridcolor": "white",
             "linecolor": "white",
             "minorgridcolor": "white",
             "startlinecolor": "#2a3f5f"
            },
            "baxis": {
             "endlinecolor": "#2a3f5f",
             "gridcolor": "white",
             "linecolor": "white",
             "minorgridcolor": "white",
             "startlinecolor": "#2a3f5f"
            },
            "type": "carpet"
           }
          ],
          "choropleth": [
           {
            "colorbar": {
             "outlinewidth": 0,
             "ticks": ""
            },
            "type": "choropleth"
           }
          ],
          "contour": [
           {
            "colorbar": {
             "outlinewidth": 0,
             "ticks": ""
            },
            "colorscale": [
             [
              0,
              "#0d0887"
             ],
             [
              0.1111111111111111,
              "#46039f"
             ],
             [
              0.2222222222222222,
              "#7201a8"
             ],
             [
              0.3333333333333333,
              "#9c179e"
             ],
             [
              0.4444444444444444,
              "#bd3786"
             ],
             [
              0.5555555555555556,
              "#d8576b"
             ],
             [
              0.6666666666666666,
              "#ed7953"
             ],
             [
              0.7777777777777778,
              "#fb9f3a"
             ],
             [
              0.8888888888888888,
              "#fdca26"
             ],
             [
              1,
              "#f0f921"
             ]
            ],
            "type": "contour"
           }
          ],
          "contourcarpet": [
           {
            "colorbar": {
             "outlinewidth": 0,
             "ticks": ""
            },
            "type": "contourcarpet"
           }
          ],
          "heatmap": [
           {
            "colorbar": {
             "outlinewidth": 0,
             "ticks": ""
            },
            "colorscale": [
             [
              0,
              "#0d0887"
             ],
             [
              0.1111111111111111,
              "#46039f"
             ],
             [
              0.2222222222222222,
              "#7201a8"
             ],
             [
              0.3333333333333333,
              "#9c179e"
             ],
             [
              0.4444444444444444,
              "#bd3786"
             ],
             [
              0.5555555555555556,
              "#d8576b"
             ],
             [
              0.6666666666666666,
              "#ed7953"
             ],
             [
              0.7777777777777778,
              "#fb9f3a"
             ],
             [
              0.8888888888888888,
              "#fdca26"
             ],
             [
              1,
              "#f0f921"
             ]
            ],
            "type": "heatmap"
           }
          ],
          "heatmapgl": [
           {
            "colorbar": {
             "outlinewidth": 0,
             "ticks": ""
            },
            "colorscale": [
             [
              0,
              "#0d0887"
             ],
             [
              0.1111111111111111,
              "#46039f"
             ],
             [
              0.2222222222222222,
              "#7201a8"
             ],
             [
              0.3333333333333333,
              "#9c179e"
             ],
             [
              0.4444444444444444,
              "#bd3786"
             ],
             [
              0.5555555555555556,
              "#d8576b"
             ],
             [
              0.6666666666666666,
              "#ed7953"
             ],
             [
              0.7777777777777778,
              "#fb9f3a"
             ],
             [
              0.8888888888888888,
              "#fdca26"
             ],
             [
              1,
              "#f0f921"
             ]
            ],
            "type": "heatmapgl"
           }
          ],
          "histogram": [
           {
            "marker": {
             "pattern": {
              "fillmode": "overlay",
              "size": 10,
              "solidity": 0.2
             }
            },
            "type": "histogram"
           }
          ],
          "histogram2d": [
           {
            "colorbar": {
             "outlinewidth": 0,
             "ticks": ""
            },
            "colorscale": [
             [
              0,
              "#0d0887"
             ],
             [
              0.1111111111111111,
              "#46039f"
             ],
             [
              0.2222222222222222,
              "#7201a8"
             ],
             [
              0.3333333333333333,
              "#9c179e"
             ],
             [
              0.4444444444444444,
              "#bd3786"
             ],
             [
              0.5555555555555556,
              "#d8576b"
             ],
             [
              0.6666666666666666,
              "#ed7953"
             ],
             [
              0.7777777777777778,
              "#fb9f3a"
             ],
             [
              0.8888888888888888,
              "#fdca26"
             ],
             [
              1,
              "#f0f921"
             ]
            ],
            "type": "histogram2d"
           }
          ],
          "histogram2dcontour": [
           {
            "colorbar": {
             "outlinewidth": 0,
             "ticks": ""
            },
            "colorscale": [
             [
              0,
              "#0d0887"
             ],
             [
              0.1111111111111111,
              "#46039f"
             ],
             [
              0.2222222222222222,
              "#7201a8"
             ],
             [
              0.3333333333333333,
              "#9c179e"
             ],
             [
              0.4444444444444444,
              "#bd3786"
             ],
             [
              0.5555555555555556,
              "#d8576b"
             ],
             [
              0.6666666666666666,
              "#ed7953"
             ],
             [
              0.7777777777777778,
              "#fb9f3a"
             ],
             [
              0.8888888888888888,
              "#fdca26"
             ],
             [
              1,
              "#f0f921"
             ]
            ],
            "type": "histogram2dcontour"
           }
          ],
          "mesh3d": [
           {
            "colorbar": {
             "outlinewidth": 0,
             "ticks": ""
            },
            "type": "mesh3d"
           }
          ],
          "parcoords": [
           {
            "line": {
             "colorbar": {
              "outlinewidth": 0,
              "ticks": ""
             }
            },
            "type": "parcoords"
           }
          ],
          "pie": [
           {
            "automargin": true,
            "type": "pie"
           }
          ],
          "scatter": [
           {
            "fillpattern": {
             "fillmode": "overlay",
             "size": 10,
             "solidity": 0.2
            },
            "type": "scatter"
           }
          ],
          "scatter3d": [
           {
            "line": {
             "colorbar": {
              "outlinewidth": 0,
              "ticks": ""
             }
            },
            "marker": {
             "colorbar": {
              "outlinewidth": 0,
              "ticks": ""
             }
            },
            "type": "scatter3d"
           }
          ],
          "scattercarpet": [
           {
            "marker": {
             "colorbar": {
              "outlinewidth": 0,
              "ticks": ""
             }
            },
            "type": "scattercarpet"
           }
          ],
          "scattergeo": [
           {
            "marker": {
             "colorbar": {
              "outlinewidth": 0,
              "ticks": ""
             }
            },
            "type": "scattergeo"
           }
          ],
          "scattergl": [
           {
            "marker": {
             "colorbar": {
              "outlinewidth": 0,
              "ticks": ""
             }
            },
            "type": "scattergl"
           }
          ],
          "scattermapbox": [
           {
            "marker": {
             "colorbar": {
              "outlinewidth": 0,
              "ticks": ""
             }
            },
            "type": "scattermapbox"
           }
          ],
          "scatterpolar": [
           {
            "marker": {
             "colorbar": {
              "outlinewidth": 0,
              "ticks": ""
             }
            },
            "type": "scatterpolar"
           }
          ],
          "scatterpolargl": [
           {
            "marker": {
             "colorbar": {
              "outlinewidth": 0,
              "ticks": ""
             }
            },
            "type": "scatterpolargl"
           }
          ],
          "scatterternary": [
           {
            "marker": {
             "colorbar": {
              "outlinewidth": 0,
              "ticks": ""
             }
            },
            "type": "scatterternary"
           }
          ],
          "surface": [
           {
            "colorbar": {
             "outlinewidth": 0,
             "ticks": ""
            },
            "colorscale": [
             [
              0,
              "#0d0887"
             ],
             [
              0.1111111111111111,
              "#46039f"
             ],
             [
              0.2222222222222222,
              "#7201a8"
             ],
             [
              0.3333333333333333,
              "#9c179e"
             ],
             [
              0.4444444444444444,
              "#bd3786"
             ],
             [
              0.5555555555555556,
              "#d8576b"
             ],
             [
              0.6666666666666666,
              "#ed7953"
             ],
             [
              0.7777777777777778,
              "#fb9f3a"
             ],
             [
              0.8888888888888888,
              "#fdca26"
             ],
             [
              1,
              "#f0f921"
             ]
            ],
            "type": "surface"
           }
          ],
          "table": [
           {
            "cells": {
             "fill": {
              "color": "#EBF0F8"
             },
             "line": {
              "color": "white"
             }
            },
            "header": {
             "fill": {
              "color": "#C8D4E3"
             },
             "line": {
              "color": "white"
             }
            },
            "type": "table"
           }
          ]
         },
         "layout": {
          "annotationdefaults": {
           "arrowcolor": "#2a3f5f",
           "arrowhead": 0,
           "arrowwidth": 1
          },
          "autotypenumbers": "strict",
          "coloraxis": {
           "colorbar": {
            "outlinewidth": 0,
            "ticks": ""
           }
          },
          "colorscale": {
           "diverging": [
            [
             0,
             "#8e0152"
            ],
            [
             0.1,
             "#c51b7d"
            ],
            [
             0.2,
             "#de77ae"
            ],
            [
             0.3,
             "#f1b6da"
            ],
            [
             0.4,
             "#fde0ef"
            ],
            [
             0.5,
             "#f7f7f7"
            ],
            [
             0.6,
             "#e6f5d0"
            ],
            [
             0.7,
             "#b8e186"
            ],
            [
             0.8,
             "#7fbc41"
            ],
            [
             0.9,
             "#4d9221"
            ],
            [
             1,
             "#276419"
            ]
           ],
           "sequential": [
            [
             0,
             "#0d0887"
            ],
            [
             0.1111111111111111,
             "#46039f"
            ],
            [
             0.2222222222222222,
             "#7201a8"
            ],
            [
             0.3333333333333333,
             "#9c179e"
            ],
            [
             0.4444444444444444,
             "#bd3786"
            ],
            [
             0.5555555555555556,
             "#d8576b"
            ],
            [
             0.6666666666666666,
             "#ed7953"
            ],
            [
             0.7777777777777778,
             "#fb9f3a"
            ],
            [
             0.8888888888888888,
             "#fdca26"
            ],
            [
             1,
             "#f0f921"
            ]
           ],
           "sequentialminus": [
            [
             0,
             "#0d0887"
            ],
            [
             0.1111111111111111,
             "#46039f"
            ],
            [
             0.2222222222222222,
             "#7201a8"
            ],
            [
             0.3333333333333333,
             "#9c179e"
            ],
            [
             0.4444444444444444,
             "#bd3786"
            ],
            [
             0.5555555555555556,
             "#d8576b"
            ],
            [
             0.6666666666666666,
             "#ed7953"
            ],
            [
             0.7777777777777778,
             "#fb9f3a"
            ],
            [
             0.8888888888888888,
             "#fdca26"
            ],
            [
             1,
             "#f0f921"
            ]
           ]
          },
          "colorway": [
           "#636efa",
           "#EF553B",
           "#00cc96",
           "#ab63fa",
           "#FFA15A",
           "#19d3f3",
           "#FF6692",
           "#B6E880",
           "#FF97FF",
           "#FECB52"
          ],
          "font": {
           "color": "#2a3f5f"
          },
          "geo": {
           "bgcolor": "white",
           "lakecolor": "white",
           "landcolor": "#E5ECF6",
           "showlakes": true,
           "showland": true,
           "subunitcolor": "white"
          },
          "hoverlabel": {
           "align": "left"
          },
          "hovermode": "closest",
          "mapbox": {
           "style": "light"
          },
          "paper_bgcolor": "white",
          "plot_bgcolor": "#E5ECF6",
          "polar": {
           "angularaxis": {
            "gridcolor": "white",
            "linecolor": "white",
            "ticks": ""
           },
           "bgcolor": "#E5ECF6",
           "radialaxis": {
            "gridcolor": "white",
            "linecolor": "white",
            "ticks": ""
           }
          },
          "scene": {
           "xaxis": {
            "backgroundcolor": "#E5ECF6",
            "gridcolor": "white",
            "gridwidth": 2,
            "linecolor": "white",
            "showbackground": true,
            "ticks": "",
            "zerolinecolor": "white"
           },
           "yaxis": {
            "backgroundcolor": "#E5ECF6",
            "gridcolor": "white",
            "gridwidth": 2,
            "linecolor": "white",
            "showbackground": true,
            "ticks": "",
            "zerolinecolor": "white"
           },
           "zaxis": {
            "backgroundcolor": "#E5ECF6",
            "gridcolor": "white",
            "gridwidth": 2,
            "linecolor": "white",
            "showbackground": true,
            "ticks": "",
            "zerolinecolor": "white"
           }
          },
          "shapedefaults": {
           "line": {
            "color": "#2a3f5f"
           }
          },
          "ternary": {
           "aaxis": {
            "gridcolor": "white",
            "linecolor": "white",
            "ticks": ""
           },
           "baxis": {
            "gridcolor": "white",
            "linecolor": "white",
            "ticks": ""
           },
           "bgcolor": "#E5ECF6",
           "caxis": {
            "gridcolor": "white",
            "linecolor": "white",
            "ticks": ""
           }
          },
          "title": {
           "x": 0.05
          },
          "xaxis": {
           "automargin": true,
           "gridcolor": "white",
           "linecolor": "white",
           "ticks": "",
           "title": {
            "standoff": 15
           },
           "zerolinecolor": "white",
           "zerolinewidth": 2
          },
          "yaxis": {
           "automargin": true,
           "gridcolor": "white",
           "linecolor": "white",
           "ticks": "",
           "title": {
            "standoff": 15
           },
           "zerolinecolor": "white",
           "zerolinewidth": 2
          }
         }
        },
        "width": 384,
        "xaxis": {
         "anchor": "y",
         "autorange": true,
         "color": "black",
         "domain": [
          0,
          1
         ],
         "range": [
          -0.6650022933359196,
          0.8456506379330402
         ],
         "title": {
          "text": "Dim 1 (37.5%)"
         },
         "type": "linear"
        },
        "yaxis": {
         "anchor": "x",
         "autorange": true,
         "color": "black",
         "domain": [
          0,
          1
         ],
         "range": [
          -0.48582514535805166,
          0.615114801925428
         ],
         "title": {
          "standoff": 2,
          "text": "Dim 2 (12.0%)"
         },
         "type": "linear"
        }
       }
      },
      "image/png": "[encoded data removed]",
      "text/html": [
       "<div>                            <div id=\"00d6a095-57e2-4e5f-a33a-959ec6803246\" class=\"plotly-graph-div\" style=\"height:240.0px; width:384px;\"></div>            <script type=\"text/javascript\">                require([\"plotly\"], function(Plotly) {                    window.PLOTLYENV=window.PLOTLYENV || {};                                    if (document.getElementById(\"00d6a095-57e2-4e5f-a33a-959ec6803246\")) {                    Plotly.newPlot(                        \"00d6a095-57e2-4e5f-a33a-959ec6803246\",                        [{\"hovertemplate\":\"symbol=Control\\u003cbr\\u003ex=%{x}\\u003cbr\\u003ey=%{y}\\u003cbr\\u003ecolor=%{marker.color}\\u003cextra\\u003e\\u003c\\u002fextra\\u003e\",\"legendgroup\":\"Control\",\"marker\":{\"color\":[0.05,0.1,0.15,0.2,0.25,0.3,0.35,0.4,0.45,0.5,0.55,0.6,0.65,0.7,0.75,0.8,0.85,0.9,0.95],\"coloraxis\":\"coloraxis\",\"symbol\":\"square\"},\"mode\":\"markers\",\"name\":\"Control\",\"orientation\":\"v\",\"showlegend\":true,\"x\":[-0.5614273628045555,-0.5614273628045555,-0.5479207355536859,-0.5329163041523204,-0.49174200805027507,-0.44171970745187755,-0.41433753022401826,-0.19568745636385962,-0.01170300444873506,0.023015572360781153,0.08373391464149617,0.13172910987180975,0.1809688242487994,0.28705081124478476,0.30879424404898737,0.3297722916501785,0.39089499141864126,0.42839367909463794,0.43382729499184525],\"xaxis\":\"x\",\"y\":[0.06392658706602229,0.06392658706602229,0.05682133086754114,0.05691435472046873,0.043572417529374796,0.031641906428185616,0.020521904638410766,-0.04298514083106951,-0.1353062450953844,-0.14534456398608328,-0.15252042724361062,-0.17923682241145467,-0.19752343121448587,-0.22856310849769265,-0.23323870278356304,-0.23514001759439573,-0.2739381959134351,-0.27808094086073704,-0.2798728213463733],\"yaxis\":\"y\",\"type\":\"scatter\"},{\"hovertemplate\":\"symbol=H2O2\\u003cbr\\u003ex=%{x}\\u003cbr\\u003ey=%{y}\\u003cbr\\u003ecolor=%{marker.color}\\u003cextra\\u003e\\u003c\\u002fextra\\u003e\",\"legendgroup\":\"H2O2\",\"marker\":{\"color\":[0.05,0.1,0.15,0.2,0.25,0.3,0.35,0.4,0.45,0.5,0.55,0.6,0.65,0.7,0.75,0.8,0.85,0.9,0.95],\"coloraxis\":\"coloraxis\",\"symbol\":\"circle\"},\"mode\":\"markers\",\"name\":\"H2O2\",\"orientation\":\"v\",\"showlegend\":true,\"x\":[-0.548746128942811,-0.548746128942811,-0.5149870737730757,-0.4826977178017969,-0.43217536419429164,-0.38694075063572814,-0.3624386951809886,-0.22078690535931228,0.046218587989357,0.10358727946757139,0.1681448888405899,0.18927050869994946,0.2726533955921811,0.2979882747543097,0.33342735894461223,0.33003176791555927,0.4195655641067429,0.43200407718694384,0.45549764827359335],\"xaxis\":\"x\",\"y\":[0.06487984977856981,0.06487984977856981,0.04816120694247494,0.044601355722271044,0.029575478654550794,0.01804279709435492,0.006684662426880362,-0.0329199910801544,-0.13862606780259143,-0.1633837822597483,-0.17722590298819446,-0.17104438351243745,-0.21396634933605083,-0.22635658085823265,-0.23674460580644555,-0.23873631711894033,-0.2845627646475397,-0.2897202172481818,-0.2984222630959902],\"yaxis\":\"y\",\"type\":\"scatter\"},{\"hovertemplate\":\"symbol=NaCl\\u003cbr\\u003ex=%{x}\\u003cbr\\u003ey=%{y}\\u003cbr\\u003ecolor=%{marker.color}\\u003cextra\\u003e\\u003c\\u002fextra\\u003e\",\"legendgroup\":\"NaCl\",\"marker\":{\"color\":[0.05,0.1,0.15,0.2,0.25,0.3,0.35,0.4,0.45,0.5,0.55,0.6,0.65,0.7,0.75,0.8,0.85,0.9,0.95],\"coloraxis\":\"coloraxis\",\"symbol\":\"x\"},\"mode\":\"markers\",\"name\":\"NaCl\",\"orientation\":\"v\",\"showlegend\":true,\"x\":[-0.5666271125294935,-0.5666271125294935,-0.5433053990854337,-0.49485387148048127,-0.4778283410637947,-0.4164112902956363,-0.15799989147094493,-0.1263625497572838,0.034940849748258306,0.09303148777813457,0.1750923024817208,0.25168980357887344,0.29287048729717097,0.3209589843537725,0.3487272592675753,0.36192292349521393,0.4263993289711946,0.4436327373575083,0.45145813590345885],\"xaxis\":\"x\",\"y\":[0.06298363355480653,0.06298363355480653,0.046998618438841795,0.027701904710426332,0.0271969930974024,0.013033313178487166,-0.051143345946189585,-0.0670787049810467,-0.10614646936429252,-0.04524510998889114,-0.06385190257013568,-0.08545601237910837,-0.10021652642250957,-0.09122588955282186,-0.12703444392725102,-0.13949445875335661,-0.17832177269840763,-0.18898531440330804,-0.18848472447689193],\"yaxis\":\"y\",\"type\":\"scatter\"},{\"hovertemplate\":\"symbol=Sorbitol\\u003cbr\\u003ex=%{x}\\u003cbr\\u003ey=%{y}\\u003cbr\\u003ecolor=%{marker.color}\\u003cextra\\u003e\\u003c\\u002fextra\\u003e\",\"legendgroup\":\"Sorbitol\",\"marker\":{\"color\":[0.05,0.1,0.15,0.2,0.25,0.3,0.35,0.4,0.45,0.5,0.55,0.6,0.65,0.7,0.75,0.8,0.85,0.9,0.95],\"coloraxis\":\"coloraxis\",\"symbol\":\"triangle-up\"},\"mode\":\"markers\",\"name\":\"Sorbitol\",\"orientation\":\"v\",\"showlegend\":true,\"x\":[-0.5632828754034602,-0.5632828754034602,-0.5086392979125715,-0.4583434378390054,-0.4041512031314171,-0.3702745124928623,-0.2435816083356559,-0.09010812197808601,0.1855985547486902,0.23726262198426523,0.3178362628795501,0.3846489966042373,0.45056522873218807,0.48464951459479805,0.50249736596799,0.5220731556904769,0.5967419755669046,0.6309822868775296,0.6479293881708988],\"xaxis\":\"x\",\"y\":[0.06637460657276283,0.06637460657276283,0.051988925727529736,0.03736077723737565,0.023566520487334337,0.014371863637321998,-0.015843222574929955,-0.06494117268121923,0.4478827447667406,0.47056502193246014,0.5342645245467975,0.4976056003055321,0.484193882659093,0.4993895703495032,0.4619950067595761,0.4649359747967255,0.42212399086463687,0.4945784784448566,0.47430823334367345],\"yaxis\":\"y\",\"type\":\"scatter\"}],                        {\"template\":{\"data\":{\"histogram2dcontour\":[{\"type\":\"histogram2dcontour\",\"colorbar\":{\"outlinewidth\":0,\"ticks\":\"\"},\"colorscale\":[[0.0,\"#0d0887\"],[0.1111111111111111,\"#46039f\"],[0.2222222222222222,\"#7201a8\"],[0.3333333333333333,\"#9c179e\"],[0.4444444444444444,\"#bd3786\"],[0.5555555555555556,\"#d8576b\"],[0.6666666666666666,\"#ed7953\"],[0.7777777777777778,\"#fb9f3a\"],[0.8888888888888888,\"#fdca26\"],[1.0,\"#f0f921\"]]}],\"choropleth\":[{\"type\":\"choropleth\",\"colorbar\":{\"outlinewidth\":0,\"ticks\":\"\"}}],\"histogram2d\":[{\"type\":\"histogram2d\",\"colorbar\":{\"outlinewidth\":0,\"ticks\":\"\"},\"colorscale\":[[0.0,\"#0d0887\"],[0.1111111111111111,\"#46039f\"],[0.2222222222222222,\"#7201a8\"],[0.3333333333333333,\"#9c179e\"],[0.4444444444444444,\"#bd3786\"],[0.5555555555555556,\"#d8576b\"],[0.6666666666666666,\"#ed7953\"],[0.7777777777777778,\"#fb9f3a\"],[0.8888888888888888,\"#fdca26\"],[1.0,\"#f0f921\"]]}],\"heatmap\":[{\"type\":\"heatmap\",\"colorbar\":{\"outlinewidth\":0,\"ticks\":\"\"},\"colorscale\":[[0.0,\"#0d0887\"],[0.1111111111111111,\"#46039f\"],[0.2222222222222222,\"#7201a8\"],[0.3333333333333333,\"#9c179e\"],[0.4444444444444444,\"#bd3786\"],[0.5555555555555556,\"#d8576b\"],[0.6666666666666666,\"#ed7953\"],[0.7777777777777778,\"#fb9f3a\"],[0.8888888888888888,\"#fdca26\"],[1.0,\"#f0f921\"]]}],\"heatmapgl\":[{\"type\":\"heatmapgl\",\"colorbar\":{\"outlinewidth\":0,\"ticks\":\"\"},\"colorscale\":[[0.0,\"#0d0887\"],[0.1111111111111111,\"#46039f\"],[0.2222222222222222,\"#7201a8\"],[0.3333333333333333,\"#9c179e\"],[0.4444444444444444,\"#bd3786\"],[0.5555555555555556,\"#d8576b\"],[0.6666666666666666,\"#ed7953\"],[0.7777777777777778,\"#fb9f3a\"],[0.8888888888888888,\"#fdca26\"],[1.0,\"#f0f921\"]]}],\"contourcarpet\":[{\"type\":\"contourcarpet\",\"colorbar\":{\"outlinewidth\":0,\"ticks\":\"\"}}],\"contour\":[{\"type\":\"contour\",\"colorbar\":{\"outlinewidth\":0,\"ticks\":\"\"},\"colorscale\":[[0.0,\"#0d0887\"],[0.1111111111111111,\"#46039f\"],[0.2222222222222222,\"#7201a8\"],[0.3333333333333333,\"#9c179e\"],[0.4444444444444444,\"#bd3786\"],[0.5555555555555556,\"#d8576b\"],[0.6666666666666666,\"#ed7953\"],[0.7777777777777778,\"#fb9f3a\"],[0.8888888888888888,\"#fdca26\"],[1.0,\"#f0f921\"]]}],\"surface\":[{\"type\":\"surface\",\"colorbar\":{\"outlinewidth\":0,\"ticks\":\"\"},\"colorscale\":[[0.0,\"#0d0887\"],[0.1111111111111111,\"#46039f\"],[0.2222222222222222,\"#7201a8\"],[0.3333333333333333,\"#9c179e\"],[0.4444444444444444,\"#bd3786\"],[0.5555555555555556,\"#d8576b\"],[0.6666666666666666,\"#ed7953\"],[0.7777777777777778,\"#fb9f3a\"],[0.8888888888888888,\"#fdca26\"],[1.0,\"#f0f921\"]]}],\"mesh3d\":[{\"type\":\"mesh3d\",\"colorbar\":{\"outlinewidth\":0,\"ticks\":\"\"}}],\"scatter\":[{\"fillpattern\":{\"fillmode\":\"overlay\",\"size\":10,\"solidity\":0.2},\"type\":\"scatter\"}],\"parcoords\":[{\"type\":\"parcoords\",\"line\":{\"colorbar\":{\"outlinewidth\":0,\"ticks\":\"\"}}}],\"scatterpolargl\":[{\"type\":\"scatterpolargl\",\"marker\":{\"colorbar\":{\"outlinewidth\":0,\"ticks\":\"\"}}}],\"bar\":[{\"error_x\":{\"color\":\"#2a3f5f\"},\"error_y\":{\"color\":\"#2a3f5f\"},\"marker\":{\"line\":{\"color\":\"#E5ECF6\",\"width\":0.5},\"pattern\":{\"fillmode\":\"overlay\",\"size\":10,\"solidity\":0.2}},\"type\":\"bar\"}],\"scattergeo\":[{\"type\":\"scattergeo\",\"marker\":{\"colorbar\":{\"outlinewidth\":0,\"ticks\":\"\"}}}],\"scatterpolar\":[{\"type\":\"scatterpolar\",\"marker\":{\"colorbar\":{\"outlinewidth\":0,\"ticks\":\"\"}}}],\"histogram\":[{\"marker\":{\"pattern\":{\"fillmode\":\"overlay\",\"size\":10,\"solidity\":0.2}},\"type\":\"histogram\"}],\"scattergl\":[{\"type\":\"scattergl\",\"marker\":{\"colorbar\":{\"outlinewidth\":0,\"ticks\":\"\"}}}],\"scatter3d\":[{\"type\":\"scatter3d\",\"line\":{\"colorbar\":{\"outlinewidth\":0,\"ticks\":\"\"}},\"marker\":{\"colorbar\":{\"outlinewidth\":0,\"ticks\":\"\"}}}],\"scattermapbox\":[{\"type\":\"scattermapbox\",\"marker\":{\"colorbar\":{\"outlinewidth\":0,\"ticks\":\"\"}}}],\"scatterternary\":[{\"type\":\"scatterternary\",\"marker\":{\"colorbar\":{\"outlinewidth\":0,\"ticks\":\"\"}}}],\"scattercarpet\":[{\"type\":\"scattercarpet\",\"marker\":{\"colorbar\":{\"outlinewidth\":0,\"ticks\":\"\"}}}],\"carpet\":[{\"aaxis\":{\"endlinecolor\":\"#2a3f5f\",\"gridcolor\":\"white\",\"linecolor\":\"white\",\"minorgridcolor\":\"white\",\"startlinecolor\":\"#2a3f5f\"},\"baxis\":{\"endlinecolor\":\"#2a3f5f\",\"gridcolor\":\"white\",\"linecolor\":\"white\",\"minorgridcolor\":\"white\",\"startlinecolor\":\"#2a3f5f\"},\"type\":\"carpet\"}],\"table\":[{\"cells\":{\"fill\":{\"color\":\"#EBF0F8\"},\"line\":{\"color\":\"white\"}},\"header\":{\"fill\":{\"color\":\"#C8D4E3\"},\"line\":{\"color\":\"white\"}},\"type\":\"table\"}],\"barpolar\":[{\"marker\":{\"line\":{\"color\":\"#E5ECF6\",\"width\":0.5},\"pattern\":{\"fillmode\":\"overlay\",\"size\":10,\"solidity\":0.2}},\"type\":\"barpolar\"}],\"pie\":[{\"automargin\":true,\"type\":\"pie\"}]},\"layout\":{\"autotypenumbers\":\"strict\",\"colorway\":[\"#636efa\",\"#EF553B\",\"#00cc96\",\"#ab63fa\",\"#FFA15A\",\"#19d3f3\",\"#FF6692\",\"#B6E880\",\"#FF97FF\",\"#FECB52\"],\"font\":{\"color\":\"#2a3f5f\"},\"hovermode\":\"closest\",\"hoverlabel\":{\"align\":\"left\"},\"paper_bgcolor\":\"white\",\"plot_bgcolor\":\"#E5ECF6\",\"polar\":{\"bgcolor\":\"#E5ECF6\",\"angularaxis\":{\"gridcolor\":\"white\",\"linecolor\":\"white\",\"ticks\":\"\"},\"radialaxis\":{\"gridcolor\":\"white\",\"linecolor\":\"white\",\"ticks\":\"\"}},\"ternary\":{\"bgcolor\":\"#E5ECF6\",\"aaxis\":{\"gridcolor\":\"white\",\"linecolor\":\"white\",\"ticks\":\"\"},\"baxis\":{\"gridcolor\":\"white\",\"linecolor\":\"white\",\"ticks\":\"\"},\"caxis\":{\"gridcolor\":\"white\",\"linecolor\":\"white\",\"ticks\":\"\"}},\"coloraxis\":{\"colorbar\":{\"outlinewidth\":0,\"ticks\":\"\"}},\"colorscale\":{\"sequential\":[[0.0,\"#0d0887\"],[0.1111111111111111,\"#46039f\"],[0.2222222222222222,\"#7201a8\"],[0.3333333333333333,\"#9c179e\"],[0.4444444444444444,\"#bd3786\"],[0.5555555555555556,\"#d8576b\"],[0.6666666666666666,\"#ed7953\"],[0.7777777777777778,\"#fb9f3a\"],[0.8888888888888888,\"#fdca26\"],[1.0,\"#f0f921\"]],\"sequentialminus\":[[0.0,\"#0d0887\"],[0.1111111111111111,\"#46039f\"],[0.2222222222222222,\"#7201a8\"],[0.3333333333333333,\"#9c179e\"],[0.4444444444444444,\"#bd3786\"],[0.5555555555555556,\"#d8576b\"],[0.6666666666666666,\"#ed7953\"],[0.7777777777777778,\"#fb9f3a\"],[0.8888888888888888,\"#fdca26\"],[1.0,\"#f0f921\"]],\"diverging\":[[0,\"#8e0152\"],[0.1,\"#c51b7d\"],[0.2,\"#de77ae\"],[0.3,\"#f1b6da\"],[0.4,\"#fde0ef\"],[0.5,\"#f7f7f7\"],[0.6,\"#e6f5d0\"],[0.7,\"#b8e186\"],[0.8,\"#7fbc41\"],[0.9,\"#4d9221\"],[1,\"#276419\"]]},\"xaxis\":{\"gridcolor\":\"white\",\"linecolor\":\"white\",\"ticks\":\"\",\"title\":{\"standoff\":15},\"zerolinecolor\":\"white\",\"automargin\":true,\"zerolinewidth\":2},\"yaxis\":{\"gridcolor\":\"white\",\"linecolor\":\"white\",\"ticks\":\"\",\"title\":{\"standoff\":15},\"zerolinecolor\":\"white\",\"automargin\":true,\"zerolinewidth\":2},\"scene\":{\"xaxis\":{\"backgroundcolor\":\"#E5ECF6\",\"gridcolor\":\"white\",\"linecolor\":\"white\",\"showbackground\":true,\"ticks\":\"\",\"zerolinecolor\":\"white\",\"gridwidth\":2},\"yaxis\":{\"backgroundcolor\":\"#E5ECF6\",\"gridcolor\":\"white\",\"linecolor\":\"white\",\"showbackground\":true,\"ticks\":\"\",\"zerolinecolor\":\"white\",\"gridwidth\":2},\"zaxis\":{\"backgroundcolor\":\"#E5ECF6\",\"gridcolor\":\"white\",\"linecolor\":\"white\",\"showbackground\":true,\"ticks\":\"\",\"zerolinecolor\":\"white\",\"gridwidth\":2}},\"shapedefaults\":{\"line\":{\"color\":\"#2a3f5f\"}},\"annotationdefaults\":{\"arrowcolor\":\"#2a3f5f\",\"arrowhead\":0,\"arrowwidth\":1},\"geo\":{\"bgcolor\":\"white\",\"landcolor\":\"#E5ECF6\",\"subunitcolor\":\"white\",\"showland\":true,\"showlakes\":true,\"lakecolor\":\"white\"},\"title\":{\"x\":0.05},\"mapbox\":{\"style\":\"light\"}}},\"xaxis\":{\"anchor\":\"y\",\"domain\":[0.0,1.0],\"title\":{\"text\":\"Dim 1 (37.5%)\"},\"color\":\"black\"},\"yaxis\":{\"anchor\":\"x\",\"domain\":[0.0,1.0],\"title\":{\"text\":\"Dim 2 (12.0%)\",\"standoff\":2},\"color\":\"black\"},\"coloraxis\":{\"colorbar\":{\"title\":{\"text\":\"Threshold\"},\"yanchor\":\"top\",\"y\":0.4,\"x\":1.01,\"ticks\":\"outside\",\"len\":0.7},\"colorscale\":[[0.0,\"#fde725\"],[0.1111111111111111,\"#b5de2b\"],[0.2222222222222222,\"#6ece58\"],[0.3333333333333333,\"#35b779\"],[0.4444444444444444,\"#1f9e89\"],[0.5555555555555556,\"#26828e\"],[0.6666666666666666,\"#31688e\"],[0.7777777777777778,\"#3e4989\"],[0.8888888888888888,\"#482878\"],[1.0,\"#440154\"]]},\"legend\":{\"title\":{\"text\":\"Condition\"},\"tracegroupgap\":0},\"margin\":{\"t\":20,\"l\":20,\"r\":20,\"b\":20},\"font\":{\"size\":10,\"family\":\"Arial\"},\"width\":384,\"height\":240.0,\"annotations\":[{\"arrowcolor\":\"red\",\"arrowhead\":2,\"arrowsize\":1,\"ax\":-30,\"ay\":-30,\"font\":{\"color\":\"black\",\"size\":10},\"showarrow\":true,\"text\":\"0.6, Control\",\"x\":0.13172910987180975,\"y\":-0.17923682241145467},{\"arrowcolor\":\"red\",\"arrowhead\":2,\"arrowsize\":1,\"ax\":0,\"ay\":20,\"font\":{\"color\":\"black\",\"size\":10},\"showarrow\":true,\"text\":\"0.6, H2O2\",\"x\":0.18927050869994946,\"y\":-0.17104438351243745},{\"arrowcolor\":\"red\",\"arrowhead\":2,\"arrowsize\":1,\"ax\":20,\"ay\":-20,\"font\":{\"color\":\"black\",\"size\":10},\"showarrow\":true,\"text\":\"0.6, NaCl\",\"x\":0.25168980357887344,\"y\":-0.08545601237910837},{\"arrowcolor\":\"red\",\"arrowhead\":2,\"arrowsize\":1,\"ax\":-40,\"ay\":20,\"font\":{\"color\":\"black\",\"size\":10},\"showarrow\":true,\"text\":\"0.6, Sorbitol\",\"x\":0.3846489966042373,\"y\":0.4976056003055321},{\"arrowcolor\":\"red\",\"arrowhead\":2,\"arrowsize\":1,\"ax\":40,\"ay\":-10,\"font\":{\"color\":\"black\",\"size\":10},\"showarrow\":true,\"text\":\"0.9, Control\",\"x\":0.42839367909463794,\"y\":-0.27808094086073704},{\"arrowcolor\":\"red\",\"arrowhead\":2,\"arrowsize\":1,\"ax\":0,\"ay\":20,\"font\":{\"color\":\"black\",\"size\":10},\"showarrow\":true,\"text\":\"0.9, H2O2\",\"x\":0.43200407718694384,\"y\":-0.2897202172481818},{\"arrowcolor\":\"red\",\"arrowhead\":2,\"arrowsize\":1,\"ax\":20,\"ay\":-20,\"font\":{\"color\":\"black\",\"size\":10},\"showarrow\":true,\"text\":\"0.9, NaCl\",\"x\":0.4436327373575083,\"y\":-0.18898531440330804},{\"arrowcolor\":\"red\",\"arrowhead\":2,\"arrowsize\":1,\"ax\":0,\"ay\":20,\"font\":{\"color\":\"black\",\"size\":10},\"showarrow\":true,\"text\":\"0.9, Sorbitol\",\"x\":0.6309822868775296,\"y\":0.4945784784448566}]},                        {\"responsive\": true}                    ).then(function(){\n",
       "                            \n",
       "var gd = document.getElementById('00d6a095-57e2-4e5f-a33a-959ec6803246');\n",
       "var x = new MutationObserver(function (mutations, observer) {{\n",
       "        var display = window.getComputedStyle(gd).display;\n",
       "        if (!display || display === 'none') {{\n",
       "            console.log([gd, 'removed!']);\n",
       "            Plotly.purge(gd);\n",
       "            observer.disconnect();\n",
       "        }}\n",
       "}});\n",
       "\n",
       "// Listen for the removal of the full notebook cells\n",
       "var notebookContainer = gd.closest('#notebook-container');\n",
       "if (notebookContainer) {{\n",
       "    x.observe(notebookContainer, {childList: true});\n",
       "}}\n",
       "\n",
       "// Listen for the clearing of the current output cell\n",
       "var outputEl = gd.closest('.output');\n",
       "if (outputEl) {{\n",
       "    x.observe(outputEl, {childList: true});\n",
       "}}\n",
       "\n",
       "                        })                };                });            </script>        </div>"
      ]
     },
     "metadata": {},
     "output_type": "display_data"
    }
   ],
   "source": [
    "indexes = fastcore.index.tolist()\n",
    "index_of_interest = [indexes.index(e) for e in indexes if e.endswith(\"0.9\") or e.endswith(\"0.6\")]\n",
    "\n",
    "mca = MCA(n_components=4, random_state=42)\n",
    "components = mca.fit_transform(fastcore).to_numpy()\n",
    "\n",
    "def plot(components, y, xaxis_title, yaxis_title, filename, legend_title=\"\", additional_shapes=None, annotations=None, color=None,\n",
    "         width=600, height=360, **kwargs):\n",
    "    if not additional_shapes:\n",
    "        additional_shapes = []\n",
    "    if not annotations:\n",
    "        annotations = []\n",
    "    if not color:\n",
    "        color = y\n",
    "    fig = px.scatter(x=components[:, 0], y=components[:, 1], color=color, **kwargs)\n",
    "    fig.update_layout(\n",
    "        xaxis_title=xaxis_title,\n",
    "        yaxis_title=yaxis_title,\n",
    "        margin=dict(l=20, r=20, t=20, b=20), \n",
    "        font=dict(size=10, family=\"Arial\"),\n",
    "        xaxis=dict(color=\"black\"),  # Set x-axis color to black\n",
    "        yaxis=dict(color=\"black\", title_standoff=2),\n",
    "        # xaxis_range = [-0.1, 0.75]\n",
    "    )\n",
    "    fig.update_layout(legend_title_text=legend_title, width=width, height=height)\n",
    "    fig.update_layout(coloraxis_colorbar=dict(title='Threshold', yanchor=\"top\", y=0.4, x=1.01, ticks=\"outside\", len=0.7))\n",
    "    for shape in additional_shapes:\n",
    "        fig.add_shape(\n",
    "            shape\n",
    "        )\n",
    "    for ann in annotations:\n",
    "        fig.add_annotation(\n",
    "            ann\n",
    "        )\n",
    "    fig.show()\n",
    "    fig.write_image(f\"{filename}.pdf\", format=\"pdf\", scale=1)\n",
    "\n",
    "symbol_list = [e.split(\"_\")[0].replace(\"nacl\", \"NaCl\").replace(\"h2o2\", \"H2O2\").replace(\"control\", \"Control\").replace(\"sorb\", \"Sorbitol\") for e in fastcore.index.tolist()]\n",
    "\n",
    "symbols = ['square', 'circle', 'x', 'triangle-up']\n",
    "\n",
    "\n",
    "annotations=[]\n",
    "for ind in index_of_interest:\n",
    "    if indexes[ind].split('_')[0].endswith(\"sorb\") and indexes[ind].split('_')[-1] == \"0.6\":\n",
    "        x = -40 \n",
    "        y = 20\n",
    "    elif indexes[ind].split('_')[0].endswith(\"sorb\") and indexes[ind].split('_')[-1] == \"0.9\":\n",
    "        x = 0\n",
    "        y = 20\n",
    "    elif indexes[ind].split('_')[0].endswith(\"o2\"): \n",
    "        x = 0 \n",
    "        y = 20\n",
    "    elif indexes[ind].split('_')[0].endswith(\"cl\"): \n",
    "        x = 20 \n",
    "        y = -20\n",
    "    elif indexes[ind].split('_')[0] == \"control\" and indexes[ind].split('_')[-1] == \"0.9\": \n",
    "        x = 40 \n",
    "        y = -10\n",
    "    elif indexes[ind].split('_')[0] == \"control\" and indexes[ind].split('_')[-1] == \"0.6\": \n",
    "        x = -30 \n",
    "        y = -30\n",
    "    else:\n",
    "        x = -20 \n",
    "        y = -20\n",
    "    annotations.append(dict(\n",
    "        x=components[ind, 0],  # Replace `specific_index` with the index of the point\n",
    "        y=components[ind, 1],  # Replace `specific_index` with the index of the point\n",
    "        text=f\"{indexes[ind].split('_')[-1]}, {indexes[ind].split('_')[0].replace('nacl', 'NaCl').replace('h2o2', 'H2O2').replace('control', 'Control').replace('sorb', 'Sorbitol')}\",     # The text you want to display\n",
    "        showarrow=True,                  # Add an arrow pointing to the point\n",
    "        arrowhead=2,                     # Arrowhead style\n",
    "        arrowsize=1,                     # Size of the arrow\n",
    "        arrowcolor=\"red\",                # Color of the arrow\n",
    "        ax=x,                           # Offset for the arrow tail in x-direction\n",
    "        ay=y,                          # Offset for the arrow tail in y-direction\n",
    "        font=dict(size=10, color=\"black\")\n",
    "    ))\n",
    "\n",
    "\n",
    "plot(components, list(float(e.split(\"_\")[-1]) for e in fastcore.index.tolist()),\n",
    "    f\"Dim 1 ({round(mca.percentage_of_variance_[0],1)}%)\",\n",
    "    f\"Dim 2 ({round(mca.percentage_of_variance_[1],1)}%)\",\n",
    "    os.path.join(RESULTS_PATH,\"ds_stress_mca_fastcore_full\"),\n",
    "    \"Condition\",\n",
    "    annotations=annotations,\n",
    "    symbol = symbol_list, symbol_sequence=symbols,\n",
    "    color_continuous_scale=px.colors.sequential.Viridis_r,\n",
    "    width=4*96,\n",
    "    height=2.5*96\n",
    "# width=1000\n",
    ")"
   ]
  },
  {
   "cell_type": "code",
   "execution_count": 38,
   "id": "27e22044-0417-433c-a001-f1f743565b8f",
   "metadata": {},
   "outputs": [
    {
     "data": {
      "application/vnd.plotly.v1+json": {
       "config": {
        "plotlyServerURL": "https://plot.ly"
       },
       "data": [
        {
         "hovertemplate": "symbol=Control<br>x=%{x}<br>y=%{y}<br>color=%{marker.color}<extra></extra>",
         "legendgroup": "Control",
         "marker": {
          "color": [
           0.05,
           0.1,
           0.15,
           0.2,
           0.25,
           0.3,
           0.35,
           0.4,
           0.45,
           0.5,
           0.55,
           0.6,
           0.65,
           0.7,
           0.75,
           0.8,
           0.85,
           0.9,
           0.95
          ],
          "coloraxis": "coloraxis",
          "symbol": "square"
         },
         "mode": "markers",
         "name": "Control",
         "orientation": "v",
         "showlegend": true,
         "type": "scatter",
         "x": [
          0.7135695530088213,
          0.7135695530088213,
          0.7063217587771309,
          0.6896857848243388,
          0.6641060903715761,
          0.6091626560184491,
          0.5537118840041908,
          0.3520328117611067,
          -0.21148447095720957,
          -0.23535049438171798,
          -0.26696664642712126,
          -0.3195648663132678,
          -0.3714893470261065,
          -0.4471664477310855,
          -0.4650148163384247,
          -0.4760855147223883,
          -0.5091234907457634,
          -0.5084603439106601,
          -0.5120802371915568
         ],
         "xaxis": "x",
         "y": [
          -0.15748503404496364,
          -0.15748503404496364,
          -0.1462903384262437,
          -0.09131970770198157,
          -0.055036716583793284,
          0.011323542828325166,
          0.06302326307504703,
          0.22026466805784917,
          0.2453309974718256,
          0.23552766930048885,
          0.21764734116160275,
          0.1574905807917832,
          0.07490684273806719,
          -0.054514082877906926,
          -0.09764657591888354,
          -0.12767777543508116,
          -0.2728796472759802,
          -0.30440561589565696,
          -0.3462947358742443
         ],
         "yaxis": "y"
        },
        {
         "hovertemplate": "symbol=H2O2<br>x=%{x}<br>y=%{y}<br>color=%{marker.color}<extra></extra>",
         "legendgroup": "H2O2",
         "marker": {
          "color": [
           0.05,
           0.1,
           0.15,
           0.2,
           0.25,
           0.3,
           0.35,
           0.4,
           0.45,
           0.5,
           0.55,
           0.6,
           0.65,
           0.7,
           0.75,
           0.8,
           0.85,
           0.9,
           0.95
          ],
          "coloraxis": "coloraxis",
          "symbol": "circle"
         },
         "mode": "markers",
         "name": "H2O2",
         "orientation": "v",
         "showlegend": true,
         "type": "scatter",
         "x": [
          0.7095126052292227,
          0.7095126052292227,
          0.6683389768054259,
          0.640807743161247,
          0.595186629068141,
          0.5522110458798171,
          0.5055273783417461,
          0.36044910888098775,
          -0.24897625029039094,
          -0.2756706265039998,
          -0.3336596385609169,
          -0.36661955529571,
          -0.43930899652883715,
          -0.46167013210125435,
          -0.4807530321046334,
          -0.48396081790706114,
          -0.5223312474699164,
          -0.5254298187469028,
          -0.5384142623327873
         ],
         "xaxis": "x",
         "y": [
          -0.16711748215052144,
          -0.16711748215052144,
          -0.11257109644230612,
          -0.037563957293384756,
          0.04442768703598275,
          0.07334294271112435,
          0.1061589366301513,
          0.18196131308717486,
          0.3091117119161173,
          0.2836400793532374,
          0.2291157456679408,
          0.17521883915802955,
          0.028069019145009245,
          -0.021698005836795473,
          -0.07315759763115319,
          -0.13844244493394733,
          -0.29781751051268623,
          -0.3289616039090682,
          -0.3645019234681864
         ],
         "yaxis": "y"
        },
        {
         "hovertemplate": "symbol=NaCl<br>x=%{x}<br>y=%{y}<br>color=%{marker.color}<extra></extra>",
         "legendgroup": "NaCl",
         "marker": {
          "color": [
           0.05,
           0.1,
           0.15,
           0.2,
           0.25,
           0.3,
           0.35,
           0.4,
           0.45,
           0.5,
           0.55,
           0.6,
           0.65,
           0.7,
           0.75,
           0.8,
           0.85,
           0.9,
           0.95
          ],
          "coloraxis": "coloraxis",
          "symbol": "x"
         },
         "mode": "markers",
         "name": "NaCl",
         "orientation": "v",
         "showlegend": true,
         "type": "scatter",
         "x": [
          0.7192809705246166,
          0.7192809705246166,
          0.6970461602996161,
          0.6690530320493275,
          0.6429926405517118,
          0.5870889535441168,
          0.33265717623632735,
          0.3166239726661862,
          -0.232234212082002,
          -0.28919576112332734,
          -0.3368263434071695,
          -0.40057641711276737,
          -0.44103988430022956,
          -0.470495355017287,
          -0.48179662257350997,
          -0.49317794302835305,
          -0.5264075076978422,
          -0.5357927103378123,
          -0.5407884030033927
         ],
         "xaxis": "x",
         "y": [
          -0.1429983772558967,
          -0.1429983772558967,
          -0.11509499473876068,
          -0.07828643634084487,
          -0.04215672189405152,
          0.006763627002144307,
          0.22908291651970686,
          0.23957246975770402,
          0.24132723835999206,
          0.2251771443496137,
          0.1637792975384788,
          0.06601795904223727,
          -0.012102263467112021,
          -0.08101301795929447,
          -0.12345468544282873,
          -0.1596970929953148,
          -0.26537840640275623,
          -0.31200042707909337,
          -0.36885279025397616
         ],
         "yaxis": "y"
        },
        {
         "hovertemplate": "symbol=Sorbitol<br>x=%{x}<br>y=%{y}<br>color=%{marker.color}<extra></extra>",
         "legendgroup": "Sorbitol",
         "marker": {
          "color": [
           0.05,
           0.1,
           0.15,
           0.2,
           0.25,
           0.3,
           0.35,
           0.4,
           0.45,
           0.5,
           0.55,
           0.6,
           0.65,
           0.7,
           0.75,
           0.8,
           0.85,
           0.9,
           0.95
          ],
          "coloraxis": "coloraxis",
          "symbol": "triangle-up"
         },
         "mode": "markers",
         "name": "Sorbitol",
         "orientation": "v",
         "showlegend": true,
         "type": "scatter",
         "x": [
          0.7119461627752064,
          0.7119461627752064,
          0.6672747223114608,
          0.622225750762245,
          0.5705663892352344,
          0.5445365593188893,
          0.41982089226716657,
          0.2691717433237502,
          -0.27168361122845586,
          -0.31511627665034814,
          -0.3676470943954198,
          -0.4234562480680135,
          -0.49372331944597986,
          -0.5171245118103,
          -0.536623689565294,
          -0.5449638233685403,
          -0.56747592800091,
          -0.5754281178580091,
          -0.5840636098732626
         ],
         "xaxis": "x",
         "y": [
          -0.15151013494733837,
          -0.15151013494733837,
          -0.10874391992177111,
          -0.013757350915329519,
          0.05910011916317709,
          0.07512851684484695,
          0.1729262222880907,
          0.27769875629130775,
          0.4089943499771892,
          0.38714633111199664,
          0.3577620459402158,
          0.280313827102531,
          0.15066369211235914,
          0.09325759431953855,
          0.045789077532503004,
          0.017831500954325813,
          -0.07639507849556294,
          -0.12053561304781318,
          -0.1684236745684661
         ],
         "yaxis": "y"
        }
       ],
       "layout": {
        "annotations": [
         {
          "arrowcolor": "red",
          "arrowhead": 2,
          "arrowsize": 1,
          "ax": 40,
          "ay": 0,
          "font": {
           "color": "black",
           "size": 10
          },
          "showarrow": true,
          "text": "0.4, Control",
          "x": 0.3520328117611067,
          "y": 0.22026466805784917
         },
         {
          "arrowcolor": "red",
          "arrowhead": 2,
          "arrowsize": 1,
          "ax": -20,
          "ay": 20,
          "font": {
           "color": "black",
           "size": 10
          },
          "showarrow": true,
          "text": "0.4, H2O2",
          "x": 0.36044910888098775,
          "y": 0.18196131308717486
         },
         {
          "arrowcolor": "red",
          "arrowhead": 2,
          "arrowsize": 1,
          "ax": 25,
          "ay": -20,
          "font": {
           "color": "black",
           "size": 10
          },
          "showarrow": true,
          "text": "0.4, NaCl",
          "x": 0.3166239726661862,
          "y": 0.23957246975770402
         },
         {
          "arrowcolor": "red",
          "arrowhead": 2,
          "arrowsize": 1,
          "ax": -15,
          "ay": -45,
          "font": {
           "color": "black",
           "size": 10
          },
          "showarrow": true,
          "text": "0.4, Sorbitol",
          "x": 0.2691717433237502,
          "y": 0.27769875629130775
         }
        ],
        "coloraxis": {
         "colorbar": {
          "len": 0.7,
          "ticks": "outside",
          "title": {
           "text": "Threshold"
          },
          "x": 1.01,
          "y": 0.4,
          "yanchor": "top"
         },
         "colorscale": [
          [
           0,
           "#fde725"
          ],
          [
           0.1111111111111111,
           "#b5de2b"
          ],
          [
           0.2222222222222222,
           "#6ece58"
          ],
          [
           0.3333333333333333,
           "#35b779"
          ],
          [
           0.4444444444444444,
           "#1f9e89"
          ],
          [
           0.5555555555555556,
           "#26828e"
          ],
          [
           0.6666666666666666,
           "#31688e"
          ],
          [
           0.7777777777777778,
           "#3e4989"
          ],
          [
           0.8888888888888888,
           "#482878"
          ],
          [
           1,
           "#440154"
          ]
         ]
        },
        "font": {
         "family": "Arial",
         "size": 10
        },
        "height": 240,
        "legend": {
         "title": {
          "text": "Condition"
         },
         "tracegroupgap": 0
        },
        "margin": {
         "b": 20,
         "l": 20,
         "r": 20,
         "t": 20
        },
        "template": {
         "data": {
          "bar": [
           {
            "error_x": {
             "color": "#2a3f5f"
            },
            "error_y": {
             "color": "#2a3f5f"
            },
            "marker": {
             "line": {
              "color": "#E5ECF6",
              "width": 0.5
             },
             "pattern": {
              "fillmode": "overlay",
              "size": 10,
              "solidity": 0.2
             }
            },
            "type": "bar"
           }
          ],
          "barpolar": [
           {
            "marker": {
             "line": {
              "color": "#E5ECF6",
              "width": 0.5
             },
             "pattern": {
              "fillmode": "overlay",
              "size": 10,
              "solidity": 0.2
             }
            },
            "type": "barpolar"
           }
          ],
          "carpet": [
           {
            "aaxis": {
             "endlinecolor": "#2a3f5f",
             "gridcolor": "white",
             "linecolor": "white",
             "minorgridcolor": "white",
             "startlinecolor": "#2a3f5f"
            },
            "baxis": {
             "endlinecolor": "#2a3f5f",
             "gridcolor": "white",
             "linecolor": "white",
             "minorgridcolor": "white",
             "startlinecolor": "#2a3f5f"
            },
            "type": "carpet"
           }
          ],
          "choropleth": [
           {
            "colorbar": {
             "outlinewidth": 0,
             "ticks": ""
            },
            "type": "choropleth"
           }
          ],
          "contour": [
           {
            "colorbar": {
             "outlinewidth": 0,
             "ticks": ""
            },
            "colorscale": [
             [
              0,
              "#0d0887"
             ],
             [
              0.1111111111111111,
              "#46039f"
             ],
             [
              0.2222222222222222,
              "#7201a8"
             ],
             [
              0.3333333333333333,
              "#9c179e"
             ],
             [
              0.4444444444444444,
              "#bd3786"
             ],
             [
              0.5555555555555556,
              "#d8576b"
             ],
             [
              0.6666666666666666,
              "#ed7953"
             ],
             [
              0.7777777777777778,
              "#fb9f3a"
             ],
             [
              0.8888888888888888,
              "#fdca26"
             ],
             [
              1,
              "#f0f921"
             ]
            ],
            "type": "contour"
           }
          ],
          "contourcarpet": [
           {
            "colorbar": {
             "outlinewidth": 0,
             "ticks": ""
            },
            "type": "contourcarpet"
           }
          ],
          "heatmap": [
           {
            "colorbar": {
             "outlinewidth": 0,
             "ticks": ""
            },
            "colorscale": [
             [
              0,
              "#0d0887"
             ],
             [
              0.1111111111111111,
              "#46039f"
             ],
             [
              0.2222222222222222,
              "#7201a8"
             ],
             [
              0.3333333333333333,
              "#9c179e"
             ],
             [
              0.4444444444444444,
              "#bd3786"
             ],
             [
              0.5555555555555556,
              "#d8576b"
             ],
             [
              0.6666666666666666,
              "#ed7953"
             ],
             [
              0.7777777777777778,
              "#fb9f3a"
             ],
             [
              0.8888888888888888,
              "#fdca26"
             ],
             [
              1,
              "#f0f921"
             ]
            ],
            "type": "heatmap"
           }
          ],
          "heatmapgl": [
           {
            "colorbar": {
             "outlinewidth": 0,
             "ticks": ""
            },
            "colorscale": [
             [
              0,
              "#0d0887"
             ],
             [
              0.1111111111111111,
              "#46039f"
             ],
             [
              0.2222222222222222,
              "#7201a8"
             ],
             [
              0.3333333333333333,
              "#9c179e"
             ],
             [
              0.4444444444444444,
              "#bd3786"
             ],
             [
              0.5555555555555556,
              "#d8576b"
             ],
             [
              0.6666666666666666,
              "#ed7953"
             ],
             [
              0.7777777777777778,
              "#fb9f3a"
             ],
             [
              0.8888888888888888,
              "#fdca26"
             ],
             [
              1,
              "#f0f921"
             ]
            ],
            "type": "heatmapgl"
           }
          ],
          "histogram": [
           {
            "marker": {
             "pattern": {
              "fillmode": "overlay",
              "size": 10,
              "solidity": 0.2
             }
            },
            "type": "histogram"
           }
          ],
          "histogram2d": [
           {
            "colorbar": {
             "outlinewidth": 0,
             "ticks": ""
            },
            "colorscale": [
             [
              0,
              "#0d0887"
             ],
             [
              0.1111111111111111,
              "#46039f"
             ],
             [
              0.2222222222222222,
              "#7201a8"
             ],
             [
              0.3333333333333333,
              "#9c179e"
             ],
             [
              0.4444444444444444,
              "#bd3786"
             ],
             [
              0.5555555555555556,
              "#d8576b"
             ],
             [
              0.6666666666666666,
              "#ed7953"
             ],
             [
              0.7777777777777778,
              "#fb9f3a"
             ],
             [
              0.8888888888888888,
              "#fdca26"
             ],
             [
              1,
              "#f0f921"
             ]
            ],
            "type": "histogram2d"
           }
          ],
          "histogram2dcontour": [
           {
            "colorbar": {
             "outlinewidth": 0,
             "ticks": ""
            },
            "colorscale": [
             [
              0,
              "#0d0887"
             ],
             [
              0.1111111111111111,
              "#46039f"
             ],
             [
              0.2222222222222222,
              "#7201a8"
             ],
             [
              0.3333333333333333,
              "#9c179e"
             ],
             [
              0.4444444444444444,
              "#bd3786"
             ],
             [
              0.5555555555555556,
              "#d8576b"
             ],
             [
              0.6666666666666666,
              "#ed7953"
             ],
             [
              0.7777777777777778,
              "#fb9f3a"
             ],
             [
              0.8888888888888888,
              "#fdca26"
             ],
             [
              1,
              "#f0f921"
             ]
            ],
            "type": "histogram2dcontour"
           }
          ],
          "mesh3d": [
           {
            "colorbar": {
             "outlinewidth": 0,
             "ticks": ""
            },
            "type": "mesh3d"
           }
          ],
          "parcoords": [
           {
            "line": {
             "colorbar": {
              "outlinewidth": 0,
              "ticks": ""
             }
            },
            "type": "parcoords"
           }
          ],
          "pie": [
           {
            "automargin": true,
            "type": "pie"
           }
          ],
          "scatter": [
           {
            "fillpattern": {
             "fillmode": "overlay",
             "size": 10,
             "solidity": 0.2
            },
            "type": "scatter"
           }
          ],
          "scatter3d": [
           {
            "line": {
             "colorbar": {
              "outlinewidth": 0,
              "ticks": ""
             }
            },
            "marker": {
             "colorbar": {
              "outlinewidth": 0,
              "ticks": ""
             }
            },
            "type": "scatter3d"
           }
          ],
          "scattercarpet": [
           {
            "marker": {
             "colorbar": {
              "outlinewidth": 0,
              "ticks": ""
             }
            },
            "type": "scattercarpet"
           }
          ],
          "scattergeo": [
           {
            "marker": {
             "colorbar": {
              "outlinewidth": 0,
              "ticks": ""
             }
            },
            "type": "scattergeo"
           }
          ],
          "scattergl": [
           {
            "marker": {
             "colorbar": {
              "outlinewidth": 0,
              "ticks": ""
             }
            },
            "type": "scattergl"
           }
          ],
          "scattermapbox": [
           {
            "marker": {
             "colorbar": {
              "outlinewidth": 0,
              "ticks": ""
             }
            },
            "type": "scattermapbox"
           }
          ],
          "scatterpolar": [
           {
            "marker": {
             "colorbar": {
              "outlinewidth": 0,
              "ticks": ""
             }
            },
            "type": "scatterpolar"
           }
          ],
          "scatterpolargl": [
           {
            "marker": {
             "colorbar": {
              "outlinewidth": 0,
              "ticks": ""
             }
            },
            "type": "scatterpolargl"
           }
          ],
          "scatterternary": [
           {
            "marker": {
             "colorbar": {
              "outlinewidth": 0,
              "ticks": ""
             }
            },
            "type": "scatterternary"
           }
          ],
          "surface": [
           {
            "colorbar": {
             "outlinewidth": 0,
             "ticks": ""
            },
            "colorscale": [
             [
              0,
              "#0d0887"
             ],
             [
              0.1111111111111111,
              "#46039f"
             ],
             [
              0.2222222222222222,
              "#7201a8"
             ],
             [
              0.3333333333333333,
              "#9c179e"
             ],
             [
              0.4444444444444444,
              "#bd3786"
             ],
             [
              0.5555555555555556,
              "#d8576b"
             ],
             [
              0.6666666666666666,
              "#ed7953"
             ],
             [
              0.7777777777777778,
              "#fb9f3a"
             ],
             [
              0.8888888888888888,
              "#fdca26"
             ],
             [
              1,
              "#f0f921"
             ]
            ],
            "type": "surface"
           }
          ],
          "table": [
           {
            "cells": {
             "fill": {
              "color": "#EBF0F8"
             },
             "line": {
              "color": "white"
             }
            },
            "header": {
             "fill": {
              "color": "#C8D4E3"
             },
             "line": {
              "color": "white"
             }
            },
            "type": "table"
           }
          ]
         },
         "layout": {
          "annotationdefaults": {
           "arrowcolor": "#2a3f5f",
           "arrowhead": 0,
           "arrowwidth": 1
          },
          "autotypenumbers": "strict",
          "coloraxis": {
           "colorbar": {
            "outlinewidth": 0,
            "ticks": ""
           }
          },
          "colorscale": {
           "diverging": [
            [
             0,
             "#8e0152"
            ],
            [
             0.1,
             "#c51b7d"
            ],
            [
             0.2,
             "#de77ae"
            ],
            [
             0.3,
             "#f1b6da"
            ],
            [
             0.4,
             "#fde0ef"
            ],
            [
             0.5,
             "#f7f7f7"
            ],
            [
             0.6,
             "#e6f5d0"
            ],
            [
             0.7,
             "#b8e186"
            ],
            [
             0.8,
             "#7fbc41"
            ],
            [
             0.9,
             "#4d9221"
            ],
            [
             1,
             "#276419"
            ]
           ],
           "sequential": [
            [
             0,
             "#0d0887"
            ],
            [
             0.1111111111111111,
             "#46039f"
            ],
            [
             0.2222222222222222,
             "#7201a8"
            ],
            [
             0.3333333333333333,
             "#9c179e"
            ],
            [
             0.4444444444444444,
             "#bd3786"
            ],
            [
             0.5555555555555556,
             "#d8576b"
            ],
            [
             0.6666666666666666,
             "#ed7953"
            ],
            [
             0.7777777777777778,
             "#fb9f3a"
            ],
            [
             0.8888888888888888,
             "#fdca26"
            ],
            [
             1,
             "#f0f921"
            ]
           ],
           "sequentialminus": [
            [
             0,
             "#0d0887"
            ],
            [
             0.1111111111111111,
             "#46039f"
            ],
            [
             0.2222222222222222,
             "#7201a8"
            ],
            [
             0.3333333333333333,
             "#9c179e"
            ],
            [
             0.4444444444444444,
             "#bd3786"
            ],
            [
             0.5555555555555556,
             "#d8576b"
            ],
            [
             0.6666666666666666,
             "#ed7953"
            ],
            [
             0.7777777777777778,
             "#fb9f3a"
            ],
            [
             0.8888888888888888,
             "#fdca26"
            ],
            [
             1,
             "#f0f921"
            ]
           ]
          },
          "colorway": [
           "#636efa",
           "#EF553B",
           "#00cc96",
           "#ab63fa",
           "#FFA15A",
           "#19d3f3",
           "#FF6692",
           "#B6E880",
           "#FF97FF",
           "#FECB52"
          ],
          "font": {
           "color": "#2a3f5f"
          },
          "geo": {
           "bgcolor": "white",
           "lakecolor": "white",
           "landcolor": "#E5ECF6",
           "showlakes": true,
           "showland": true,
           "subunitcolor": "white"
          },
          "hoverlabel": {
           "align": "left"
          },
          "hovermode": "closest",
          "mapbox": {
           "style": "light"
          },
          "paper_bgcolor": "white",
          "plot_bgcolor": "#E5ECF6",
          "polar": {
           "angularaxis": {
            "gridcolor": "white",
            "linecolor": "white",
            "ticks": ""
           },
           "bgcolor": "#E5ECF6",
           "radialaxis": {
            "gridcolor": "white",
            "linecolor": "white",
            "ticks": ""
           }
          },
          "scene": {
           "xaxis": {
            "backgroundcolor": "#E5ECF6",
            "gridcolor": "white",
            "gridwidth": 2,
            "linecolor": "white",
            "showbackground": true,
            "ticks": "",
            "zerolinecolor": "white"
           },
           "yaxis": {
            "backgroundcolor": "#E5ECF6",
            "gridcolor": "white",
            "gridwidth": 2,
            "linecolor": "white",
            "showbackground": true,
            "ticks": "",
            "zerolinecolor": "white"
           },
           "zaxis": {
            "backgroundcolor": "#E5ECF6",
            "gridcolor": "white",
            "gridwidth": 2,
            "linecolor": "white",
            "showbackground": true,
            "ticks": "",
            "zerolinecolor": "white"
           }
          },
          "shapedefaults": {
           "line": {
            "color": "#2a3f5f"
           }
          },
          "ternary": {
           "aaxis": {
            "gridcolor": "white",
            "linecolor": "white",
            "ticks": ""
           },
           "baxis": {
            "gridcolor": "white",
            "linecolor": "white",
            "ticks": ""
           },
           "bgcolor": "#E5ECF6",
           "caxis": {
            "gridcolor": "white",
            "linecolor": "white",
            "ticks": ""
           }
          },
          "title": {
           "x": 0.05
          },
          "xaxis": {
           "automargin": true,
           "gridcolor": "white",
           "linecolor": "white",
           "ticks": "",
           "title": {
            "standoff": 15
           },
           "zerolinecolor": "white",
           "zerolinewidth": 2
          },
          "yaxis": {
           "automargin": true,
           "gridcolor": "white",
           "linecolor": "white",
           "ticks": "",
           "title": {
            "standoff": 15
           },
           "zerolinecolor": "white",
           "zerolinewidth": 2
          }
         }
        },
        "width": 384,
        "xaxis": {
         "anchor": "y",
         "autorange": true,
         "color": "black",
         "domain": [
          0,
          1
         ],
         "range": [
          -0.6816482875432939,
          0.8168656481946479
         ],
         "title": {
          "text": "Dim 1 (49.5%)"
         },
         "type": "linear"
        },
        "yaxis": {
         "anchor": "x",
         "autorange": true,
         "color": "black",
         "domain": [
          0,
          1
         ],
         "range": [
          -0.4490320057886156,
          0.6427700780873256
         ],
         "title": {
          "standoff": 2,
          "text": "Dim 2 (6.8%)"
         },
         "type": "linear"
        }
       }
      },
      "image/png": "[encoded data removed]",
      "text/html": [
       "<div>                            <div id=\"76f605ac-a543-48b6-8276-f2b424a12df7\" class=\"plotly-graph-div\" style=\"height:240.0px; width:384px;\"></div>            <script type=\"text/javascript\">                require([\"plotly\"], function(Plotly) {                    window.PLOTLYENV=window.PLOTLYENV || {};                                    if (document.getElementById(\"76f605ac-a543-48b6-8276-f2b424a12df7\")) {                    Plotly.newPlot(                        \"76f605ac-a543-48b6-8276-f2b424a12df7\",                        [{\"hovertemplate\":\"symbol=Control\\u003cbr\\u003ex=%{x}\\u003cbr\\u003ey=%{y}\\u003cbr\\u003ecolor=%{marker.color}\\u003cextra\\u003e\\u003c\\u002fextra\\u003e\",\"legendgroup\":\"Control\",\"marker\":{\"color\":[0.05,0.1,0.15,0.2,0.25,0.3,0.35,0.4,0.45,0.5,0.55,0.6,0.65,0.7,0.75,0.8,0.85,0.9,0.95],\"coloraxis\":\"coloraxis\",\"symbol\":\"square\"},\"mode\":\"markers\",\"name\":\"Control\",\"orientation\":\"v\",\"showlegend\":true,\"x\":[0.7135695530088213,0.7135695530088213,0.7063217587771309,0.6896857848243388,0.6641060903715761,0.6091626560184491,0.5537118840041908,0.3520328117611067,-0.21148447095720957,-0.23535049438171798,-0.26696664642712126,-0.3195648663132678,-0.3714893470261065,-0.4471664477310855,-0.4650148163384247,-0.4760855147223883,-0.5091234907457634,-0.5084603439106601,-0.5120802371915568],\"xaxis\":\"x\",\"y\":[-0.15748503404496364,-0.15748503404496364,-0.1462903384262437,-0.09131970770198157,-0.055036716583793284,0.011323542828325166,0.06302326307504703,0.22026466805784917,0.2453309974718256,0.23552766930048885,0.21764734116160275,0.1574905807917832,0.07490684273806719,-0.054514082877906926,-0.09764657591888354,-0.12767777543508116,-0.2728796472759802,-0.30440561589565696,-0.3462947358742443],\"yaxis\":\"y\",\"type\":\"scatter\"},{\"hovertemplate\":\"symbol=H2O2\\u003cbr\\u003ex=%{x}\\u003cbr\\u003ey=%{y}\\u003cbr\\u003ecolor=%{marker.color}\\u003cextra\\u003e\\u003c\\u002fextra\\u003e\",\"legendgroup\":\"H2O2\",\"marker\":{\"color\":[0.05,0.1,0.15,0.2,0.25,0.3,0.35,0.4,0.45,0.5,0.55,0.6,0.65,0.7,0.75,0.8,0.85,0.9,0.95],\"coloraxis\":\"coloraxis\",\"symbol\":\"circle\"},\"mode\":\"markers\",\"name\":\"H2O2\",\"orientation\":\"v\",\"showlegend\":true,\"x\":[0.7095126052292227,0.7095126052292227,0.6683389768054259,0.640807743161247,0.595186629068141,0.5522110458798171,0.5055273783417461,0.36044910888098775,-0.24897625029039094,-0.2756706265039998,-0.3336596385609169,-0.36661955529571,-0.43930899652883715,-0.46167013210125435,-0.4807530321046334,-0.48396081790706114,-0.5223312474699164,-0.5254298187469028,-0.5384142623327873],\"xaxis\":\"x\",\"y\":[-0.16711748215052144,-0.16711748215052144,-0.11257109644230612,-0.037563957293384756,0.04442768703598275,0.07334294271112435,0.1061589366301513,0.18196131308717486,0.3091117119161173,0.2836400793532374,0.2291157456679408,0.17521883915802955,0.028069019145009245,-0.021698005836795473,-0.07315759763115319,-0.13844244493394733,-0.29781751051268623,-0.3289616039090682,-0.3645019234681864],\"yaxis\":\"y\",\"type\":\"scatter\"},{\"hovertemplate\":\"symbol=NaCl\\u003cbr\\u003ex=%{x}\\u003cbr\\u003ey=%{y}\\u003cbr\\u003ecolor=%{marker.color}\\u003cextra\\u003e\\u003c\\u002fextra\\u003e\",\"legendgroup\":\"NaCl\",\"marker\":{\"color\":[0.05,0.1,0.15,0.2,0.25,0.3,0.35,0.4,0.45,0.5,0.55,0.6,0.65,0.7,0.75,0.8,0.85,0.9,0.95],\"coloraxis\":\"coloraxis\",\"symbol\":\"x\"},\"mode\":\"markers\",\"name\":\"NaCl\",\"orientation\":\"v\",\"showlegend\":true,\"x\":[0.7192809705246166,0.7192809705246166,0.6970461602996161,0.6690530320493275,0.6429926405517118,0.5870889535441168,0.33265717623632735,0.3166239726661862,-0.232234212082002,-0.28919576112332734,-0.3368263434071695,-0.40057641711276737,-0.44103988430022956,-0.470495355017287,-0.48179662257350997,-0.49317794302835305,-0.5264075076978422,-0.5357927103378123,-0.5407884030033927],\"xaxis\":\"x\",\"y\":[-0.1429983772558967,-0.1429983772558967,-0.11509499473876068,-0.07828643634084487,-0.04215672189405152,0.006763627002144307,0.22908291651970686,0.23957246975770402,0.24132723835999206,0.2251771443496137,0.1637792975384788,0.06601795904223727,-0.012102263467112021,-0.08101301795929447,-0.12345468544282873,-0.1596970929953148,-0.26537840640275623,-0.31200042707909337,-0.36885279025397616],\"yaxis\":\"y\",\"type\":\"scatter\"},{\"hovertemplate\":\"symbol=Sorbitol\\u003cbr\\u003ex=%{x}\\u003cbr\\u003ey=%{y}\\u003cbr\\u003ecolor=%{marker.color}\\u003cextra\\u003e\\u003c\\u002fextra\\u003e\",\"legendgroup\":\"Sorbitol\",\"marker\":{\"color\":[0.05,0.1,0.15,0.2,0.25,0.3,0.35,0.4,0.45,0.5,0.55,0.6,0.65,0.7,0.75,0.8,0.85,0.9,0.95],\"coloraxis\":\"coloraxis\",\"symbol\":\"triangle-up\"},\"mode\":\"markers\",\"name\":\"Sorbitol\",\"orientation\":\"v\",\"showlegend\":true,\"x\":[0.7119461627752064,0.7119461627752064,0.6672747223114608,0.622225750762245,0.5705663892352344,0.5445365593188893,0.41982089226716657,0.2691717433237502,-0.27168361122845586,-0.31511627665034814,-0.3676470943954198,-0.4234562480680135,-0.49372331944597986,-0.5171245118103,-0.536623689565294,-0.5449638233685403,-0.56747592800091,-0.5754281178580091,-0.5840636098732626],\"xaxis\":\"x\",\"y\":[-0.15151013494733837,-0.15151013494733837,-0.10874391992177111,-0.013757350915329519,0.05910011916317709,0.07512851684484695,0.1729262222880907,0.27769875629130775,0.4089943499771892,0.38714633111199664,0.3577620459402158,0.280313827102531,0.15066369211235914,0.09325759431953855,0.045789077532503004,0.017831500954325813,-0.07639507849556294,-0.12053561304781318,-0.1684236745684661],\"yaxis\":\"y\",\"type\":\"scatter\"}],                        {\"template\":{\"data\":{\"histogram2dcontour\":[{\"type\":\"histogram2dcontour\",\"colorbar\":{\"outlinewidth\":0,\"ticks\":\"\"},\"colorscale\":[[0.0,\"#0d0887\"],[0.1111111111111111,\"#46039f\"],[0.2222222222222222,\"#7201a8\"],[0.3333333333333333,\"#9c179e\"],[0.4444444444444444,\"#bd3786\"],[0.5555555555555556,\"#d8576b\"],[0.6666666666666666,\"#ed7953\"],[0.7777777777777778,\"#fb9f3a\"],[0.8888888888888888,\"#fdca26\"],[1.0,\"#f0f921\"]]}],\"choropleth\":[{\"type\":\"choropleth\",\"colorbar\":{\"outlinewidth\":0,\"ticks\":\"\"}}],\"histogram2d\":[{\"type\":\"histogram2d\",\"colorbar\":{\"outlinewidth\":0,\"ticks\":\"\"},\"colorscale\":[[0.0,\"#0d0887\"],[0.1111111111111111,\"#46039f\"],[0.2222222222222222,\"#7201a8\"],[0.3333333333333333,\"#9c179e\"],[0.4444444444444444,\"#bd3786\"],[0.5555555555555556,\"#d8576b\"],[0.6666666666666666,\"#ed7953\"],[0.7777777777777778,\"#fb9f3a\"],[0.8888888888888888,\"#fdca26\"],[1.0,\"#f0f921\"]]}],\"heatmap\":[{\"type\":\"heatmap\",\"colorbar\":{\"outlinewidth\":0,\"ticks\":\"\"},\"colorscale\":[[0.0,\"#0d0887\"],[0.1111111111111111,\"#46039f\"],[0.2222222222222222,\"#7201a8\"],[0.3333333333333333,\"#9c179e\"],[0.4444444444444444,\"#bd3786\"],[0.5555555555555556,\"#d8576b\"],[0.6666666666666666,\"#ed7953\"],[0.7777777777777778,\"#fb9f3a\"],[0.8888888888888888,\"#fdca26\"],[1.0,\"#f0f921\"]]}],\"heatmapgl\":[{\"type\":\"heatmapgl\",\"colorbar\":{\"outlinewidth\":0,\"ticks\":\"\"},\"colorscale\":[[0.0,\"#0d0887\"],[0.1111111111111111,\"#46039f\"],[0.2222222222222222,\"#7201a8\"],[0.3333333333333333,\"#9c179e\"],[0.4444444444444444,\"#bd3786\"],[0.5555555555555556,\"#d8576b\"],[0.6666666666666666,\"#ed7953\"],[0.7777777777777778,\"#fb9f3a\"],[0.8888888888888888,\"#fdca26\"],[1.0,\"#f0f921\"]]}],\"contourcarpet\":[{\"type\":\"contourcarpet\",\"colorbar\":{\"outlinewidth\":0,\"ticks\":\"\"}}],\"contour\":[{\"type\":\"contour\",\"colorbar\":{\"outlinewidth\":0,\"ticks\":\"\"},\"colorscale\":[[0.0,\"#0d0887\"],[0.1111111111111111,\"#46039f\"],[0.2222222222222222,\"#7201a8\"],[0.3333333333333333,\"#9c179e\"],[0.4444444444444444,\"#bd3786\"],[0.5555555555555556,\"#d8576b\"],[0.6666666666666666,\"#ed7953\"],[0.7777777777777778,\"#fb9f3a\"],[0.8888888888888888,\"#fdca26\"],[1.0,\"#f0f921\"]]}],\"surface\":[{\"type\":\"surface\",\"colorbar\":{\"outlinewidth\":0,\"ticks\":\"\"},\"colorscale\":[[0.0,\"#0d0887\"],[0.1111111111111111,\"#46039f\"],[0.2222222222222222,\"#7201a8\"],[0.3333333333333333,\"#9c179e\"],[0.4444444444444444,\"#bd3786\"],[0.5555555555555556,\"#d8576b\"],[0.6666666666666666,\"#ed7953\"],[0.7777777777777778,\"#fb9f3a\"],[0.8888888888888888,\"#fdca26\"],[1.0,\"#f0f921\"]]}],\"mesh3d\":[{\"type\":\"mesh3d\",\"colorbar\":{\"outlinewidth\":0,\"ticks\":\"\"}}],\"scatter\":[{\"fillpattern\":{\"fillmode\":\"overlay\",\"size\":10,\"solidity\":0.2},\"type\":\"scatter\"}],\"parcoords\":[{\"type\":\"parcoords\",\"line\":{\"colorbar\":{\"outlinewidth\":0,\"ticks\":\"\"}}}],\"scatterpolargl\":[{\"type\":\"scatterpolargl\",\"marker\":{\"colorbar\":{\"outlinewidth\":0,\"ticks\":\"\"}}}],\"bar\":[{\"error_x\":{\"color\":\"#2a3f5f\"},\"error_y\":{\"color\":\"#2a3f5f\"},\"marker\":{\"line\":{\"color\":\"#E5ECF6\",\"width\":0.5},\"pattern\":{\"fillmode\":\"overlay\",\"size\":10,\"solidity\":0.2}},\"type\":\"bar\"}],\"scattergeo\":[{\"type\":\"scattergeo\",\"marker\":{\"colorbar\":{\"outlinewidth\":0,\"ticks\":\"\"}}}],\"scatterpolar\":[{\"type\":\"scatterpolar\",\"marker\":{\"colorbar\":{\"outlinewidth\":0,\"ticks\":\"\"}}}],\"histogram\":[{\"marker\":{\"pattern\":{\"fillmode\":\"overlay\",\"size\":10,\"solidity\":0.2}},\"type\":\"histogram\"}],\"scattergl\":[{\"type\":\"scattergl\",\"marker\":{\"colorbar\":{\"outlinewidth\":0,\"ticks\":\"\"}}}],\"scatter3d\":[{\"type\":\"scatter3d\",\"line\":{\"colorbar\":{\"outlinewidth\":0,\"ticks\":\"\"}},\"marker\":{\"colorbar\":{\"outlinewidth\":0,\"ticks\":\"\"}}}],\"scattermapbox\":[{\"type\":\"scattermapbox\",\"marker\":{\"colorbar\":{\"outlinewidth\":0,\"ticks\":\"\"}}}],\"scatterternary\":[{\"type\":\"scatterternary\",\"marker\":{\"colorbar\":{\"outlinewidth\":0,\"ticks\":\"\"}}}],\"scattercarpet\":[{\"type\":\"scattercarpet\",\"marker\":{\"colorbar\":{\"outlinewidth\":0,\"ticks\":\"\"}}}],\"carpet\":[{\"aaxis\":{\"endlinecolor\":\"#2a3f5f\",\"gridcolor\":\"white\",\"linecolor\":\"white\",\"minorgridcolor\":\"white\",\"startlinecolor\":\"#2a3f5f\"},\"baxis\":{\"endlinecolor\":\"#2a3f5f\",\"gridcolor\":\"white\",\"linecolor\":\"white\",\"minorgridcolor\":\"white\",\"startlinecolor\":\"#2a3f5f\"},\"type\":\"carpet\"}],\"table\":[{\"cells\":{\"fill\":{\"color\":\"#EBF0F8\"},\"line\":{\"color\":\"white\"}},\"header\":{\"fill\":{\"color\":\"#C8D4E3\"},\"line\":{\"color\":\"white\"}},\"type\":\"table\"}],\"barpolar\":[{\"marker\":{\"line\":{\"color\":\"#E5ECF6\",\"width\":0.5},\"pattern\":{\"fillmode\":\"overlay\",\"size\":10,\"solidity\":0.2}},\"type\":\"barpolar\"}],\"pie\":[{\"automargin\":true,\"type\":\"pie\"}]},\"layout\":{\"autotypenumbers\":\"strict\",\"colorway\":[\"#636efa\",\"#EF553B\",\"#00cc96\",\"#ab63fa\",\"#FFA15A\",\"#19d3f3\",\"#FF6692\",\"#B6E880\",\"#FF97FF\",\"#FECB52\"],\"font\":{\"color\":\"#2a3f5f\"},\"hovermode\":\"closest\",\"hoverlabel\":{\"align\":\"left\"},\"paper_bgcolor\":\"white\",\"plot_bgcolor\":\"#E5ECF6\",\"polar\":{\"bgcolor\":\"#E5ECF6\",\"angularaxis\":{\"gridcolor\":\"white\",\"linecolor\":\"white\",\"ticks\":\"\"},\"radialaxis\":{\"gridcolor\":\"white\",\"linecolor\":\"white\",\"ticks\":\"\"}},\"ternary\":{\"bgcolor\":\"#E5ECF6\",\"aaxis\":{\"gridcolor\":\"white\",\"linecolor\":\"white\",\"ticks\":\"\"},\"baxis\":{\"gridcolor\":\"white\",\"linecolor\":\"white\",\"ticks\":\"\"},\"caxis\":{\"gridcolor\":\"white\",\"linecolor\":\"white\",\"ticks\":\"\"}},\"coloraxis\":{\"colorbar\":{\"outlinewidth\":0,\"ticks\":\"\"}},\"colorscale\":{\"sequential\":[[0.0,\"#0d0887\"],[0.1111111111111111,\"#46039f\"],[0.2222222222222222,\"#7201a8\"],[0.3333333333333333,\"#9c179e\"],[0.4444444444444444,\"#bd3786\"],[0.5555555555555556,\"#d8576b\"],[0.6666666666666666,\"#ed7953\"],[0.7777777777777778,\"#fb9f3a\"],[0.8888888888888888,\"#fdca26\"],[1.0,\"#f0f921\"]],\"sequentialminus\":[[0.0,\"#0d0887\"],[0.1111111111111111,\"#46039f\"],[0.2222222222222222,\"#7201a8\"],[0.3333333333333333,\"#9c179e\"],[0.4444444444444444,\"#bd3786\"],[0.5555555555555556,\"#d8576b\"],[0.6666666666666666,\"#ed7953\"],[0.7777777777777778,\"#fb9f3a\"],[0.8888888888888888,\"#fdca26\"],[1.0,\"#f0f921\"]],\"diverging\":[[0,\"#8e0152\"],[0.1,\"#c51b7d\"],[0.2,\"#de77ae\"],[0.3,\"#f1b6da\"],[0.4,\"#fde0ef\"],[0.5,\"#f7f7f7\"],[0.6,\"#e6f5d0\"],[0.7,\"#b8e186\"],[0.8,\"#7fbc41\"],[0.9,\"#4d9221\"],[1,\"#276419\"]]},\"xaxis\":{\"gridcolor\":\"white\",\"linecolor\":\"white\",\"ticks\":\"\",\"title\":{\"standoff\":15},\"zerolinecolor\":\"white\",\"automargin\":true,\"zerolinewidth\":2},\"yaxis\":{\"gridcolor\":\"white\",\"linecolor\":\"white\",\"ticks\":\"\",\"title\":{\"standoff\":15},\"zerolinecolor\":\"white\",\"automargin\":true,\"zerolinewidth\":2},\"scene\":{\"xaxis\":{\"backgroundcolor\":\"#E5ECF6\",\"gridcolor\":\"white\",\"linecolor\":\"white\",\"showbackground\":true,\"ticks\":\"\",\"zerolinecolor\":\"white\",\"gridwidth\":2},\"yaxis\":{\"backgroundcolor\":\"#E5ECF6\",\"gridcolor\":\"white\",\"linecolor\":\"white\",\"showbackground\":true,\"ticks\":\"\",\"zerolinecolor\":\"white\",\"gridwidth\":2},\"zaxis\":{\"backgroundcolor\":\"#E5ECF6\",\"gridcolor\":\"white\",\"linecolor\":\"white\",\"showbackground\":true,\"ticks\":\"\",\"zerolinecolor\":\"white\",\"gridwidth\":2}},\"shapedefaults\":{\"line\":{\"color\":\"#2a3f5f\"}},\"annotationdefaults\":{\"arrowcolor\":\"#2a3f5f\",\"arrowhead\":0,\"arrowwidth\":1},\"geo\":{\"bgcolor\":\"white\",\"landcolor\":\"#E5ECF6\",\"subunitcolor\":\"white\",\"showland\":true,\"showlakes\":true,\"lakecolor\":\"white\"},\"title\":{\"x\":0.05},\"mapbox\":{\"style\":\"light\"}}},\"xaxis\":{\"anchor\":\"y\",\"domain\":[0.0,1.0],\"title\":{\"text\":\"Dim 1 (49.5%)\"},\"color\":\"black\"},\"yaxis\":{\"anchor\":\"x\",\"domain\":[0.0,1.0],\"title\":{\"text\":\"Dim 2 (6.8%)\",\"standoff\":2},\"color\":\"black\"},\"coloraxis\":{\"colorbar\":{\"title\":{\"text\":\"Threshold\"},\"yanchor\":\"top\",\"y\":0.4,\"x\":1.01,\"ticks\":\"outside\",\"len\":0.7},\"colorscale\":[[0.0,\"#fde725\"],[0.1111111111111111,\"#b5de2b\"],[0.2222222222222222,\"#6ece58\"],[0.3333333333333333,\"#35b779\"],[0.4444444444444444,\"#1f9e89\"],[0.5555555555555556,\"#26828e\"],[0.6666666666666666,\"#31688e\"],[0.7777777777777778,\"#3e4989\"],[0.8888888888888888,\"#482878\"],[1.0,\"#440154\"]]},\"legend\":{\"title\":{\"text\":\"Condition\"},\"tracegroupgap\":0},\"margin\":{\"t\":20,\"l\":20,\"r\":20,\"b\":20},\"font\":{\"size\":10,\"family\":\"Arial\"},\"width\":384,\"height\":240.0,\"annotations\":[{\"arrowcolor\":\"red\",\"arrowhead\":2,\"arrowsize\":1,\"ax\":40,\"ay\":0,\"font\":{\"color\":\"black\",\"size\":10},\"showarrow\":true,\"text\":\"0.4, Control\",\"x\":0.3520328117611067,\"y\":0.22026466805784917},{\"arrowcolor\":\"red\",\"arrowhead\":2,\"arrowsize\":1,\"ax\":-20,\"ay\":20,\"font\":{\"color\":\"black\",\"size\":10},\"showarrow\":true,\"text\":\"0.4, H2O2\",\"x\":0.36044910888098775,\"y\":0.18196131308717486},{\"arrowcolor\":\"red\",\"arrowhead\":2,\"arrowsize\":1,\"ax\":25,\"ay\":-20,\"font\":{\"color\":\"black\",\"size\":10},\"showarrow\":true,\"text\":\"0.4, NaCl\",\"x\":0.3166239726661862,\"y\":0.23957246975770402},{\"arrowcolor\":\"red\",\"arrowhead\":2,\"arrowsize\":1,\"ax\":-15,\"ay\":-45,\"font\":{\"color\":\"black\",\"size\":10},\"showarrow\":true,\"text\":\"0.4, Sorbitol\",\"x\":0.2691717433237502,\"y\":0.27769875629130775}]},                        {\"responsive\": true}                    ).then(function(){\n",
       "                            \n",
       "var gd = document.getElementById('76f605ac-a543-48b6-8276-f2b424a12df7');\n",
       "var x = new MutationObserver(function (mutations, observer) {{\n",
       "        var display = window.getComputedStyle(gd).display;\n",
       "        if (!display || display === 'none') {{\n",
       "            console.log([gd, 'removed!']);\n",
       "            Plotly.purge(gd);\n",
       "            observer.disconnect();\n",
       "        }}\n",
       "}});\n",
       "\n",
       "// Listen for the removal of the full notebook cells\n",
       "var notebookContainer = gd.closest('#notebook-container');\n",
       "if (notebookContainer) {{\n",
       "    x.observe(notebookContainer, {childList: true});\n",
       "}}\n",
       "\n",
       "// Listen for the clearing of the current output cell\n",
       "var outputEl = gd.closest('.output');\n",
       "if (outputEl) {{\n",
       "    x.observe(outputEl, {childList: true});\n",
       "}}\n",
       "\n",
       "                        })                };                });            </script>        </div>"
      ]
     },
     "metadata": {},
     "output_type": "display_data"
    }
   ],
   "source": [
    "mca = MCA(n_components=3, random_state=42)\n",
    "components = mca.fit_transform(gimme).to_numpy()\n",
    "\n",
    "indexes = gimme.index.tolist()\n",
    "index_of_interest = [indexes.index(e) for e in indexes if e.endswith(\"0.4\")]\n",
    "\n",
    "def plot(components, y, xaxis_title, yaxis_title, filename, legend_title=\"\", additional_shapes=None, annotations=None, color=None,\n",
    "         width=600, height=360, **kwargs):\n",
    "    if not additional_shapes:\n",
    "        additional_shapes = []\n",
    "    if not annotations:\n",
    "        annotations = []\n",
    "    if not color:\n",
    "        color = y\n",
    "    fig = px.scatter(x=components[:, 0], y=components[:, 1], color=color, **kwargs)\n",
    "    fig.update_layout(\n",
    "        xaxis_title=xaxis_title,\n",
    "        yaxis_title=yaxis_title,\n",
    "        margin=dict(l=20, r=20, t=20, b=20), \n",
    "        font=dict(size=10, family=\"Arial\"),\n",
    "        xaxis=dict(color=\"black\"),  # Set x-axis color to black\n",
    "        yaxis=dict(color=\"black\", title_standoff=2)\n",
    "    )\n",
    "    fig.update_layout(legend_title_text=legend_title, width=width, height=height)\n",
    "    fig.update_layout(coloraxis_colorbar=dict(title='Threshold', yanchor=\"top\", y=0.4, x=1.01, ticks=\"outside\", len=0.7))\n",
    "    for shape in additional_shapes:\n",
    "        fig.add_shape(\n",
    "            shape\n",
    "        )\n",
    "    for ann in annotations:\n",
    "        fig.add_annotation(\n",
    "            ann\n",
    "        )\n",
    "    fig.show()\n",
    "    fig.write_image(f\"{filename}.pdf\", format=\"pdf\", scale=1)\n",
    "\n",
    "symbol_list = [e.split(\"_\")[0].replace(\"nacl\", \"NaCl\").replace(\"h2o2\", \"H2O2\").replace(\"control\", \"Control\").replace(\"sorb\", \"Sorbitol\") for e in gimme.index.tolist()]\n",
    "symbols = ['square', 'circle', 'x', 'triangle-up']\n",
    "\n",
    "\n",
    "annotations=[]\n",
    "for ind in index_of_interest:\n",
    "    if indexes[ind].split('_')[0].endswith(\"sorb\"):\n",
    "        x = -15 \n",
    "        y = -45\n",
    "    elif indexes[ind].split('_')[0].endswith(\"o2\"): \n",
    "        x = -20 \n",
    "        y = 20\n",
    "    elif indexes[ind].split('_')[0].endswith(\"cl\"): \n",
    "        x = 25 \n",
    "        y = -20\n",
    "    else:\n",
    "        x = 40 \n",
    "        y = 0\n",
    "    annotations.append(dict(\n",
    "        x=components[ind, 0],  # Replace `specific_index` with the index of the point\n",
    "        y=components[ind, 1],  # Replace `specific_index` with the index of the point\n",
    "        text=f\"{indexes[ind].split('_')[-1]}, {indexes[ind].split('_')[0].replace('nacl', 'NaCl').replace('h2o2', 'H2O2').replace('control', 'Control').replace('sorb', 'Sorbitol')}\",     # The text you want to display\n",
    "        showarrow=True,                  # Add an arrow pointing to the point\n",
    "        arrowhead=2,                     # Arrowhead style\n",
    "        arrowsize=1,                     # Size of the arrow\n",
    "        arrowcolor=\"red\",                # Color of the arrow\n",
    "        ax=x,                           # Offset for the arrow tail in x-direction\n",
    "        ay=y,                          # Offset for the arrow tail in y-direction\n",
    "        font=dict(size=10, color=\"black\")\n",
    "    ))\n",
    "\n",
    "plot(components, list(float(e.split(\"_\")[-1]) for e in gimme.index.tolist()),\n",
    "    f\"Dim 1 ({round(mca.percentage_of_variance_[0],1)}%)\",\n",
    "    f\"Dim 2 ({round(mca.percentage_of_variance_[1],1)}%)\",\n",
    "    os.path.join(RESULTS_PATH,\"ds_stress_mca_gimme_full\"),\n",
    "    \"Condition\",\n",
    "    annotations=annotations,\n",
    "    symbol = symbol_list, symbol_sequence=symbols,\n",
    "    color_continuous_scale=px.colors.sequential.Viridis_r,\n",
    "    width=4*96,\n",
    "    height=2.5*96\n",
    "    # width=1000\n",
    ")"
   ]
  }
 ],
 "metadata": {
  "kernelspec": {
   "display_name": "Python 3 (ipykernel)",
   "language": "python",
   "name": "python3"
  },
  "language_info": {
   "codemirror_mode": {
    "name": "ipython",
    "version": 3
   },
   "file_extension": ".py",
   "mimetype": "text/x-python",
   "name": "python",
   "nbconvert_exporter": "python",
   "pygments_lexer": "ipython3",
   "version": "3.10.14"
  }
 },
 "nbformat": 4,
 "nbformat_minor": 5
}
